{
 "cells": [
  {
   "cell_type": "code",
   "execution_count": 8,
   "id": "0d124088-4efe-4590-b5d9-972210b7828d",
   "metadata": {
    "tags": []
   },
   "outputs": [],
   "source": [
    "import boto3\n",
    "import json\n",
    "from jinja2 import Environment, FileSystemLoader\n",
    "import sys\n",
    "from pathlib import Path\n",
    "import os"
   ]
  },
  {
   "cell_type": "code",
   "execution_count": 29,
   "id": "e85faf56-d3c6-47f6-9ba3-d16bc91ae510",
   "metadata": {
    "tags": []
   },
   "outputs": [],
   "source": [
    "output_name = \"context\"\n",
    "model_id = \"anthropic.claude-3-sonnet-20240229-v1:0\""
   ]
  },
  {
   "cell_type": "code",
   "execution_count": 9,
   "id": "f245cf52-f136-4f4c-9485-030ca0ecca52",
   "metadata": {
    "tags": []
   },
   "outputs": [
    {
     "data": {
      "text/plain": [
       "'/root/graph-visualizer/prompts-templates'"
      ]
     },
     "execution_count": 9,
     "metadata": {},
     "output_type": "execute_result"
    }
   ],
   "source": [
    "template_dir = os.path.abspath(os.path.join(os.getcwd(),\"../..\",\"prompts-templates\"))\n",
    "template_dir"
   ]
  },
  {
   "cell_type": "code",
   "execution_count": 10,
   "id": "befa54e8-ccd4-4484-91df-d06488cfa117",
   "metadata": {
    "tags": []
   },
   "outputs": [
    {
     "data": {
      "text/plain": [
       "'/root/graph-visualizer/model-results'"
      ]
     },
     "execution_count": 10,
     "metadata": {},
     "output_type": "execute_result"
    }
   ],
   "source": [
    "output_dir = os.path.abspath(os.path.join(os.getcwd(),\"../..\",\"model-results\"))\n",
    "output_dir"
   ]
  },
  {
   "cell_type": "code",
   "execution_count": 11,
   "id": "74943ac4-97d4-4742-8a0e-2f7872219815",
   "metadata": {
    "tags": []
   },
   "outputs": [],
   "source": [
    "template_filename = \"story-prompt-with-ontology-v3.txt\""
   ]
  },
  {
   "cell_type": "code",
   "execution_count": 13,
   "id": "017f5570-7d11-4a0b-b45d-73b53f59f6b7",
   "metadata": {
    "tags": []
   },
   "outputs": [],
   "source": [
    "bedrock_runtime= boto3.client(\"bedrock-runtime\",region_name=\"us-east-1\")"
   ]
  },
  {
   "cell_type": "code",
   "execution_count": 14,
   "id": "4ab8466c-cb28-4b64-825c-d3361277ce96",
   "metadata": {
    "tags": []
   },
   "outputs": [],
   "source": [
    "environment = Environment(loader=FileSystemLoader(template_dir))\n",
    "template = environment.get_template(template_filename)"
   ]
  },
  {
   "cell_type": "code",
   "execution_count": 15,
   "id": "0628eeb1-7640-4b23-a8b4-3cd9dd78719c",
   "metadata": {
    "tags": []
   },
   "outputs": [],
   "source": [
    "prompt = template.render()"
   ]
  },
  {
   "cell_type": "code",
   "execution_count": 19,
   "id": "f8aeba3f-f4fe-43eb-a388-04a2ac140e13",
   "metadata": {
    "tags": []
   },
   "outputs": [],
   "source": [
    "message={\"role\": \"user\",\"content\": prompt}"
   ]
  },
  {
   "cell_type": "code",
   "execution_count": 20,
   "id": "c3bb2892-4eb2-43b5-9840-429a5c980a78",
   "metadata": {
    "tags": []
   },
   "outputs": [],
   "source": [
    "messages = [message]"
   ]
  },
  {
   "cell_type": "code",
   "execution_count": 26,
   "id": "299574ff-68ed-46a0-b78f-03b7a1d51e9a",
   "metadata": {
    "tags": []
   },
   "outputs": [],
   "source": [
    "body=json.dumps(\n",
    "{\n",
    "    'messages':messages,\n",
    "    'anthropic_version':'bedrock-2023-05-31',\n",
    "    'top_p':0.5,\n",
    "    'temperature':0.5,\n",
    "    'top_k':5,\n",
    "    'max_tokens':3000\n",
    "})"
   ]
  },
  {
   "cell_type": "code",
   "execution_count": 27,
   "id": "4ecae9d9-da2d-4f2b-bee6-4e243d311b34",
   "metadata": {
    "tags": []
   },
   "outputs": [],
   "source": [
    "response = bedrock_runtime.invoke_model(\n",
    "    modelId=model_id,\n",
    "    contentType='application/json',\n",
    "    accept='application/json',\n",
    "    body=body\n",
    ")"
   ]
  },
  {
   "cell_type": "code",
   "execution_count": 30,
   "id": "e4389832-7472-4e72-8d1e-e77c033de634",
   "metadata": {
    "tags": []
   },
   "outputs": [],
   "source": [
    "response_body = json.loads(response['body'].read())"
   ]
  },
  {
   "cell_type": "code",
   "execution_count": 31,
   "id": "88e3e37c-6467-4911-9cc3-210479c4471b",
   "metadata": {
    "tags": []
   },
   "outputs": [
    {
     "data": {
      "text/plain": [
       "{'id': 'msg_018pGVoSV5m5K2qe5dLAZxQb',\n",
       " 'type': 'message',\n",
       " 'role': 'assistant',\n",
       " 'content': [{'type': 'text',\n",
       "   'text': '```json\\n{\\n    \"nodes\": [\\n        {\\n            \"id\": \"Knowledge\",\\n            \"attributes\": \"\",\\n            \"type\": \"concept\",\\n            \"group\": 1\\n        },\\n        {\\n            \"id\": \"Monkey\",\\n            \"attributes\": \"hasName, hasPersonalityTrait\",\\n            \"type\": \"animal\",\\n            \"group\": 2\\n        },\\n        {\\n            \"id\": \"BerryTree\",\\n            \"attributes\": \"isLocatedIn, isEdible\",\\n            \"type\": \"plant\",\\n            \"group\": 3\\n        },\\n        {\\n            \"id\": \"RiverBank\",\\n            \"attributes\": \"hasDescription, isReal\",\\n            \"type\": \"location\",\\n            \"group\": 4\\n        },\\n        {\\n            \"id\": \"Crocodile\",\\n            \"attributes\": \"hasName, hasSpecies, hasEmotionalState\",\\n            \"type\": \"animal\",\\n            \"group\": 5\\n        },\\n        {\\n            \"id\": \"Berries\",\\n            \"attributes\": \"isEdible, hasTaste\",\\n            \"type\": \"fruit\",\\n            \"group\": 6\\n        },\\n        {\\n            \"id\": \"Friendship\",\\n            \"attributes\": \"\",\\n            \"type\": \"concept\",\\n            \"group\": 7\\n        },\\n        {\\n            \"id\": \"CrocodileWife\",\\n            \"attributes\": \"hasName, hasPersonalityTrait\",\\n            \"type\": \"animal\",\\n            \"group\": 8\\n        },\\n        {\\n            \"id\": \"MonkeyHeart\",\\n            \"attributes\": \"\",\\n            \"type\": \"bodyPart\",\\n            \"group\": 9\\n        },\\n        {\\n            \"id\": \"Trust\",\\n            \"attributes\": \"\",\\n            \"type\": \"concept\",\\n            \"group\": 10\\n        }\\n    ],\\n    \"links\": [\\n        {\\n            \"source\": \"Knowledge\",\\n            \"target\": \"Monkey\",\\n            \"label\": \"represents\",\\n            \"strength\": 0.1,\\n            \"rationale\": \"The Knowledge node represents the overall context and connects to all other nodes.\"\\n        },\\n        {\\n            \"source\": \"Knowledge\",\\n            \"target\": \"BerryTree\",\\n            \"label\": \"represents\",\\n            \"strength\": 0.1,\\n            \"rationale\": \"The Knowledge node represents the overall context and connects to all other nodes.\"\\n        },\\n        {\\n            \"source\": \"Knowledge\",\\n            \"target\": \"RiverBank\",\\n            \"label\": \"represents\",\\n            \"strength\": 0.1,\\n            \"rationale\": \"The Knowledge node represents the overall context and connects to all other nodes.\"\\n        },\\n        {\\n            \"source\": \"Knowledge\",\\n            \"target\": \"Crocodile\",\\n            \"label\": \"represents\",\\n            \"strength\": 0.1,\\n            \"rationale\": \"The Knowledge node represents the overall context and connects to all other nodes.\"\\n        },\\n        {\\n            \"source\": \"Knowledge\",\\n            \"target\": \"Berries\",\\n            \"label\": \"represents\",\\n            \"strength\": 0.1,\\n            \"rationale\": \"The Knowledge node represents the overall context and connects to all other nodes.\"\\n        },\\n        {\\n            \"source\": \"Knowledge\",\\n            \"target\": \"Friendship\",\\n            \"label\": \"represents\",\\n            \"strength\": 0.1,\\n            \"rationale\": \"The Knowledge node represents the overall context and connects to all other nodes.\"\\n        },\\n        {\\n            \"source\": \"Knowledge\",\\n            \"target\": \"CrocodileWife\",\\n            \"label\": \"represents\",\\n            \"strength\": 0.1,\\n            \"rationale\": \"The Knowledge node represents the overall context and connects to all other nodes.\"\\n        },\\n        {\\n            \"source\": \"Knowledge\",\\n            \"target\": \"MonkeyHeart\",\\n            \"label\": \"represents\",\\n            \"strength\": 0.1,\\n            \"rationale\": \"The Knowledge node represents the overall context and connects to all other nodes.\"\\n        },\\n        {\\n            \"source\": \"Knowledge\",\\n            \"target\": \"Trust\",\\n            \"label\": \"represents\",\\n            \"strength\": 0.1,\\n            \"rationale\": \"The Knowledge node represents the overall context and connects to all other nodes.\"\\n        },\\n        {\\n            \"source\": \"Monkey\",\\n            \"target\": \"BerryTree\",\\n            \"label\": \"livesOn\",\\n            \"strength\": 0.9,\\n            \"rationale\": \"The text explicitly states that the monkey lived on the berry tree.\"\\n        },\\n        {\\n            \"source\": \"BerryTree\",\\n            \"target\": \"RiverBank\",\\n            \"label\": \"isLocatedIn\",\\n            \"strength\": 0.9,\\n            \"rationale\": \"The text mentions that the berry tree was on the river bank.\"\\n        },\\n        {\\n            \"source\": \"Monkey\",\\n            \"target\": \"Crocodile\",\\n            \"label\": \"hasFriend\",\\n            \"strength\": 0.8,\\n            \"rationale\": \"The text states that the monkey and crocodile became friends after the monkey gave the crocodile berries.\"\\n        },\\n        {\\n            \"source\": \"Monkey\",\\n            \"target\": \"Berries\",\\n            \"label\": \"owns\",\\n            \"strength\": 0.9,\\n            \"rationale\": \"The text mentions that the monkey gave berries to the crocodile, implying ownership.\"\\n        },\\n        {\\n            \"source\": \"Crocodile\",\\n            \"target\": \"Berries\",\\n            \"label\": \"eats\",\\n            \"strength\": 0.9,\\n            \"rationale\": \"The text states that the crocodile ate the berries given by the monkey.\"\\n        },\\n        {\\n            \"source\": \"Monkey\",\\n            \"target\": \"Friendship\",\\n            \"label\": \"hasFriend\",\\n            \"strength\": 0.8,\\n            \"rationale\": \"The text mentions that the monkey and crocodile became friends, implying a friendship.\"\\n        },\\n        {\\n            \"source\": \"Crocodile\",\\n            \"target\": \"CrocodileWife\",\\n            \"label\": \"hasMaritalPartner\",\\n            \"strength\": 0.9,\\n            \"rationale\": \"The text refers to the crocodile\\'s wife, implying a marital relationship.\"\\n        },\\n        {\\n            \"source\": \"CrocodileWife\",\\n            \"target\": \"MonkeyHeart\",\\n            \"label\": \"desires\",\\n            \"strength\": 0.9,\\n            \"rationale\": \"The text states that the crocodile\\'s wife wanted to eat the monkey\\'s heart.\"\\n        },\\n        {\\n            \"source\": \"Crocodile\",\\n            \"target\": \"MonkeyHeart\",\\n            \"label\": \"desires\",\\n            \"strength\": 0.7,\\n            \"rationale\": \"The crocodile decided to make his wife happy by getting the monkey\\'s heart, implying a desire.\"\\n        },\\n        {\\n            \"source\": \"Monkey\",\\n            \"target\": \"Trust\",\\n            \"label\": \"hasFriend\",\\n            \"strength\": 0.8,\\n            \"rationale\": \"The text mentions that the monkey\\'s trust was betrayed, implying a friendship and trust initially.\"\\n        },\\n        {\\n            \"source\": \"Crocodile\",\\n            \"target\": \"Trust\",\\n            \"label\": \"deceives\",\\n            \"strength\": 0.9,\\n            \"rationale\": \"The crocodile betrayed the monkey\\'s trust by planning to get the monkey\\'s heart for his wife.\"\\n        }\\n    ],\\n    \"groups\": [\\n        {\\n            \"group_id\": 1,\\n            \"rationale\": \"Overarching concept connecting all elements of the given context\"\\n        },\\n        {\\n            \"group_id\": 2,\\n            \"rationale\": \"The main character in the story, a monkey.\"\\n        },\\n        {\\n            \"group_id\": 3,\\n            \"rationale\": \"The berry tree where the monkey lived and obtained berries from.\"\\n        },\\n        {\\n            \"group_id\": 4,\\n            \"rationale\": \"The location where the berry tree and the events of the story took place.\"\\n        },\\n        {\\n            \"group_id\": 5,\\n            \"rationale\": \"The crocodile, who became friends with the monkey but later betrayed him.\"\\n        },\\n        {\\n            \"group_id\": 6,\\n            \"rationale\": \"The berries that the monkey gave to the crocodile and his wife.\"\\n        },\\n        {\\n            \"group_id\": 7,\\n            \"rationale\": \"The friendship that developed between the monkey and the crocodile.\"\\n        },\\n        {\\n            \"group_id\": 8,\\n            \"rationale\": \"The crocodile\\'s wife, who desired to eat the monkey\\'s heart.\"\\n        },\\n        {\\n            \"group_id\": 9,\\n            \"rationale\": \"The monkey\\'s heart, which the crocodile\\'s wife desired to eat.\"\\n        },\\n        {\\n            \"group_id\": 10,\\n            \"rationale\": \"The trust that the monkey had in the crocodile, which was later betrayed.\"\\n        }\\n    ]\\n}\\n```'}],\n",
       " 'model': 'claude-3-sonnet-28k-20240229',\n",
       " 'stop_reason': 'end_turn',\n",
       " 'stop_sequence': None,\n",
       " 'usage': {'input_tokens': 5817, 'output_tokens': 2205}}"
      ]
     },
     "execution_count": 31,
     "metadata": {},
     "output_type": "execute_result"
    }
   ],
   "source": [
    "response_body"
   ]
  },
  {
   "cell_type": "code",
   "execution_count": 32,
   "id": "abe60c31-98cf-458d-807c-95787ce1c16c",
   "metadata": {
    "tags": []
   },
   "outputs": [],
   "source": [
    "full_output_name = f\"{model_id}-{template_filename.split('.txt')[0]}-{output_name}\""
   ]
  },
  {
   "cell_type": "code",
   "execution_count": 34,
   "id": "67179df5-3f5a-4665-bd3f-accb198c2b47",
   "metadata": {
    "tags": []
   },
   "outputs": [],
   "source": [
    "same_name_count = int(len([f for f in os.listdir(output_dir) if full_output_name in f])/2)"
   ]
  },
  {
   "cell_type": "code",
   "execution_count": 35,
   "id": "541cc108-446a-4007-ab2f-32d845bdd27d",
   "metadata": {
    "tags": []
   },
   "outputs": [],
   "source": [
    "file_count = \"\" if same_name_count ==0 else f'-{same_name_count}'"
   ]
  },
  {
   "cell_type": "code",
   "execution_count": 36,
   "id": "7f291471-d497-4a4a-94a6-70ac830ee119",
   "metadata": {
    "tags": []
   },
   "outputs": [],
   "source": [
    "with open(os.path.join(output_dir,f\"{full_output_name}{file_count}.json\"),\"w+\") as f:\n",
    "    json.dump(response_body,f)"
   ]
  },
  {
   "cell_type": "code",
   "execution_count": 39,
   "id": "c6a463c8-8cba-4bce-a266-cc28294b9e2f",
   "metadata": {
    "tags": []
   },
   "outputs": [],
   "source": [
    "with open(os.path.join(output_dir,f\"{full_output_name}-graph{file_count}.json\"),\"w+\") as f:\n",
    "    json.dump(json.loads(response_body[\"content\"][0][\"text\"].split(\"```\")[1].split(\"json\")[1]),f)"
   ]
  }
 ],
 "metadata": {
  "availableInstances": [
   {
    "_defaultOrder": 0,
    "_isFastLaunch": true,
    "category": "General purpose",
    "gpuNum": 0,
    "hideHardwareSpecs": false,
    "memoryGiB": 4,
    "name": "ml.t3.medium",
    "vcpuNum": 2
   },
   {
    "_defaultOrder": 1,
    "_isFastLaunch": false,
    "category": "General purpose",
    "gpuNum": 0,
    "hideHardwareSpecs": false,
    "memoryGiB": 8,
    "name": "ml.t3.large",
    "vcpuNum": 2
   },
   {
    "_defaultOrder": 2,
    "_isFastLaunch": false,
    "category": "General purpose",
    "gpuNum": 0,
    "hideHardwareSpecs": false,
    "memoryGiB": 16,
    "name": "ml.t3.xlarge",
    "vcpuNum": 4
   },
   {
    "_defaultOrder": 3,
    "_isFastLaunch": false,
    "category": "General purpose",
    "gpuNum": 0,
    "hideHardwareSpecs": false,
    "memoryGiB": 32,
    "name": "ml.t3.2xlarge",
    "vcpuNum": 8
   },
   {
    "_defaultOrder": 4,
    "_isFastLaunch": true,
    "category": "General purpose",
    "gpuNum": 0,
    "hideHardwareSpecs": false,
    "memoryGiB": 8,
    "name": "ml.m5.large",
    "vcpuNum": 2
   },
   {
    "_defaultOrder": 5,
    "_isFastLaunch": false,
    "category": "General purpose",
    "gpuNum": 0,
    "hideHardwareSpecs": false,
    "memoryGiB": 16,
    "name": "ml.m5.xlarge",
    "vcpuNum": 4
   },
   {
    "_defaultOrder": 6,
    "_isFastLaunch": false,
    "category": "General purpose",
    "gpuNum": 0,
    "hideHardwareSpecs": false,
    "memoryGiB": 32,
    "name": "ml.m5.2xlarge",
    "vcpuNum": 8
   },
   {
    "_defaultOrder": 7,
    "_isFastLaunch": false,
    "category": "General purpose",
    "gpuNum": 0,
    "hideHardwareSpecs": false,
    "memoryGiB": 64,
    "name": "ml.m5.4xlarge",
    "vcpuNum": 16
   },
   {
    "_defaultOrder": 8,
    "_isFastLaunch": false,
    "category": "General purpose",
    "gpuNum": 0,
    "hideHardwareSpecs": false,
    "memoryGiB": 128,
    "name": "ml.m5.8xlarge",
    "vcpuNum": 32
   },
   {
    "_defaultOrder": 9,
    "_isFastLaunch": false,
    "category": "General purpose",
    "gpuNum": 0,
    "hideHardwareSpecs": false,
    "memoryGiB": 192,
    "name": "ml.m5.12xlarge",
    "vcpuNum": 48
   },
   {
    "_defaultOrder": 10,
    "_isFastLaunch": false,
    "category": "General purpose",
    "gpuNum": 0,
    "hideHardwareSpecs": false,
    "memoryGiB": 256,
    "name": "ml.m5.16xlarge",
    "vcpuNum": 64
   },
   {
    "_defaultOrder": 11,
    "_isFastLaunch": false,
    "category": "General purpose",
    "gpuNum": 0,
    "hideHardwareSpecs": false,
    "memoryGiB": 384,
    "name": "ml.m5.24xlarge",
    "vcpuNum": 96
   },
   {
    "_defaultOrder": 12,
    "_isFastLaunch": false,
    "category": "General purpose",
    "gpuNum": 0,
    "hideHardwareSpecs": false,
    "memoryGiB": 8,
    "name": "ml.m5d.large",
    "vcpuNum": 2
   },
   {
    "_defaultOrder": 13,
    "_isFastLaunch": false,
    "category": "General purpose",
    "gpuNum": 0,
    "hideHardwareSpecs": false,
    "memoryGiB": 16,
    "name": "ml.m5d.xlarge",
    "vcpuNum": 4
   },
   {
    "_defaultOrder": 14,
    "_isFastLaunch": false,
    "category": "General purpose",
    "gpuNum": 0,
    "hideHardwareSpecs": false,
    "memoryGiB": 32,
    "name": "ml.m5d.2xlarge",
    "vcpuNum": 8
   },
   {
    "_defaultOrder": 15,
    "_isFastLaunch": false,
    "category": "General purpose",
    "gpuNum": 0,
    "hideHardwareSpecs": false,
    "memoryGiB": 64,
    "name": "ml.m5d.4xlarge",
    "vcpuNum": 16
   },
   {
    "_defaultOrder": 16,
    "_isFastLaunch": false,
    "category": "General purpose",
    "gpuNum": 0,
    "hideHardwareSpecs": false,
    "memoryGiB": 128,
    "name": "ml.m5d.8xlarge",
    "vcpuNum": 32
   },
   {
    "_defaultOrder": 17,
    "_isFastLaunch": false,
    "category": "General purpose",
    "gpuNum": 0,
    "hideHardwareSpecs": false,
    "memoryGiB": 192,
    "name": "ml.m5d.12xlarge",
    "vcpuNum": 48
   },
   {
    "_defaultOrder": 18,
    "_isFastLaunch": false,
    "category": "General purpose",
    "gpuNum": 0,
    "hideHardwareSpecs": false,
    "memoryGiB": 256,
    "name": "ml.m5d.16xlarge",
    "vcpuNum": 64
   },
   {
    "_defaultOrder": 19,
    "_isFastLaunch": false,
    "category": "General purpose",
    "gpuNum": 0,
    "hideHardwareSpecs": false,
    "memoryGiB": 384,
    "name": "ml.m5d.24xlarge",
    "vcpuNum": 96
   },
   {
    "_defaultOrder": 20,
    "_isFastLaunch": false,
    "category": "General purpose",
    "gpuNum": 0,
    "hideHardwareSpecs": true,
    "memoryGiB": 0,
    "name": "ml.geospatial.interactive",
    "supportedImageNames": [
     "sagemaker-geospatial-v1-0"
    ],
    "vcpuNum": 0
   },
   {
    "_defaultOrder": 21,
    "_isFastLaunch": true,
    "category": "Compute optimized",
    "gpuNum": 0,
    "hideHardwareSpecs": false,
    "memoryGiB": 4,
    "name": "ml.c5.large",
    "vcpuNum": 2
   },
   {
    "_defaultOrder": 22,
    "_isFastLaunch": false,
    "category": "Compute optimized",
    "gpuNum": 0,
    "hideHardwareSpecs": false,
    "memoryGiB": 8,
    "name": "ml.c5.xlarge",
    "vcpuNum": 4
   },
   {
    "_defaultOrder": 23,
    "_isFastLaunch": false,
    "category": "Compute optimized",
    "gpuNum": 0,
    "hideHardwareSpecs": false,
    "memoryGiB": 16,
    "name": "ml.c5.2xlarge",
    "vcpuNum": 8
   },
   {
    "_defaultOrder": 24,
    "_isFastLaunch": false,
    "category": "Compute optimized",
    "gpuNum": 0,
    "hideHardwareSpecs": false,
    "memoryGiB": 32,
    "name": "ml.c5.4xlarge",
    "vcpuNum": 16
   },
   {
    "_defaultOrder": 25,
    "_isFastLaunch": false,
    "category": "Compute optimized",
    "gpuNum": 0,
    "hideHardwareSpecs": false,
    "memoryGiB": 72,
    "name": "ml.c5.9xlarge",
    "vcpuNum": 36
   },
   {
    "_defaultOrder": 26,
    "_isFastLaunch": false,
    "category": "Compute optimized",
    "gpuNum": 0,
    "hideHardwareSpecs": false,
    "memoryGiB": 96,
    "name": "ml.c5.12xlarge",
    "vcpuNum": 48
   },
   {
    "_defaultOrder": 27,
    "_isFastLaunch": false,
    "category": "Compute optimized",
    "gpuNum": 0,
    "hideHardwareSpecs": false,
    "memoryGiB": 144,
    "name": "ml.c5.18xlarge",
    "vcpuNum": 72
   },
   {
    "_defaultOrder": 28,
    "_isFastLaunch": false,
    "category": "Compute optimized",
    "gpuNum": 0,
    "hideHardwareSpecs": false,
    "memoryGiB": 192,
    "name": "ml.c5.24xlarge",
    "vcpuNum": 96
   },
   {
    "_defaultOrder": 29,
    "_isFastLaunch": true,
    "category": "Accelerated computing",
    "gpuNum": 1,
    "hideHardwareSpecs": false,
    "memoryGiB": 16,
    "name": "ml.g4dn.xlarge",
    "vcpuNum": 4
   },
   {
    "_defaultOrder": 30,
    "_isFastLaunch": false,
    "category": "Accelerated computing",
    "gpuNum": 1,
    "hideHardwareSpecs": false,
    "memoryGiB": 32,
    "name": "ml.g4dn.2xlarge",
    "vcpuNum": 8
   },
   {
    "_defaultOrder": 31,
    "_isFastLaunch": false,
    "category": "Accelerated computing",
    "gpuNum": 1,
    "hideHardwareSpecs": false,
    "memoryGiB": 64,
    "name": "ml.g4dn.4xlarge",
    "vcpuNum": 16
   },
   {
    "_defaultOrder": 32,
    "_isFastLaunch": false,
    "category": "Accelerated computing",
    "gpuNum": 1,
    "hideHardwareSpecs": false,
    "memoryGiB": 128,
    "name": "ml.g4dn.8xlarge",
    "vcpuNum": 32
   },
   {
    "_defaultOrder": 33,
    "_isFastLaunch": false,
    "category": "Accelerated computing",
    "gpuNum": 4,
    "hideHardwareSpecs": false,
    "memoryGiB": 192,
    "name": "ml.g4dn.12xlarge",
    "vcpuNum": 48
   },
   {
    "_defaultOrder": 34,
    "_isFastLaunch": false,
    "category": "Accelerated computing",
    "gpuNum": 1,
    "hideHardwareSpecs": false,
    "memoryGiB": 256,
    "name": "ml.g4dn.16xlarge",
    "vcpuNum": 64
   },
   {
    "_defaultOrder": 35,
    "_isFastLaunch": false,
    "category": "Accelerated computing",
    "gpuNum": 1,
    "hideHardwareSpecs": false,
    "memoryGiB": 61,
    "name": "ml.p3.2xlarge",
    "vcpuNum": 8
   },
   {
    "_defaultOrder": 36,
    "_isFastLaunch": false,
    "category": "Accelerated computing",
    "gpuNum": 4,
    "hideHardwareSpecs": false,
    "memoryGiB": 244,
    "name": "ml.p3.8xlarge",
    "vcpuNum": 32
   },
   {
    "_defaultOrder": 37,
    "_isFastLaunch": false,
    "category": "Accelerated computing",
    "gpuNum": 8,
    "hideHardwareSpecs": false,
    "memoryGiB": 488,
    "name": "ml.p3.16xlarge",
    "vcpuNum": 64
   },
   {
    "_defaultOrder": 38,
    "_isFastLaunch": false,
    "category": "Accelerated computing",
    "gpuNum": 8,
    "hideHardwareSpecs": false,
    "memoryGiB": 768,
    "name": "ml.p3dn.24xlarge",
    "vcpuNum": 96
   },
   {
    "_defaultOrder": 39,
    "_isFastLaunch": false,
    "category": "Memory Optimized",
    "gpuNum": 0,
    "hideHardwareSpecs": false,
    "memoryGiB": 16,
    "name": "ml.r5.large",
    "vcpuNum": 2
   },
   {
    "_defaultOrder": 40,
    "_isFastLaunch": false,
    "category": "Memory Optimized",
    "gpuNum": 0,
    "hideHardwareSpecs": false,
    "memoryGiB": 32,
    "name": "ml.r5.xlarge",
    "vcpuNum": 4
   },
   {
    "_defaultOrder": 41,
    "_isFastLaunch": false,
    "category": "Memory Optimized",
    "gpuNum": 0,
    "hideHardwareSpecs": false,
    "memoryGiB": 64,
    "name": "ml.r5.2xlarge",
    "vcpuNum": 8
   },
   {
    "_defaultOrder": 42,
    "_isFastLaunch": false,
    "category": "Memory Optimized",
    "gpuNum": 0,
    "hideHardwareSpecs": false,
    "memoryGiB": 128,
    "name": "ml.r5.4xlarge",
    "vcpuNum": 16
   },
   {
    "_defaultOrder": 43,
    "_isFastLaunch": false,
    "category": "Memory Optimized",
    "gpuNum": 0,
    "hideHardwareSpecs": false,
    "memoryGiB": 256,
    "name": "ml.r5.8xlarge",
    "vcpuNum": 32
   },
   {
    "_defaultOrder": 44,
    "_isFastLaunch": false,
    "category": "Memory Optimized",
    "gpuNum": 0,
    "hideHardwareSpecs": false,
    "memoryGiB": 384,
    "name": "ml.r5.12xlarge",
    "vcpuNum": 48
   },
   {
    "_defaultOrder": 45,
    "_isFastLaunch": false,
    "category": "Memory Optimized",
    "gpuNum": 0,
    "hideHardwareSpecs": false,
    "memoryGiB": 512,
    "name": "ml.r5.16xlarge",
    "vcpuNum": 64
   },
   {
    "_defaultOrder": 46,
    "_isFastLaunch": false,
    "category": "Memory Optimized",
    "gpuNum": 0,
    "hideHardwareSpecs": false,
    "memoryGiB": 768,
    "name": "ml.r5.24xlarge",
    "vcpuNum": 96
   },
   {
    "_defaultOrder": 47,
    "_isFastLaunch": false,
    "category": "Accelerated computing",
    "gpuNum": 1,
    "hideHardwareSpecs": false,
    "memoryGiB": 16,
    "name": "ml.g5.xlarge",
    "vcpuNum": 4
   },
   {
    "_defaultOrder": 48,
    "_isFastLaunch": false,
    "category": "Accelerated computing",
    "gpuNum": 1,
    "hideHardwareSpecs": false,
    "memoryGiB": 32,
    "name": "ml.g5.2xlarge",
    "vcpuNum": 8
   },
   {
    "_defaultOrder": 49,
    "_isFastLaunch": false,
    "category": "Accelerated computing",
    "gpuNum": 1,
    "hideHardwareSpecs": false,
    "memoryGiB": 64,
    "name": "ml.g5.4xlarge",
    "vcpuNum": 16
   },
   {
    "_defaultOrder": 50,
    "_isFastLaunch": false,
    "category": "Accelerated computing",
    "gpuNum": 1,
    "hideHardwareSpecs": false,
    "memoryGiB": 128,
    "name": "ml.g5.8xlarge",
    "vcpuNum": 32
   },
   {
    "_defaultOrder": 51,
    "_isFastLaunch": false,
    "category": "Accelerated computing",
    "gpuNum": 1,
    "hideHardwareSpecs": false,
    "memoryGiB": 256,
    "name": "ml.g5.16xlarge",
    "vcpuNum": 64
   },
   {
    "_defaultOrder": 52,
    "_isFastLaunch": false,
    "category": "Accelerated computing",
    "gpuNum": 4,
    "hideHardwareSpecs": false,
    "memoryGiB": 192,
    "name": "ml.g5.12xlarge",
    "vcpuNum": 48
   },
   {
    "_defaultOrder": 53,
    "_isFastLaunch": false,
    "category": "Accelerated computing",
    "gpuNum": 4,
    "hideHardwareSpecs": false,
    "memoryGiB": 384,
    "name": "ml.g5.24xlarge",
    "vcpuNum": 96
   },
   {
    "_defaultOrder": 54,
    "_isFastLaunch": false,
    "category": "Accelerated computing",
    "gpuNum": 8,
    "hideHardwareSpecs": false,
    "memoryGiB": 768,
    "name": "ml.g5.48xlarge",
    "vcpuNum": 192
   },
   {
    "_defaultOrder": 55,
    "_isFastLaunch": false,
    "category": "Accelerated computing",
    "gpuNum": 8,
    "hideHardwareSpecs": false,
    "memoryGiB": 1152,
    "name": "ml.p4d.24xlarge",
    "vcpuNum": 96
   },
   {
    "_defaultOrder": 56,
    "_isFastLaunch": false,
    "category": "Accelerated computing",
    "gpuNum": 8,
    "hideHardwareSpecs": false,
    "memoryGiB": 1152,
    "name": "ml.p4de.24xlarge",
    "vcpuNum": 96
   },
   {
    "_defaultOrder": 57,
    "_isFastLaunch": false,
    "category": "Accelerated computing",
    "gpuNum": 0,
    "hideHardwareSpecs": false,
    "memoryGiB": 32,
    "name": "ml.trn1.2xlarge",
    "vcpuNum": 8
   },
   {
    "_defaultOrder": 58,
    "_isFastLaunch": false,
    "category": "Accelerated computing",
    "gpuNum": 0,
    "hideHardwareSpecs": false,
    "memoryGiB": 512,
    "name": "ml.trn1.32xlarge",
    "vcpuNum": 128
   },
   {
    "_defaultOrder": 59,
    "_isFastLaunch": false,
    "category": "Accelerated computing",
    "gpuNum": 0,
    "hideHardwareSpecs": false,
    "memoryGiB": 512,
    "name": "ml.trn1n.32xlarge",
    "vcpuNum": 128
   }
  ],
  "instance_type": "ml.t3.medium",
  "kernelspec": {
   "display_name": "Python 3 (Data Science 3.0)",
   "language": "python",
   "name": "python3__SAGEMAKER_INTERNAL__arn:aws:sagemaker:us-east-1:081325390199:image/sagemaker-data-science-310-v1"
  },
  "language_info": {
   "codemirror_mode": {
    "name": "ipython",
    "version": 3
   },
   "file_extension": ".py",
   "mimetype": "text/x-python",
   "name": "python",
   "nbconvert_exporter": "python",
   "pygments_lexer": "ipython3",
   "version": "3.10.6"
  }
 },
 "nbformat": 4,
 "nbformat_minor": 5
}
