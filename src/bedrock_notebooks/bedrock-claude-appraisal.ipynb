{
 "cells": [
  {
   "cell_type": "code",
   "execution_count": 2,
   "id": "0d124088-4efe-4590-b5d9-972210b7828d",
   "metadata": {
    "tags": []
   },
   "outputs": [],
   "source": [
    "import boto3\n",
    "import json\n",
    "from jinja2 import Environment, FileSystemLoader\n",
    "import sys\n",
    "from pathlib import Path\n",
    "import os"
   ]
  },
  {
   "cell_type": "code",
   "execution_count": 22,
   "id": "f245cf52-f136-4f4c-9485-030ca0ecca52",
   "metadata": {
    "tags": []
   },
   "outputs": [],
   "source": [
    "template_dir = os.path.abspath(os.path.join(os.getcwd(),\"../..\",\"prompts-templates\"))\n",
    "output_dir = os.path.abspath(os.path.join(os.getcwd(),\"../..\",\"model-results\"))\n",
    "ontology_dir = os.path.abspath(os.path.join(os.getcwd(),\"../..\",\"ontologies\"))\n",
    "ontology_name = \"PropertyAppraisalOntology-v2.ttl\"\n",
    "input_text_dir = os.path.abspath(os.path.join(os.getcwd(),\"../..\",\"prompts\"))\n",
    "input_text_name = \"Appraisal-Report-address-appraiser.txt\"\n",
    "template_filename = \"story-prompt-with-ontology-v3-template.txt\"\n",
    "output_name = \"Appraisal-Report-address-appraiser\"\n",
    "model_id = \"anthropic.claude-3-sonnet-20240229-v1:0\""
   ]
  },
  {
   "cell_type": "code",
   "execution_count": 4,
   "id": "017f5570-7d11-4a0b-b45d-73b53f59f6b7",
   "metadata": {
    "tags": []
   },
   "outputs": [],
   "source": [
    "bedrock_runtime= boto3.client(\"bedrock-runtime\",region_name=\"us-east-1\")"
   ]
  },
  {
   "cell_type": "code",
   "execution_count": 5,
   "id": "4ab8466c-cb28-4b64-825c-d3361277ce96",
   "metadata": {
    "tags": []
   },
   "outputs": [],
   "source": [
    "environment = Environment(loader=FileSystemLoader(template_dir))\n",
    "template = environment.get_template(template_filename)"
   ]
  },
  {
   "cell_type": "code",
   "execution_count": 6,
   "id": "facfdd06-3034-45d4-a322-c57099898b2e",
   "metadata": {
    "tags": []
   },
   "outputs": [],
   "source": [
    "with open(os.path.join(ontology_dir,ontology_name),\"r\") as f:\n",
    "    ontology = f.read()"
   ]
  },
  {
   "cell_type": "code",
   "execution_count": 7,
   "id": "589b0526-3eff-434d-9aa7-67e116b27683",
   "metadata": {
    "tags": []
   },
   "outputs": [],
   "source": [
    "with open(os.path.join(input_text_dir,input_text_name),\"r\") as f:\n",
    "    input_text = f.read()"
   ]
  },
  {
   "cell_type": "code",
   "execution_count": 8,
   "id": "0628eeb1-7640-4b23-a8b4-3cd9dd78719c",
   "metadata": {
    "tags": []
   },
   "outputs": [],
   "source": [
    "prompt = template.render(\n",
    "    ontology=ontology,\n",
    "    input_text=input_text\n",
    ")"
   ]
  },
  {
   "cell_type": "code",
   "execution_count": 9,
   "id": "4e7c3bea-c82a-497d-a091-a7b01bd29009",
   "metadata": {
    "tags": []
   },
   "outputs": [
    {
     "data": {
      "text/plain": [
       "'You are a faithful and trusted network graph maker tasked with creating a comprehensive and interconnected representation of a given context provided between the <input> and </input> tags below\\nensuring all nodes are part of a single cluster using the turtle ontology provided between the <ontology> and </ontology> tags. \\nYour job  involves to reason step by step and extract key concepts (nodes) and their relationships (links) \\nfrom the provided text and constructing a JSON.\\n\\nWhile doing so, follow these nine guidelines below faithfully:\\n\\n1. Nodes Identification: Identify key nodes as defined in the classes and attributes section of the ontology\\n\\n2. Relationship Mapping: Establish clear relationships between all nodes using the definitions provided in the relationships section of the ontology.\\n\\n3. Relationship Validation: Confirm each relationship\\'s validity and relevance based on the text. Avoid introducing external concepts not present in the context.\\n\\n4. Source and Target Node Validation: Ensure that every \\'source\\' and \\'target\\' in the Links array of the output JSON corresponds exactly to an \\'id\\' in the Nodes array. \\nBefore adding a link to the Links array, verify that both the \\'source\\' and \\'target\\' nodes are already defined within the Nodes array. \\nThis prevents the introduction of unrepresented concepts or entities in the relationship mapping. \\nIf a potential link involves a node not listed in the Nodes array, you must first add that node to the Nodes array, ensuring it adheres to the Nodes Identification guideline.\\n\\n5. Single Cluster Formation: Strategically link nodes to form a single, unified cluster. Utilize intermediary nodes if necessary to connect disparate sections, \\nensuring no node is isolated.\\n\\n6. Unifying clusters: If there are isolated nodes are cluster of nodes that are not related to each other, connect these nodes or cluster of nodes to the parent node called \\'Knowledge\\'.\\n\\n7. Detailed Relationships: For each link, provide a \\'label\\' describing the relationship, a \\'strength\\' indicating the connection\\'s intensity (0.1-1.0), \\nand a \\'rationale\\' explaining the link\\'s basis.\\n\\n8. Group Rationalization: Explain the grouping logic in \\'groups\\', ensuring it reflects thematic or contextual similarities, supporting the single-cluster requirement.\\n\\n9. Knowledge Node: The Knowledge node should always be the first node with a unique \\'group\\' identifier with value 1, and \\'type\\' with value \\'concept\\'. No other nodes\\nshould be in group 1. The group rationale for group 1 should be, \"Overarching concept connecting all elements of the given context\". \\nLinks to the \\'Knowledge\\' node should have a \\'strength\\' value set to 0.1.\\n\\nBy following these guidelines, create a JSON as indicated below that accurately reflects the interconnected nature of the context, ensuring all nodes are part of one \\ncontinuous network without isolated groups or missing links. The JSON will consist of three primary arrays: \\'nodes\\', \\'links\\' and \\'groups\\'. \\nEach node in \\'nodes\\' must appear at least once in \\'links\\' as either a \\'source\\' or a \\'target\\', ensuring a cohesive, singular network.\\n\\n<ontology>\\n@prefix rdf: <http://www.w3.org/1999/02/22-rdf-syntax-ns#> .\\n@prefix rdfs: <http://www.w3.org/2000/01/rdf-schema#> .\\n@prefix xsd: <http://www.w3.org/2001/XMLSchema#> .\\n@prefix mf: <http://example.org/mf> .\\n\\n<mf:NamedEntity> a xsd:string .\\n<mf:Property> a <mf:NamedEntity> .\\n<mf:PropertyAddress> a <mf:NamedEntity> .\\n<mf:PropertyStreetNumber> a <mf:NamedEntity> .\\n<mf:PropertyStreetName> a <mf:NamedEntity> .\\n<mf:PropertyCity> a <mf:NamedEntity> .\\n<mf:PropertyZip> a <mf:NamedEntity> .\\n<mf:PropertyName> a <mf:NamedEntity> .\\n<mf:PropertyUnits> a <mf:NamedEntity> .\\n<mf:PropertyAppraisedValue> a <mf:NamedEntity> .\\n<mf:PropertyOwner> a <mf:NamedEntity> .\\n<mf:PropertyAppraiser> a <mf:NamedEntity> .\\n<mf:PropertyAppraisalRemarks> a <mf:NamedEntity> .\\n<mf:PropertyAppraisalDate> a xsd:date .\\n<mf:PropertyAppraisalMonth> a xsd:string .\\n<mf:PropertyAppraisalDay> a xsd:int .\\n<mf:PropertyAppraisalYear> a xsd:int .\\n<mf:PropertyAppraisal> a <mf:document> .\\n<mf:PropertyInspectionDate> a xsd:date .\\n<mf:PropertyInspectionMonth> a xsd:string .\\n<mf:PropertyInspectionDay> a xsd:int .\\n<mf:PropertyInspectionYear> a xsd:int .\\n<mf:PropertyTaxInformation> a <mf:NamedEntity> .\\n<mf:PropertyLandArea> a <mf:NamedEntity> .\\n<mf:PropertyZoning> a <mf:NamedEntity> .\\n<mf:PropertyLandValue> a <mf:NamedEntity> .\\n<mf:PropertyTopography> a <mf:NamedEntity> .\\n<mf:PropertyDrainage> a <mf:NamedEntity> .\\n<mf:PropertyUtilities> a <mf:NamedEntity> .\\n<mf:PropertyFloodZoneIndicator> a <mf:NamedEntity> .\\n<mf:PropertyEasement> a <mf:NamedEntity> .\\n<mf:PropertyEncroachment> a <mf:NamedEntity> .\\n<mf:PropertyBuildingType> a <mf:NamedEntity> .\\n<mf:PropertyConstructionType> a <mf:NamedEntity> .\\n<mf:PropertyBuildingType> a <mf:NamedEntity> .\\n<mf:PropertyQuality> a <mf:NamedEntity> .\\n<mf:PropertyYearBuilt> a <mf:NamedEntity> .\\n<mf:PropertyArchitectureStyle> a <mf:NamedEntity> .\\n<mf:PropertyBuildingCondition> a <mf:NamedEntity> .\\n<mf:PropertyEffectiveAge> a <mf:NamedEntity> .\\n<mf:PropertyRemainingEconomicLife> a <mf:NamedEntity> .\\n<mf:PropertyFoundationType> a <mf:NamedEntity> .\\n<mf:PropertyRoofCover> a <mf:NamedEntity> .\\n<mf:PropertyBuildingFrame> a <mf:NamedEntity> .\\n<mf:PropertyElevators> a <mf:NamedEntity> .\\n<mf:PropertyServiceAccess> a <mf:NamedEntity> .\\n<mf:PropertyHeating> a <mf:NamedEntity> .\\n<mf:PropertyCooling> a <mf:NamedEntity> .\\n<mf:PropertyParkingType> a <mf:NamedEntity> .\\n<mf:PropertyOccupancy> a <mf:NamedEntity> .\\n<mf:PropertyLTV> a <mf:NamedEntity> .\\n<mf:PropertyDCR> a <mf:NamedEntity> .\\n\\n\\n\\n<mf:Property> <hasName> <mf:PropertyName> ;\\n\\t    <hasAddress> <mf:PropertyAddress> ;\\n\\t    <hasUnits> <mf:PropertyUnits> ;\\n\\t    <hasOwner> <mf:PropertyOwner> ;\\t    \\n\\t    <hasAppraisal> <mf:PropretyAppraisal> .\\n\\n<mf:PropertyAppraisal> <hasTitle> xsd:string ;\\n\\t\\t     <hasDate> <mf:PropertyAppraisalDate> ;\\n\\t\\t     <hasAppraiser> <mf:PropertyAppraiser> ;\\n\\t\\t     <hasRemarks> <mf:PropertyAppraisalRemarks> ;\\n\\t\\t     <hasAppraisedValue> <mf:PropertyAppraisedValue> .\\n\\n<mf:PropertyAddress> <hasStreetNumber> <mf:PropertyStreetNumber> ;\\n\\t\\t      <hasStreetName> <mf:PropertyStreetName> ;\\n\\t\\t       <hasCity> <mf:PropertyCity> ;\\n\\t\\t      <hasState> <mf:PropertyState> ;\\n\\t\\t      <hasZip> <mf:PropertyZip> .\\n\\n<mf:PropertyAppraisalDate> <hasMonth> <mf:PropertyAppraisalMonth> ;\\n\\t\\t\\t   <hasDay> <mf:PropertyAppraisalDay> ;\\n\\t\\t\\t   <hasYear> <mf:PropertyAppraisalYear> .\\n\\n<mf:PropertyInspectionDate> <hasMonth> <mf:PropertyInspectionMonth> ;\\n\\t\\t\\t   <hasDay> <mf:PropertyInspectionDay> ;\\n\\t\\t\\t   <hasYear> <mf:PropertyInspectionYear> .\\n\\n<mf:PropertyOwner> rdfs:label \"Owner\" .\\n<mf:PropertyAppraisalDate> rdfs:label \"Date of Report\" , \"Date of the appraisal\" , \"Date:\".\\n<mf:PropertyInspectionDate> rdfs:label \"Date of Inspection\" , \"Inspection Date\".\\n<mf:PropertyAppraisedValue> rdfs:label \"Assessed Value\" , \"Market Value\" , \"Final Value\".\\n<mf:PropertyUnits> rdfs:label \"Number of Units\" .\\n<mf:PropertyTaxInformation> rdfs:label \"Tax Identification:\" .\\n<mf:PropertyLandArea> rdfs:label \"Land Area:\" .\\n<mf:PropertyZoning> rdfs:label \"Zoning:\" .\\n<mf:PropertyLandValue> rdfs:label \"Land Value:\" .\\n<mf:PropertyTopography> rdfs:label \"Topography:\" .\\n<mf:PropertyDrainage> rdfs:label \"Drainage:\" .\\n<mf:PropertyUtilities> rdfs:label \"Utilities:\" .\\n<mf:PropertyFloodZoneIndicator> rdfs:label \"Flood Zone:\" .\\n<mf:PropertyEasement> rdfs:label \"Easements:\" .\\n<mf:PropertyEncroachment> rdfs:label \"Encroachments:\" .\\n<mf:PropertyBuildingType> rdfs:label \"Building Type:\" .\\n<mf:PropertyConstructionType> rdfs:label \"Construction:\" .\\n<mf:PropertyBuildingType> rdfs:label \"Number of Units\" .\\n<mf:PropertyQuality> rdfs:label \"Quality:\" .\\n<mf:PropertyYearBuilt> rdfs:label \"Year Built:\" .\\n<mf:PropertyArchitectureStyle> rdfs:label \"Architectural Style:\" .\\n<mf:PropertyBuildingCondition> rdfs:label \"Condition:\" .\\n<mf:PropertyEffectiveAge> rdfs:label \"Effective Age:\" .\\n<mf:PropertyRemainingEconomicLife> rdfs:label \"Remaining Economic Life:\" .\\n<mf:PropertyFoundationType> rdfs:label \"Foundation:\" .\\n<mf:PropertyRoofCover> rdfs:label \"Roof/Cover:\" .\\n<mf:PropertyBuildingFrame> rdfs:label \"Frame:\" .\\n<mf:PropertyElevators> rdfs:label \"Elevators:\" .\\n<mf:PropertyServiceAccess> rdfs:label \"Service / Access/ Overhead Doors:\" .\\n<mf:PropertyHeating> rdfs:label \"Heating:\" .\\n<mf:PropertyCooling> rdfs:label \"Cooling:\" .\\n<mf:PropertyParkingType> rdfs:label \"Parking Type and Condition of Spaces:\" .\\n<mf:PropertyLTV> rdfs:label \"Loan to Value Ratio\" .\\n<mf:PropertyDCR> rdfs:label \"Debt Coverage Ratio\" .\\n\\n</ontology>\\n\\nThe output should be a markdown code snippet formatted in the following schema, including the leading and trailing \"```json\" and \"```\":\\n\\n```json\\n{\\n    \"nodes\":  array // Each element in the \\'nodes\\' array represents an entity. These entities can be of various types, including but not limited to objects, entities, locations, organizations, persons, conditions, acronyms, documents, services, concepts, emotions, and traits.\\n    [\\n        \"id\": string, // A unique identifier string for each node from the input text. Do not use numbers for this.\\n        \"attributes\": string, // One or many comma-separated attributes of the node described in the input text. Use only those attributes as defined in the attributes section of the ontology\\n        \"type\": string, // A field indicating the category of the entity, such as \\'entity\\', \\'location\\', \\'organization\\', \\'person\\', \\'animal\\', \\'bird\\', \\'fish\\' \\'condition\\', \\'acronym\\', \\'document\\', \\'service\\', \\'emotion\\', \\'trait\\', or \\'concept\\'.\\n        \"group\": integer // A numerical field indicating the group to which the node belongs. Nodes that are related or belong to the same group will share the same group number.\\n\\n    ],\\n    \"links\": array // Each element in the \\'links\\' array represents a relationship between two nodes. Use the following logic to create the Links Array. Read the input text again. Now review the list of nodes in the Nodes array. For every node represented by the \\'id\\' field in the Nodes array, reason step by step to find a relation with another node in the Nodes array. For each such relationship,  add an element to the Links Array containing the following fields:\\n    [\\n        \"source\": string, // The \\'id\\' of the node where the relationship originates.\\n        \"target\": string, // The \\'id\\' of the node where the relationship is directed.\\n        \"label\": string, // A descriptive label indicating the nature of the relationship between the \\'source\\' and \\'target\\'. Indicate the function if the \\'target\\' is a part or component of \\'source\\'.\\n        \"strength\": number, // A numerical value ranging from 0.1 to 1.0, representing the strength of the relationship, with 1.0 being the strongest and 0.1 the weakest.\\n        \"rationale\": string //A textual description indicating your rationale for coming up with the strength for each relationship.\\n    ],\\n    \"groups\" : // This array should indicate the rationale for the grouping indicated in the \\'group\\' field of the Nodes array. There should be one element in this array for each unique group. Each element in the \\'groups\\' aray will contain the following fields:\\n    [\\n        \"group_id\" : integer, // The group number\\n        \"rationale\": string // A textual description of the thematic or contextual similarities between the nodes that make up the group.\\n    ]\\n}\\n```\\n\\n<input> \\nAPPRAISAL REPORT\\nPROPERTY: COLLEGE COURTYARD APARTMENTS & RAIDER HOUSING\\nA 62 UNIT MULTI-FAMILY RESIDENTIAL PROPERTY\\n28 & 30 GARDEN LANE\\nNICEVILLE, OKALOOSA COUNTY, FL 32578\\nCLIENT: NORTHWEST FLORIDA STATE COLLEGE FOUNDATION\\nEQUIVALUE APPRAISAL LLC\\nPROFESSIONAL APPRAISAL AND VALUATION SERVICES\\nPO BOX 5326\\nDESTIN, FLORIDA 32540\\nPHONE (850) 424-611\\nJason P. Shirey, MAI, CCIM, CPM\\nState Certified General Real Estate Appraiser RZ3186\\nDirect Phone (850) 543-5953 (Mobile)\\nEquiValue Appraisal No. 190416\\nJosette D. Jackson, CCIM\\nState Certified General Real Estate Appraiser RZ3275\\n</input>'"
      ]
     },
     "execution_count": 9,
     "metadata": {},
     "output_type": "execute_result"
    }
   ],
   "source": [
    "prompt"
   ]
  },
  {
   "cell_type": "code",
   "execution_count": 10,
   "id": "ccb07fba-f975-4b5c-bc32-71c5d9b930ae",
   "metadata": {
    "tags": []
   },
   "outputs": [],
   "source": [
    "message={\"role\": \"user\",\"content\": prompt}"
   ]
  },
  {
   "cell_type": "code",
   "execution_count": 11,
   "id": "8506f933-0022-4616-bc01-578c10e43d20",
   "metadata": {
    "tags": []
   },
   "outputs": [],
   "source": [
    "messages = [message]"
   ]
  },
  {
   "cell_type": "code",
   "execution_count": 16,
   "id": "299574ff-68ed-46a0-b78f-03b7a1d51e9a",
   "metadata": {
    "tags": []
   },
   "outputs": [],
   "source": [
    "body=json.dumps(\n",
    "{\n",
    "    'messages':messages,\n",
    "    'anthropic_version':'bedrock-2023-05-31',\n",
    "    'top_p':0.5,\n",
    "    'temperature':0.5,\n",
    "    'top_k':5,\n",
    "    'max_tokens':3000\n",
    "})"
   ]
  },
  {
   "cell_type": "code",
   "execution_count": 17,
   "id": "17eaa8fa-1b79-4bc3-934d-4df9fa671a80",
   "metadata": {
    "tags": []
   },
   "outputs": [],
   "source": [
    "response = bedrock_runtime.invoke_model(\n",
    "    modelId=model_id,\n",
    "    contentType='application/json',\n",
    "    accept='application/json',\n",
    "    body=body\n",
    ")"
   ]
  },
  {
   "cell_type": "code",
   "execution_count": 18,
   "id": "e4389832-7472-4e72-8d1e-e77c033de634",
   "metadata": {
    "tags": []
   },
   "outputs": [],
   "source": [
    "response_body = json.loads(response['body'].read())"
   ]
  },
  {
   "cell_type": "code",
   "execution_count": 19,
   "id": "c2eaa183-e720-4bf2-8d95-a0b4a84e2a18",
   "metadata": {
    "tags": []
   },
   "outputs": [
    {
     "data": {
      "text/plain": [
       "{'id': 'msg_01UBywHZ55xSyvY8TJeeAA3i',\n",
       " 'type': 'message',\n",
       " 'role': 'assistant',\n",
       " 'content': [{'type': 'text',\n",
       "   'text': '```json\\n{\\n    \"nodes\": [\\n        {\\n            \"id\": \"Knowledge\",\\n            \"attributes\": \"\",\\n            \"type\": \"concept\",\\n            \"group\": 1\\n        },\\n        {\\n            \"id\": \"PropertyAppraisal\",\\n            \"attributes\": \"hasTitle, hasDate, hasAppraiser, hasRemarks, hasAppraisedValue\",\\n            \"type\": \"document\",\\n            \"group\": 2\\n        },\\n        {\\n            \"id\": \"PropertyAppraisalDate\",\\n            \"attributes\": \"hasMonth, hasDay, hasYear\",\\n            \"type\": \"entity\",\\n            \"group\": 3\\n        },\\n        {\\n            \"id\": \"PropertyAppraisalMonth\",\\n            \"attributes\": \"\",\\n            \"type\": \"entity\",\\n            \"group\": 3\\n        },\\n        {\\n            \"id\": \"PropertyAppraisalDay\",\\n            \"attributes\": \"\",\\n            \"type\": \"entity\",\\n            \"group\": 3\\n        },\\n        {\\n            \"id\": \"PropertyAppraisalYear\",\\n            \"attributes\": \"\",\\n            \"type\": \"entity\",\\n            \"group\": 3\\n        },\\n        {\\n            \"id\": \"PropertyAppraiser\",\\n            \"attributes\": \"\",\\n            \"type\": \"person\",\\n            \"group\": 4\\n        },\\n        {\\n            \"id\": \"PropertyAppraisalRemarks\",\\n            \"attributes\": \"\",\\n            \"type\": \"entity\",\\n            \"group\": 5\\n        },\\n        {\\n            \"id\": \"PropertyAppraisedValue\",\\n            \"attributes\": \"\",\\n            \"type\": \"entity\",\\n            \"group\": 6\\n        },\\n        {\\n            \"id\": \"Property\",\\n            \"attributes\": \"hasName, hasAddress, hasUnits, hasOwner, hasAppraisal\",\\n            \"type\": \"entity\",\\n            \"group\": 7\\n        },\\n        {\\n            \"id\": \"PropertyName\",\\n            \"attributes\": \"\",\\n            \"type\": \"entity\",\\n            \"group\": 8\\n        },\\n        {\\n            \"id\": \"PropertyAddress\",\\n            \"attributes\": \"hasStreetNumber, hasStreetName, hasCity, hasState, hasZip\",\\n            \"type\": \"entity\",\\n            \"group\": 9\\n        },\\n        {\\n            \"id\": \"PropertyStreetNumber\",\\n            \"attributes\": \"\",\\n            \"type\": \"entity\",\\n            \"group\": 10\\n        },\\n        {\\n            \"id\": \"PropertyStreetName\",\\n            \"attributes\": \"\",\\n            \"type\": \"entity\",\\n            \"group\": 10\\n        },\\n        {\\n            \"id\": \"PropertyCity\",\\n            \"attributes\": \"\",\\n            \"type\": \"location\",\\n            \"group\": 10\\n        },\\n        {\\n            \"id\": \"PropertyState\",\\n            \"attributes\": \"\",\\n            \"type\": \"location\",\\n            \"group\": 10\\n        },\\n        {\\n            \"id\": \"PropertyZip\",\\n            \"attributes\": \"\",\\n            \"type\": \"entity\",\\n            \"group\": 10\\n        },\\n        {\\n            \"id\": \"PropertyUnits\",\\n            \"attributes\": \"\",\\n            \"type\": \"entity\",\\n            \"group\": 11\\n        },\\n        {\\n            \"id\": \"PropertyOwner\",\\n            \"attributes\": \"\",\\n            \"type\": \"entity\",\\n            \"group\": 12\\n        }\\n    ],\\n    \"links\": [\\n        {\\n            \"source\": \"Knowledge\",\\n            \"target\": \"PropertyAppraisal\",\\n            \"label\": \"contains\",\\n            \"strength\": 0.1,\\n            \"rationale\": \"The PropertyAppraisal is a key component of the overall knowledge represented in the appraisal report.\"\\n        },\\n        {\\n            \"source\": \"PropertyAppraisal\",\\n            \"target\": \"PropertyAppraisalDate\",\\n            \"label\": \"has\",\\n            \"strength\": 1.0,\\n            \"rationale\": \"The PropertyAppraisal directly contains the PropertyAppraisalDate.\"\\n        },\\n        {\\n            \"source\": \"PropertyAppraisalDate\",\\n            \"target\": \"PropertyAppraisalMonth\",\\n            \"label\": \"has\",\\n            \"strength\": 1.0,\\n            \"rationale\": \"The PropertyAppraisalDate is composed of the PropertyAppraisalMonth.\"\\n        },\\n        {\\n            \"source\": \"PropertyAppraisalDate\",\\n            \"target\": \"PropertyAppraisalDay\",\\n            \"label\": \"has\",\\n            \"strength\": 1.0,\\n            \"rationale\": \"The PropertyAppraisalDate is composed of the PropertyAppraisalDay.\"\\n        },\\n        {\\n            \"source\": \"PropertyAppraisalDate\",\\n            \"target\": \"PropertyAppraisalYear\",\\n            \"label\": \"has\",\\n            \"strength\": 1.0,\\n            \"rationale\": \"The PropertyAppraisalDate is composed of the PropertyAppraisalYear.\"\\n        },\\n        {\\n            \"source\": \"PropertyAppraisal\",\\n            \"target\": \"PropertyAppraiser\",\\n            \"label\": \"has\",\\n            \"strength\": 1.0,\\n            \"rationale\": \"The PropertyAppraisal directly contains information about the PropertyAppraiser.\"\\n        },\\n        {\\n            \"source\": \"PropertyAppraisal\",\\n            \"target\": \"PropertyAppraisalRemarks\",\\n            \"label\": \"has\",\\n            \"strength\": 1.0,\\n            \"rationale\": \"The PropertyAppraisal directly contains the PropertyAppraisalRemarks.\"\\n        },\\n        {\\n            \"source\": \"PropertyAppraisal\",\\n            \"target\": \"PropertyAppraisedValue\",\\n            \"label\": \"has\",\\n            \"strength\": 1.0,\\n            \"rationale\": \"The PropertyAppraisal directly contains the PropertyAppraisedValue.\"\\n        },\\n        {\\n            \"source\": \"Knowledge\",\\n            \"target\": \"Property\",\\n            \"label\": \"contains\",\\n            \"strength\": 0.1,\\n            \"rationale\": \"The Property is a key component of the overall knowledge represented in the appraisal report.\"\\n        },\\n        {\\n            \"source\": \"Property\",\\n            \"target\": \"PropertyName\",\\n            \"label\": \"has\",\\n            \"strength\": 1.0,\\n            \"rationale\": \"The Property directly contains information about the PropertyName.\"\\n        },\\n        {\\n            \"source\": \"Property\",\\n            \"target\": \"PropertyAddress\",\\n            \"label\": \"has\",\\n            \"strength\": 1.0,\\n            \"rationale\": \"The Property directly contains information about the PropertyAddress.\"\\n        },\\n        {\\n            \"source\": \"PropertyAddress\",\\n            \"target\": \"PropertyStreetNumber\",\\n            \"label\": \"has\",\\n            \"strength\": 1.0,\\n            \"rationale\": \"The PropertyAddress is composed of the PropertyStreetNumber.\"\\n        },\\n        {\\n            \"source\": \"PropertyAddress\",\\n            \"target\": \"PropertyStreetName\",\\n            \"label\": \"has\",\\n            \"strength\": 1.0,\\n            \"rationale\": \"The PropertyAddress is composed of the PropertyStreetName.\"\\n        },\\n        {\\n            \"source\": \"PropertyAddress\",\\n            \"target\": \"PropertyCity\",\\n            \"label\": \"has\",\\n            \"strength\": 1.0,\\n            \"rationale\": \"The PropertyAddress is composed of the PropertyCity.\"\\n        },\\n        {\\n            \"source\": \"PropertyAddress\",\\n            \"target\": \"PropertyState\",\\n            \"label\": \"has\",\\n            \"strength\": 1.0,\\n            \"rationale\": \"The PropertyAddress is composed of the PropertyState.\"\\n        },\\n        {\\n            \"source\": \"PropertyAddress\",\\n            \"target\": \"PropertyZip\",\\n            \"label\": \"has\",\\n            \"strength\": 1.0,\\n            \"rationale\": \"The PropertyAddress is composed of the PropertyZip.\"\\n        },\\n        {\\n            \"source\": \"Property\",\\n            \"target\": \"PropertyUnits\",\\n            \"label\": \"has\",\\n            \"strength\": 1.0,\\n            \"rationale\": \"The Property directly contains information about the PropertyUnits.\"\\n        },\\n        {\\n            \"source\": \"Property\",\\n            \"target\": \"PropertyOwner\",\\n            \"label\": \"has\",\\n            \"strength\": 1.0,\\n            \"rationale\": \"The Property directly contains information about the PropertyOwner.\"\\n        },\\n        {\\n            \"source\": \"Property\",\\n            \"target\": \"PropertyAppraisal\",\\n            \"label\": \"has\",\\n            \"strength\": 1.0,\\n            \"rationale\": \"The Property directly contains the PropertyAppraisal.\"\\n        }\\n    ],\\n    \"groups\": [\\n        {\\n            \"group_id\": 1,\\n            \"rationale\": \"Overarching concept connecting all elements of the given context\"\\n        },\\n        {\\n            \"group_id\": 2,\\n            \"rationale\": \"Nodes related to the PropertyAppraisal document\"\\n        },\\n        {\\n            \"group_id\": 3,\\n            \"rationale\": \"Nodes related to the PropertyAppraisalDate\"\\n        },\\n        {\\n            \"group_id\": 4,\\n            \"rationale\": \"Node representing the PropertyAppraiser\"\\n        },\\n        {\\n            \"group_id\": 5,\\n            \"rationale\": \"Node representing the PropertyAppraisalRemarks\"\\n        },\\n        {\\n            \"group_id\": 6,\\n            \"rationale\": \"Node representing the PropertyAppraisedValue\"\\n        },\\n        {\\n            \"group_id\": 7,\\n            \"rationale\": \"Node representing the Property itself\"\\n        },\\n        {\\n            \"group_id\": 8,\\n            \"rationale\": \"Node representing the PropertyName\"\\n        },\\n        {\\n            \"group_id\": 9,\\n            \"rationale\": \"Node representing the PropertyAddress\"\\n        },\\n        {\\n            \"group_id\": 10,\\n            \"rationale\": \"Nodes related to the components of the PropertyAddress\"\\n        },\\n        {\\n            \"group_id\": 11,\\n            \"rationale\": \"Node representing the PropertyUnits\"\\n        },\\n        {\\n            \"group_id\": 12,\\n            \"rationale\": \"Node representing the PropertyOwner\"\\n        }\\n    ]\\n}\\n```'}],\n",
       " 'model': 'claude-3-sonnet-28k-20240229',\n",
       " 'stop_reason': 'end_turn',\n",
       " 'stop_sequence': None,\n",
       " 'usage': {'input_tokens': 3937, 'output_tokens': 2469}}"
      ]
     },
     "execution_count": 19,
     "metadata": {},
     "output_type": "execute_result"
    }
   ],
   "source": [
    "response_body"
   ]
  },
  {
   "cell_type": "code",
   "execution_count": 23,
   "id": "8cc0828a-d4eb-42a6-8a0f-d9197abeabe7",
   "metadata": {
    "tags": []
   },
   "outputs": [],
   "source": [
    "full_output_name = f\"{model_id}-{template_filename.split('.txt')[0]}-{output_name}\"\n",
    "full_output_name=full_output_name.replace(\":\",\"-\")\n",
    "same_name_count = int(len([f for f in os.listdir(output_dir) if full_output_name in f])/2)\n",
    "file_count = \"\" if same_name_count ==0 else f'-{same_name_count}'"
   ]
  },
  {
   "cell_type": "code",
   "execution_count": 24,
   "id": "67dc8e3c-44c4-4110-9323-eab26984e950",
   "metadata": {
    "tags": []
   },
   "outputs": [
    {
     "data": {
      "text/plain": [
       "'anthropic.claude-3-sonnet-20240229-v1-0-story-prompt-with-ontology-v3-template-Appraisal-Report-address-appraiser'"
      ]
     },
     "execution_count": 24,
     "metadata": {},
     "output_type": "execute_result"
    }
   ],
   "source": [
    "full_output_name"
   ]
  },
  {
   "cell_type": "code",
   "execution_count": 25,
   "id": "67179df5-3f5a-4665-bd3f-accb198c2b47",
   "metadata": {
    "tags": []
   },
   "outputs": [],
   "source": [
    "with open(os.path.join(output_dir,f\"{full_output_name}{file_count}.json\"),\"w+\") as f:\n",
    "    json.dump(response_body,f)"
   ]
  },
  {
   "cell_type": "code",
   "execution_count": 26,
   "id": "541cc108-446a-4007-ab2f-32d845bdd27d",
   "metadata": {
    "tags": []
   },
   "outputs": [],
   "source": [
    "with open(os.path.join(output_dir,f\"{full_output_name}-graph{file_count}.json\"),\"w+\") as f:\n",
    "    json.dump(json.loads(response_body[\"content\"][0][\"text\"].split(\"```\")[1].split(\"json\")[1]),f)"
   ]
  }
 ],
 "metadata": {
  "availableInstances": [
   {
    "_defaultOrder": 0,
    "_isFastLaunch": true,
    "category": "General purpose",
    "gpuNum": 0,
    "hideHardwareSpecs": false,
    "memoryGiB": 4,
    "name": "ml.t3.medium",
    "vcpuNum": 2
   },
   {
    "_defaultOrder": 1,
    "_isFastLaunch": false,
    "category": "General purpose",
    "gpuNum": 0,
    "hideHardwareSpecs": false,
    "memoryGiB": 8,
    "name": "ml.t3.large",
    "vcpuNum": 2
   },
   {
    "_defaultOrder": 2,
    "_isFastLaunch": false,
    "category": "General purpose",
    "gpuNum": 0,
    "hideHardwareSpecs": false,
    "memoryGiB": 16,
    "name": "ml.t3.xlarge",
    "vcpuNum": 4
   },
   {
    "_defaultOrder": 3,
    "_isFastLaunch": false,
    "category": "General purpose",
    "gpuNum": 0,
    "hideHardwareSpecs": false,
    "memoryGiB": 32,
    "name": "ml.t3.2xlarge",
    "vcpuNum": 8
   },
   {
    "_defaultOrder": 4,
    "_isFastLaunch": true,
    "category": "General purpose",
    "gpuNum": 0,
    "hideHardwareSpecs": false,
    "memoryGiB": 8,
    "name": "ml.m5.large",
    "vcpuNum": 2
   },
   {
    "_defaultOrder": 5,
    "_isFastLaunch": false,
    "category": "General purpose",
    "gpuNum": 0,
    "hideHardwareSpecs": false,
    "memoryGiB": 16,
    "name": "ml.m5.xlarge",
    "vcpuNum": 4
   },
   {
    "_defaultOrder": 6,
    "_isFastLaunch": false,
    "category": "General purpose",
    "gpuNum": 0,
    "hideHardwareSpecs": false,
    "memoryGiB": 32,
    "name": "ml.m5.2xlarge",
    "vcpuNum": 8
   },
   {
    "_defaultOrder": 7,
    "_isFastLaunch": false,
    "category": "General purpose",
    "gpuNum": 0,
    "hideHardwareSpecs": false,
    "memoryGiB": 64,
    "name": "ml.m5.4xlarge",
    "vcpuNum": 16
   },
   {
    "_defaultOrder": 8,
    "_isFastLaunch": false,
    "category": "General purpose",
    "gpuNum": 0,
    "hideHardwareSpecs": false,
    "memoryGiB": 128,
    "name": "ml.m5.8xlarge",
    "vcpuNum": 32
   },
   {
    "_defaultOrder": 9,
    "_isFastLaunch": false,
    "category": "General purpose",
    "gpuNum": 0,
    "hideHardwareSpecs": false,
    "memoryGiB": 192,
    "name": "ml.m5.12xlarge",
    "vcpuNum": 48
   },
   {
    "_defaultOrder": 10,
    "_isFastLaunch": false,
    "category": "General purpose",
    "gpuNum": 0,
    "hideHardwareSpecs": false,
    "memoryGiB": 256,
    "name": "ml.m5.16xlarge",
    "vcpuNum": 64
   },
   {
    "_defaultOrder": 11,
    "_isFastLaunch": false,
    "category": "General purpose",
    "gpuNum": 0,
    "hideHardwareSpecs": false,
    "memoryGiB": 384,
    "name": "ml.m5.24xlarge",
    "vcpuNum": 96
   },
   {
    "_defaultOrder": 12,
    "_isFastLaunch": false,
    "category": "General purpose",
    "gpuNum": 0,
    "hideHardwareSpecs": false,
    "memoryGiB": 8,
    "name": "ml.m5d.large",
    "vcpuNum": 2
   },
   {
    "_defaultOrder": 13,
    "_isFastLaunch": false,
    "category": "General purpose",
    "gpuNum": 0,
    "hideHardwareSpecs": false,
    "memoryGiB": 16,
    "name": "ml.m5d.xlarge",
    "vcpuNum": 4
   },
   {
    "_defaultOrder": 14,
    "_isFastLaunch": false,
    "category": "General purpose",
    "gpuNum": 0,
    "hideHardwareSpecs": false,
    "memoryGiB": 32,
    "name": "ml.m5d.2xlarge",
    "vcpuNum": 8
   },
   {
    "_defaultOrder": 15,
    "_isFastLaunch": false,
    "category": "General purpose",
    "gpuNum": 0,
    "hideHardwareSpecs": false,
    "memoryGiB": 64,
    "name": "ml.m5d.4xlarge",
    "vcpuNum": 16
   },
   {
    "_defaultOrder": 16,
    "_isFastLaunch": false,
    "category": "General purpose",
    "gpuNum": 0,
    "hideHardwareSpecs": false,
    "memoryGiB": 128,
    "name": "ml.m5d.8xlarge",
    "vcpuNum": 32
   },
   {
    "_defaultOrder": 17,
    "_isFastLaunch": false,
    "category": "General purpose",
    "gpuNum": 0,
    "hideHardwareSpecs": false,
    "memoryGiB": 192,
    "name": "ml.m5d.12xlarge",
    "vcpuNum": 48
   },
   {
    "_defaultOrder": 18,
    "_isFastLaunch": false,
    "category": "General purpose",
    "gpuNum": 0,
    "hideHardwareSpecs": false,
    "memoryGiB": 256,
    "name": "ml.m5d.16xlarge",
    "vcpuNum": 64
   },
   {
    "_defaultOrder": 19,
    "_isFastLaunch": false,
    "category": "General purpose",
    "gpuNum": 0,
    "hideHardwareSpecs": false,
    "memoryGiB": 384,
    "name": "ml.m5d.24xlarge",
    "vcpuNum": 96
   },
   {
    "_defaultOrder": 20,
    "_isFastLaunch": false,
    "category": "General purpose",
    "gpuNum": 0,
    "hideHardwareSpecs": true,
    "memoryGiB": 0,
    "name": "ml.geospatial.interactive",
    "supportedImageNames": [
     "sagemaker-geospatial-v1-0"
    ],
    "vcpuNum": 0
   },
   {
    "_defaultOrder": 21,
    "_isFastLaunch": true,
    "category": "Compute optimized",
    "gpuNum": 0,
    "hideHardwareSpecs": false,
    "memoryGiB": 4,
    "name": "ml.c5.large",
    "vcpuNum": 2
   },
   {
    "_defaultOrder": 22,
    "_isFastLaunch": false,
    "category": "Compute optimized",
    "gpuNum": 0,
    "hideHardwareSpecs": false,
    "memoryGiB": 8,
    "name": "ml.c5.xlarge",
    "vcpuNum": 4
   },
   {
    "_defaultOrder": 23,
    "_isFastLaunch": false,
    "category": "Compute optimized",
    "gpuNum": 0,
    "hideHardwareSpecs": false,
    "memoryGiB": 16,
    "name": "ml.c5.2xlarge",
    "vcpuNum": 8
   },
   {
    "_defaultOrder": 24,
    "_isFastLaunch": false,
    "category": "Compute optimized",
    "gpuNum": 0,
    "hideHardwareSpecs": false,
    "memoryGiB": 32,
    "name": "ml.c5.4xlarge",
    "vcpuNum": 16
   },
   {
    "_defaultOrder": 25,
    "_isFastLaunch": false,
    "category": "Compute optimized",
    "gpuNum": 0,
    "hideHardwareSpecs": false,
    "memoryGiB": 72,
    "name": "ml.c5.9xlarge",
    "vcpuNum": 36
   },
   {
    "_defaultOrder": 26,
    "_isFastLaunch": false,
    "category": "Compute optimized",
    "gpuNum": 0,
    "hideHardwareSpecs": false,
    "memoryGiB": 96,
    "name": "ml.c5.12xlarge",
    "vcpuNum": 48
   },
   {
    "_defaultOrder": 27,
    "_isFastLaunch": false,
    "category": "Compute optimized",
    "gpuNum": 0,
    "hideHardwareSpecs": false,
    "memoryGiB": 144,
    "name": "ml.c5.18xlarge",
    "vcpuNum": 72
   },
   {
    "_defaultOrder": 28,
    "_isFastLaunch": false,
    "category": "Compute optimized",
    "gpuNum": 0,
    "hideHardwareSpecs": false,
    "memoryGiB": 192,
    "name": "ml.c5.24xlarge",
    "vcpuNum": 96
   },
   {
    "_defaultOrder": 29,
    "_isFastLaunch": true,
    "category": "Accelerated computing",
    "gpuNum": 1,
    "hideHardwareSpecs": false,
    "memoryGiB": 16,
    "name": "ml.g4dn.xlarge",
    "vcpuNum": 4
   },
   {
    "_defaultOrder": 30,
    "_isFastLaunch": false,
    "category": "Accelerated computing",
    "gpuNum": 1,
    "hideHardwareSpecs": false,
    "memoryGiB": 32,
    "name": "ml.g4dn.2xlarge",
    "vcpuNum": 8
   },
   {
    "_defaultOrder": 31,
    "_isFastLaunch": false,
    "category": "Accelerated computing",
    "gpuNum": 1,
    "hideHardwareSpecs": false,
    "memoryGiB": 64,
    "name": "ml.g4dn.4xlarge",
    "vcpuNum": 16
   },
   {
    "_defaultOrder": 32,
    "_isFastLaunch": false,
    "category": "Accelerated computing",
    "gpuNum": 1,
    "hideHardwareSpecs": false,
    "memoryGiB": 128,
    "name": "ml.g4dn.8xlarge",
    "vcpuNum": 32
   },
   {
    "_defaultOrder": 33,
    "_isFastLaunch": false,
    "category": "Accelerated computing",
    "gpuNum": 4,
    "hideHardwareSpecs": false,
    "memoryGiB": 192,
    "name": "ml.g4dn.12xlarge",
    "vcpuNum": 48
   },
   {
    "_defaultOrder": 34,
    "_isFastLaunch": false,
    "category": "Accelerated computing",
    "gpuNum": 1,
    "hideHardwareSpecs": false,
    "memoryGiB": 256,
    "name": "ml.g4dn.16xlarge",
    "vcpuNum": 64
   },
   {
    "_defaultOrder": 35,
    "_isFastLaunch": false,
    "category": "Accelerated computing",
    "gpuNum": 1,
    "hideHardwareSpecs": false,
    "memoryGiB": 61,
    "name": "ml.p3.2xlarge",
    "vcpuNum": 8
   },
   {
    "_defaultOrder": 36,
    "_isFastLaunch": false,
    "category": "Accelerated computing",
    "gpuNum": 4,
    "hideHardwareSpecs": false,
    "memoryGiB": 244,
    "name": "ml.p3.8xlarge",
    "vcpuNum": 32
   },
   {
    "_defaultOrder": 37,
    "_isFastLaunch": false,
    "category": "Accelerated computing",
    "gpuNum": 8,
    "hideHardwareSpecs": false,
    "memoryGiB": 488,
    "name": "ml.p3.16xlarge",
    "vcpuNum": 64
   },
   {
    "_defaultOrder": 38,
    "_isFastLaunch": false,
    "category": "Accelerated computing",
    "gpuNum": 8,
    "hideHardwareSpecs": false,
    "memoryGiB": 768,
    "name": "ml.p3dn.24xlarge",
    "vcpuNum": 96
   },
   {
    "_defaultOrder": 39,
    "_isFastLaunch": false,
    "category": "Memory Optimized",
    "gpuNum": 0,
    "hideHardwareSpecs": false,
    "memoryGiB": 16,
    "name": "ml.r5.large",
    "vcpuNum": 2
   },
   {
    "_defaultOrder": 40,
    "_isFastLaunch": false,
    "category": "Memory Optimized",
    "gpuNum": 0,
    "hideHardwareSpecs": false,
    "memoryGiB": 32,
    "name": "ml.r5.xlarge",
    "vcpuNum": 4
   },
   {
    "_defaultOrder": 41,
    "_isFastLaunch": false,
    "category": "Memory Optimized",
    "gpuNum": 0,
    "hideHardwareSpecs": false,
    "memoryGiB": 64,
    "name": "ml.r5.2xlarge",
    "vcpuNum": 8
   },
   {
    "_defaultOrder": 42,
    "_isFastLaunch": false,
    "category": "Memory Optimized",
    "gpuNum": 0,
    "hideHardwareSpecs": false,
    "memoryGiB": 128,
    "name": "ml.r5.4xlarge",
    "vcpuNum": 16
   },
   {
    "_defaultOrder": 43,
    "_isFastLaunch": false,
    "category": "Memory Optimized",
    "gpuNum": 0,
    "hideHardwareSpecs": false,
    "memoryGiB": 256,
    "name": "ml.r5.8xlarge",
    "vcpuNum": 32
   },
   {
    "_defaultOrder": 44,
    "_isFastLaunch": false,
    "category": "Memory Optimized",
    "gpuNum": 0,
    "hideHardwareSpecs": false,
    "memoryGiB": 384,
    "name": "ml.r5.12xlarge",
    "vcpuNum": 48
   },
   {
    "_defaultOrder": 45,
    "_isFastLaunch": false,
    "category": "Memory Optimized",
    "gpuNum": 0,
    "hideHardwareSpecs": false,
    "memoryGiB": 512,
    "name": "ml.r5.16xlarge",
    "vcpuNum": 64
   },
   {
    "_defaultOrder": 46,
    "_isFastLaunch": false,
    "category": "Memory Optimized",
    "gpuNum": 0,
    "hideHardwareSpecs": false,
    "memoryGiB": 768,
    "name": "ml.r5.24xlarge",
    "vcpuNum": 96
   },
   {
    "_defaultOrder": 47,
    "_isFastLaunch": false,
    "category": "Accelerated computing",
    "gpuNum": 1,
    "hideHardwareSpecs": false,
    "memoryGiB": 16,
    "name": "ml.g5.xlarge",
    "vcpuNum": 4
   },
   {
    "_defaultOrder": 48,
    "_isFastLaunch": false,
    "category": "Accelerated computing",
    "gpuNum": 1,
    "hideHardwareSpecs": false,
    "memoryGiB": 32,
    "name": "ml.g5.2xlarge",
    "vcpuNum": 8
   },
   {
    "_defaultOrder": 49,
    "_isFastLaunch": false,
    "category": "Accelerated computing",
    "gpuNum": 1,
    "hideHardwareSpecs": false,
    "memoryGiB": 64,
    "name": "ml.g5.4xlarge",
    "vcpuNum": 16
   },
   {
    "_defaultOrder": 50,
    "_isFastLaunch": false,
    "category": "Accelerated computing",
    "gpuNum": 1,
    "hideHardwareSpecs": false,
    "memoryGiB": 128,
    "name": "ml.g5.8xlarge",
    "vcpuNum": 32
   },
   {
    "_defaultOrder": 51,
    "_isFastLaunch": false,
    "category": "Accelerated computing",
    "gpuNum": 1,
    "hideHardwareSpecs": false,
    "memoryGiB": 256,
    "name": "ml.g5.16xlarge",
    "vcpuNum": 64
   },
   {
    "_defaultOrder": 52,
    "_isFastLaunch": false,
    "category": "Accelerated computing",
    "gpuNum": 4,
    "hideHardwareSpecs": false,
    "memoryGiB": 192,
    "name": "ml.g5.12xlarge",
    "vcpuNum": 48
   },
   {
    "_defaultOrder": 53,
    "_isFastLaunch": false,
    "category": "Accelerated computing",
    "gpuNum": 4,
    "hideHardwareSpecs": false,
    "memoryGiB": 384,
    "name": "ml.g5.24xlarge",
    "vcpuNum": 96
   },
   {
    "_defaultOrder": 54,
    "_isFastLaunch": false,
    "category": "Accelerated computing",
    "gpuNum": 8,
    "hideHardwareSpecs": false,
    "memoryGiB": 768,
    "name": "ml.g5.48xlarge",
    "vcpuNum": 192
   },
   {
    "_defaultOrder": 55,
    "_isFastLaunch": false,
    "category": "Accelerated computing",
    "gpuNum": 8,
    "hideHardwareSpecs": false,
    "memoryGiB": 1152,
    "name": "ml.p4d.24xlarge",
    "vcpuNum": 96
   },
   {
    "_defaultOrder": 56,
    "_isFastLaunch": false,
    "category": "Accelerated computing",
    "gpuNum": 8,
    "hideHardwareSpecs": false,
    "memoryGiB": 1152,
    "name": "ml.p4de.24xlarge",
    "vcpuNum": 96
   },
   {
    "_defaultOrder": 57,
    "_isFastLaunch": false,
    "category": "Accelerated computing",
    "gpuNum": 0,
    "hideHardwareSpecs": false,
    "memoryGiB": 32,
    "name": "ml.trn1.2xlarge",
    "vcpuNum": 8
   },
   {
    "_defaultOrder": 58,
    "_isFastLaunch": false,
    "category": "Accelerated computing",
    "gpuNum": 0,
    "hideHardwareSpecs": false,
    "memoryGiB": 512,
    "name": "ml.trn1.32xlarge",
    "vcpuNum": 128
   },
   {
    "_defaultOrder": 59,
    "_isFastLaunch": false,
    "category": "Accelerated computing",
    "gpuNum": 0,
    "hideHardwareSpecs": false,
    "memoryGiB": 512,
    "name": "ml.trn1n.32xlarge",
    "vcpuNum": 128
   }
  ],
  "instance_type": "ml.t3.medium",
  "kernelspec": {
   "display_name": "Python 3 (Data Science 3.0)",
   "language": "python",
   "name": "python3__SAGEMAKER_INTERNAL__arn:aws:sagemaker:us-east-1:081325390199:image/sagemaker-data-science-310-v1"
  },
  "language_info": {
   "codemirror_mode": {
    "name": "ipython",
    "version": 3
   },
   "file_extension": ".py",
   "mimetype": "text/x-python",
   "name": "python",
   "nbconvert_exporter": "python",
   "pygments_lexer": "ipython3",
   "version": "3.10.6"
  }
 },
 "nbformat": 4,
 "nbformat_minor": 5
}
