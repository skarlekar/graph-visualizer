{
 "cells": [
  {
   "cell_type": "code",
   "execution_count": 70,
   "id": "0d124088-4efe-4590-b5d9-972210b7828d",
   "metadata": {
    "tags": []
   },
   "outputs": [],
   "source": [
    "import boto3\n",
    "import json\n",
    "from jinja2 import Environment, FileSystemLoader\n",
    "import sys\n",
    "from pathlib import Path\n",
    "import os"
   ]
  },
  {
   "cell_type": "code",
   "execution_count": 71,
   "id": "f245cf52-f136-4f4c-9485-030ca0ecca52",
   "metadata": {
    "tags": []
   },
   "outputs": [],
   "source": [
    "template_dir = os.path.abspath(os.path.join(os.getcwd(),\"../..\",\"prompts-templates\"))\n",
    "output_dir = os.path.abspath(os.path.join(os.getcwd(),\"../..\",\"model-results\"))\n",
    "ontology_dir = os.path.abspath(os.path.join(os.getcwd(),\"../..\",\"ontologies\"))\n",
    "ontology_name = \"PropertyAppraisalOntology-v2.ttl\"\n",
    "input_text_dir = os.path.abspath(os.path.join(os.getcwd(),\"../..\",\"prompts\"))\n",
    "input_text_name = \"Appraisal-Report-address.txt\"\n",
    "template_filename = \"prompt-template-ontology-with-example-modified.txt\"\n",
    "output_name = \"appraisal-report-addr-updated-example\"\n",
    "model_id = \"anthropic.claude-3-sonnet-20240229-v1:0\""
   ]
  },
  {
   "cell_type": "code",
   "execution_count": 72,
   "id": "017f5570-7d11-4a0b-b45d-73b53f59f6b7",
   "metadata": {
    "tags": []
   },
   "outputs": [],
   "source": [
    "bedrock_runtime= boto3.client(\"bedrock-runtime\",region_name=\"us-east-1\")"
   ]
  },
  {
   "cell_type": "code",
   "execution_count": 73,
   "id": "4ab8466c-cb28-4b64-825c-d3361277ce96",
   "metadata": {
    "tags": []
   },
   "outputs": [],
   "source": [
    "environment = Environment(loader=FileSystemLoader(template_dir))\n",
    "template = environment.get_template(template_filename)"
   ]
  },
  {
   "cell_type": "code",
   "execution_count": 74,
   "id": "facfdd06-3034-45d4-a322-c57099898b2e",
   "metadata": {
    "tags": []
   },
   "outputs": [],
   "source": [
    "with open(os.path.join(ontology_dir,ontology_name),\"r\") as f:\n",
    "    ontology = f.read()"
   ]
  },
  {
   "cell_type": "code",
   "execution_count": 75,
   "id": "589b0526-3eff-434d-9aa7-67e116b27683",
   "metadata": {
    "tags": []
   },
   "outputs": [],
   "source": [
    "with open(os.path.join(input_text_dir,input_text_name),\"r\") as f:\n",
    "    input_text = f.read()"
   ]
  },
  {
   "cell_type": "code",
   "execution_count": 76,
   "id": "0628eeb1-7640-4b23-a8b4-3cd9dd78719c",
   "metadata": {
    "tags": []
   },
   "outputs": [],
   "source": [
    "prompt = template.render(\n",
    "    ontology=ontology,\n",
    "    input_text=input_text\n",
    ")"
   ]
  },
  {
   "cell_type": "code",
   "execution_count": 77,
   "id": "e76739f8-1a44-4b84-a6b4-bdbe79965984",
   "metadata": {
    "tags": []
   },
   "outputs": [
    {
     "data": {
      "text/plain": [
       "'You are a faithful and trusted network graph maker tasked with creating a comprehensive and interconnected representation of a given context provided between the <input> and </input> tags below\\nensuring all nodes are part of a single cluster using the turtle ontology provided between the <ontology> and </ontology> tags. \\nYour job  involves to reason step by step and extract key concepts (nodes) and their relationships (links) \\nfrom the provided text and constructing a JSON.\\n\\nWhile doing so, follow these nine guidelines below faithfully:\\n\\n1. Nodes Identification: Identify entities in the input text. Align these entities to classes and attributes defined in the ontology\\n\\n2. Relationship Mapping: Establish clear relationships between all nodes using the definitions provided in the relationships section of the ontology.\\n\\n3. Relationship Validation: Confirm each relationship\\'s validity and relevance based on the text. Avoid introducing external concepts not present in the context.\\n\\n4. Source and Target Node Validation: Ensure that every \\'source\\' and \\'target\\' in the Links array of the output JSON corresponds exactly to an \\'id\\' in the Nodes array. \\nBefore adding a link to the Links array, verify that both the \\'source\\' and \\'target\\' nodes are already defined within the Nodes array. \\nThis prevents the introduction of unrepresented concepts or entities in the relationship mapping. \\nIf a potential link involves a node not listed in the Nodes array, you must first add that node to the Nodes array, ensuring it adheres to the Nodes Identification guideline.\\n\\n5. Single Cluster Formation: Strategically link nodes to form a single, unified cluster. Utilize intermediary nodes if necessary to connect disparate sections, \\nensuring no node is isolated.\\n\\n6. Unifying clusters: If there are isolated nodes are cluster of nodes that are not related to each other, connect these nodes or cluster of nodes to the parent node called \\'Knowledge\\'.\\n\\n7. Detailed Relationships: For each link, provide a \\'label\\' describing the relationship, a \\'strength\\' indicating the connection\\'s intensity (0.1-1.0), \\nand a \\'rationale\\' explaining the link\\'s basis.\\n\\n8. Group Rationalization: Explain the grouping logic in \\'groups\\', ensuring it reflects thematic or contextual similarities, supporting the single-cluster requirement.\\n\\n9. Knowledge Node: The Knowledge node should always be the first node with a unique \\'group\\' identifier with value 1, and \\'type\\' with value \\'concept\\'. No other nodes\\nshould be in group 1. The group rationale for group 1 should be, \"Overarching concept connecting all elements of the given context\". \\nLinks to the \\'Knowledge\\' node should have a \\'strength\\' value set to 0.1.\\n\\nBy following these guidelines, create a JSON as indicated below that accurately reflects the interconnected nature of the context, ensuring all nodes are part of one \\ncontinuous network without isolated groups or missing links. The JSON will consist of three primary arrays: \\'nodes\\', \\'links\\' and \\'groups\\'. \\nEach node in \\'nodes\\' must appear at least once in \\'links\\' as either a \\'source\\' or a \\'target\\', ensuring a cohesive, singular network.\\n\\n<ontology>\\n@prefix rdf: <http://www.w3.org/1999/02/22-rdf-syntax-ns#> .\\n@prefix rdfs: <http://www.w3.org/2000/01/rdf-schema#> .\\n@prefix xsd: <http://www.w3.org/2001/XMLSchema#> .\\n@prefix mf: <http://example.org/mf> .\\n\\n<mf:NamedEntity> a xsd:string .\\n<mf:Property> a <mf:NamedEntity> .\\n<mf:PropertyAddress> a <mf:NamedEntity> .\\n<mf:PropertyStreetNumber> a <mf:NamedEntity> .\\n<mf:PropertyStreetName> a <mf:NamedEntity> .\\n<mf:PropertyCity> a <mf:NamedEntity> .\\n<mf:PropertyZip> a <mf:NamedEntity> .\\n<mf:PropertyName> a <mf:NamedEntity> .\\n<mf:PropertyUnits> a <mf:NamedEntity> .\\n<mf:PropertyAppraisedValue> a <mf:NamedEntity> .\\n<mf:PropertyOwner> a <mf:NamedEntity> .\\n<mf:PropertyAppraiser> a <mf:NamedEntity> .\\n<mf:PropertyAppraisalRemarks> a <mf:NamedEntity> .\\n<mf:PropertyAppraisalDate> a xsd:date .\\n<mf:PropertyAppraisalMonth> a xsd:string .\\n<mf:PropertyAppraisalDay> a xsd:int .\\n<mf:PropertyAppraisalYear> a xsd:int .\\n<mf:PropertyAppraisal> a <mf:document> .\\n<mf:PropertyInspectionDate> a xsd:date .\\n<mf:PropertyInspectionMonth> a xsd:string .\\n<mf:PropertyInspectionDay> a xsd:int .\\n<mf:PropertyInspectionYear> a xsd:int .\\n<mf:PropertyTaxInformation> a <mf:NamedEntity> .\\n<mf:PropertyLandArea> a <mf:NamedEntity> .\\n<mf:PropertyZoning> a <mf:NamedEntity> .\\n<mf:PropertyLandValue> a <mf:NamedEntity> .\\n<mf:PropertyTopography> a <mf:NamedEntity> .\\n<mf:PropertyDrainage> a <mf:NamedEntity> .\\n<mf:PropertyUtilities> a <mf:NamedEntity> .\\n<mf:PropertyFloodZoneIndicator> a <mf:NamedEntity> .\\n<mf:PropertyEasement> a <mf:NamedEntity> .\\n<mf:PropertyEncroachment> a <mf:NamedEntity> .\\n<mf:PropertyBuildingType> a <mf:NamedEntity> .\\n<mf:PropertyConstructionType> a <mf:NamedEntity> .\\n<mf:PropertyBuildingType> a <mf:NamedEntity> .\\n<mf:PropertyQuality> a <mf:NamedEntity> .\\n<mf:PropertyYearBuilt> a <mf:NamedEntity> .\\n<mf:PropertyArchitectureStyle> a <mf:NamedEntity> .\\n<mf:PropertyBuildingCondition> a <mf:NamedEntity> .\\n<mf:PropertyEffectiveAge> a <mf:NamedEntity> .\\n<mf:PropertyRemainingEconomicLife> a <mf:NamedEntity> .\\n<mf:PropertyFoundationType> a <mf:NamedEntity> .\\n<mf:PropertyRoofCover> a <mf:NamedEntity> .\\n<mf:PropertyBuildingFrame> a <mf:NamedEntity> .\\n<mf:PropertyElevators> a <mf:NamedEntity> .\\n<mf:PropertyServiceAccess> a <mf:NamedEntity> .\\n<mf:PropertyHeating> a <mf:NamedEntity> .\\n<mf:PropertyCooling> a <mf:NamedEntity> .\\n<mf:PropertyParkingType> a <mf:NamedEntity> .\\n<mf:PropertyOccupancy> a <mf:NamedEntity> .\\n<mf:PropertyLTV> a <mf:NamedEntity> .\\n<mf:PropertyDCR> a <mf:NamedEntity> .\\n\\n\\n\\n<mf:Property> <hasName> <mf:PropertyName> ;\\n\\t    <hasAddress> <mf:PropertyAddress> ;\\n\\t    <hasUnits> <mf:PropertyUnits> ;\\n\\t    <hasOwner> <mf:PropertyOwner> ;\\t    \\n\\t    <hasAppraisal> <mf:PropretyAppraisal> .\\n\\n<mf:PropertyAppraisal> <hasTitle> xsd:string ;\\n\\t\\t     <hasDate> <mf:PropertyAppraisalDate> ;\\n\\t\\t     <hasAppraiser> <mf:PropertyAppraiser> ;\\n\\t\\t     <hasRemarks> <mf:PropertyAppraisalRemarks> ;\\n\\t\\t     <hasAppraisedValue> <mf:PropertyAppraisedValue> .\\n\\n<mf:PropertyAddress> <hasStreetNumber> <mf:PropertyStreetNumber> ;\\n\\t\\t      <hasStreetName> <mf:PropertyStreetName> ;\\n\\t\\t       <hasCity> <mf:PropertyCity> ;\\n\\t\\t      <hasState> <mf:PropertyState> ;\\n\\t\\t      <hasZip> <mf:PropertyZip> .\\n\\n<mf:PropertyAppraisalDate> <hasMonth> <mf:PropertyAppraisalMonth> ;\\n\\t\\t\\t   <hasDay> <mf:PropertyAppraisalDay> ;\\n\\t\\t\\t   <hasYear> <mf:PropertyAppraisalYear> .\\n\\n<mf:PropertyInspectionDate> <hasMonth> <mf:PropertyInspectionMonth> ;\\n\\t\\t\\t   <hasDay> <mf:PropertyInspectionDay> ;\\n\\t\\t\\t   <hasYear> <mf:PropertyInspectionYear> .\\n\\n<mf:PropertyOwner> rdfs:label \"Owner\" .\\n<mf:PropertyAppraisalDate> rdfs:label \"Date of Report\" , \"Date of the appraisal\" , \"Date:\".\\n<mf:PropertyInspectionDate> rdfs:label \"Date of Inspection\" , \"Inspection Date\".\\n<mf:PropertyAppraisedValue> rdfs:label \"Assessed Value\" , \"Market Value\" , \"Final Value\".\\n<mf:PropertyUnits> rdfs:label \"Number of Units\" .\\n<mf:PropertyTaxInformation> rdfs:label \"Tax Identification:\" .\\n<mf:PropertyLandArea> rdfs:label \"Land Area:\" .\\n<mf:PropertyZoning> rdfs:label \"Zoning:\" .\\n<mf:PropertyLandValue> rdfs:label \"Land Value:\" .\\n<mf:PropertyTopography> rdfs:label \"Topography:\" .\\n<mf:PropertyDrainage> rdfs:label \"Drainage:\" .\\n<mf:PropertyUtilities> rdfs:label \"Utilities:\" .\\n<mf:PropertyFloodZoneIndicator> rdfs:label \"Flood Zone:\" .\\n<mf:PropertyEasement> rdfs:label \"Easements:\" .\\n<mf:PropertyEncroachment> rdfs:label \"Encroachments:\" .\\n<mf:PropertyBuildingType> rdfs:label \"Building Type:\" .\\n<mf:PropertyConstructionType> rdfs:label \"Construction:\" .\\n<mf:PropertyBuildingType> rdfs:label \"Number of Units\" .\\n<mf:PropertyQuality> rdfs:label \"Quality:\" .\\n<mf:PropertyYearBuilt> rdfs:label \"Year Built:\" .\\n<mf:PropertyArchitectureStyle> rdfs:label \"Architectural Style:\" .\\n<mf:PropertyBuildingCondition> rdfs:label \"Condition:\" .\\n<mf:PropertyEffectiveAge> rdfs:label \"Effective Age:\" .\\n<mf:PropertyRemainingEconomicLife> rdfs:label \"Remaining Economic Life:\" .\\n<mf:PropertyFoundationType> rdfs:label \"Foundation:\" .\\n<mf:PropertyRoofCover> rdfs:label \"Roof/Cover:\" .\\n<mf:PropertyBuildingFrame> rdfs:label \"Frame:\" .\\n<mf:PropertyElevators> rdfs:label \"Elevators:\" .\\n<mf:PropertyServiceAccess> rdfs:label \"Service / Access/ Overhead Doors:\" .\\n<mf:PropertyHeating> rdfs:label \"Heating:\" .\\n<mf:PropertyCooling> rdfs:label \"Cooling:\" .\\n<mf:PropertyParkingType> rdfs:label \"Parking Type and Condition of Spaces:\" .\\n<mf:PropertyLTV> rdfs:label \"Loan to Value Ratio\" .\\n<mf:PropertyDCR> rdfs:label \"Debt Coverage Ratio\" .\\n\\n</ontology>\\n\\nThe output should be a markdown code snippet formatted in the following schema, including the leading and trailing \"```json\" and \"```\":\\n\\n```json\\n{\\n    \"nodes\":  array // Each element in the \\'nodes\\' array represents an entity. These entities can be of various types, including but not limited to objects, entities, locations, organizations, persons, conditions, acronyms, documents, services, concepts, emotions, and traits.\\n    [\\n        \"id\": string, // A unique identifier string for each entity related to a class from the ontology. For example, PropertyAddress.\\n        \"attributes\": string, // One or many comma-separated attributes of the node described in the input text. Use only those attributes as defined in the attributes section of the ontology. This value should be taken directly from the text. If the specific class is not found in the input text, leave this attribute blank.\\n        \"type\": string, // A field indicating the category of the entity, such as \\'entity\\', \\'location\\', \\'organization\\', \\'person\\', \\'animal\\', \\'bird\\', \\'fish\\' \\'condition\\', \\'acronym\\', \\'document\\', \\'service\\', \\'emotion\\', \\'trait\\', or \\'concept\\'.\\n        \"group\": integer // A numerical field indicating the group to which the node belongs. Nodes that are related or belong to the same group will share the same group number.\\n\\n    ],\\n    \"links\": array // Each element in the \\'links\\' array represents a relationship between two nodes. Use the following logic to create the Links Array. Read the input text again. Now review the list of nodes in the Nodes array. For every node represented by the \\'id\\' field in the Nodes array, reason step by step to find a relation with another node in the Nodes array. For each such relationship,  add an element to the Links Array containing the following fields:\\n    [\\n        \"source\": string, // The \\'id\\' of the node where the relationship originates.\\n        \"target\": string, // The \\'id\\' of the node where the relationship is directed.\\n        \"label\": string, // A descriptive label indicating the nature of the relationship between the \\'source\\' and \\'target\\'. Indicate the function if the \\'target\\' is a part or component of \\'source\\'.\\n        \"strength\": number, // A numerical value ranging from 0.1 to 1.0, representing the strength of the relationship, with 1.0 being the strongest and 0.1 the weakest.\\n        \"rationale\": string //A textual description indicating your rationale for coming up with the strength for each relationship.\\n    ],\\n    \"groups\" : // This array should indicate the rationale for the grouping indicated in the \\'group\\' field of the Nodes array. There should be one element in this array for each unique group. Each element in the \\'groups\\' aray will contain the following fields:\\n    [\\n        \"group_id\" : integer, // The group number\\n        \"rationale\": string // A textual description of the thematic or contextual similarities between the nodes that make up the group.\\n    ]\\n}\\n```\\nThe following is an example input with related example input ontology, which results in the example output.\\n```example_input\\nLITTLE SWEET SHOP\\n1234 Example Ln,\\nReston, VA 20190\\n\\nOwner\\nSally Jones\\n\\nOpening Date\\nJuly 10, 2023\\n\\nSHOP INFORMATION\\nShop Type\\nCupcakes\\n\\n1234 Example Ln,\\nReston, VA 20190\\n```\\n\\n```example_input_ontology\\n@prefix rdf: <http://www.w3.org/1999/02/22-rdf-syntax-ns#> .\\n@prefix rdfs: <http://www.w3.org/2000/01/rdf-schema#> .\\n@prefix xsd: <http://www.w3.org/2001/XMLSchema#> .\\n@prefix mf: <http://example.org/mf> .\\n\\n<mf:NamedEntity> a xsd:string .\\n<mf:Store> a <mf:NamedEntity> .\\n<mf:StoreAddress> a <mf:NamedEntity> .\\n<mf:StoreStreetName> a xsd:string .\\n<mf:StoreStreetNumber> a xsd:string .\\n<mf:StoreCity> a xsd:string .\\n<mf:StoreZip> a xsd:string .\\n<mf:StoreName> a xsd:string .\\n<mf:StoreOwner> a xsd:string .\\n<mf:StoreOpeningDate> a xsd:date .\\n<mf:StoreOpeningMonth> a xsd:string .\\n<mf:StoreOpeningDay> a xsd:int .\\n<mf:StoreOpeningYear> a xsd.int .\\n<mf:StoreType> a xsd:string .\\n\\n<mf:Store> <hasName> <mf:StoreName> ;\\n            <hasAddress> <mf:StoreAddress> ;\\n            <hasType> <mf:StoreType> ;\\n            <hasOpeningDate> <mf:StoreOpeningDate> ;\\n            <hasOwner> <mf:StoreOwner> ;\\n\\n<mf:StoreOpeningDate> <hasMonth> <mf:StoreOpeningMonth> ;\\n                    <hasDay> <mf:StoreOpeningDay> ;\\n                    <hasYear> <mf:StoreOpeningYear> ;\\n\\n<mf:StoreAddress> <hasStreetNumber> <mf:StoreStreetNumber> ;\\n                    <hasStreetName> <mf:StoreStreetName> ;\\n                    <hasCity> <mf:StoreCity> ;\\n                    <hasZip> <mf:StoreZip> ;\\n```\\n\\n```example_output\\n{ \\n    \"nodes\": \\n        [ \\n            { \"id\": \"Knowledge\", \"attributes\": \"\", \"type\": \"concept\", \"group\": 1 }, \\n            { \"id\": \"LittleSweetShop\", \"attributes\": \"StoreName\", \"type\": \"Store\", \"group\": 2 }, \\n            { \"id\": \"SallyJones\", \"attributes\": \"StoreOwner\", \"type\": \"StoreOwner\", \"group\": 4 }, \\n            { \"id\": \"July102023\", \"attributes\": \"StoreOpeningDate,StoreOpeningMonth,StoreOpeningDay,StoreOpeningYear\", \"type\": \"StoreOpeningDate\", \"group\": 5 }, \\n            { \"id\": \"July\", \"attributes\": \"StoreOpeningMonth\", \"type\": \"StoreOpeningMonth\", \"group\": 5 },\\n            { \"id\": \"10\", \"attributes\": \"StoreOpeningDay\", \"type\": \"StoreOpeningDay\", \"group\": 5 },\\n            { \"id\": \"2023\", \"attributes\": \"StoreOpeningYear\", \"type\": \"StoreOpeningYear\", \"group\": 5 },\\n            { \"id\": \"1234ExampleLnReston20190\", \"attributes\": \"StoreStreetNumber,StoreStreetName,StoreCity,StoreZip\", \"type\": \"StoreAddress\", \"group\": 3 },\\n            { \"id\": \"1234\", \"attributes\": \"StoreStreetNumber\", \"type\": \"StoreStreetNumber\", \"group\": 3 },\\n            { \"id\": \"ExampleLn\", \"attributes\": \"StoreStreetName\", \"type\": \"StoreStreetName\", \"group\": 3 },\\n            { \"id\": \"Reston\", \"attributes\": \"StoreCity\", \"type\": \"StoreCity\", \"group\": 3 },\\n            { \"id\": \"20190\", \"attributes\": \"StoreZip\", \"type\": \"StoreZip\", \"group\": 3 },\\n            { \"id\": \"Cupcakes\", \"attributes\": \"StoreType\", \"type\": \"StoreType\", \"group\": 6 } ], \\n    \"links\": \\n        [ \\n            { \"source\": \"LittleSweetShop\", \"target\": \"1234ExampleLnReston20190\", \"label\": \"hasAddress\", \"strength\": 1.0, \"rationale\": \"The store address 1234 Example Ln, Reston, VA 20190is provided for the Little Sweet Shop.\" }, \\n            { \"source\": \"1234ExampleLnReston20190\", \"target\": \"1234\", \"label\": \"hasStreetNumber\", \"strength\": 1.0, \"rationale\": \"The store address 1234 Example Ln, Reston, VA 20190is provided for the Little Sweet Shop.\" }, \\n            { \"source\": \"1234ExampleLnReston20190\", \"target\": \"ExampleLn\", \"label\": \"hasStreetName\", \"strength\": 1.0, \"rationale\": \"The store address 1234 Example Ln, Reston, VA 20190is provided for the Little Sweet Shop.\" }, \\n            { \"source\": \"1234ExampleLnReston20190\", \"target\": \"Reston\", \"label\": \"hasCity\", \"strength\": 1.0, \"rationale\": \"The store address 1234 Example Ln, Reston, VA 20190is provided for the Little Sweet Shop.\" }, \\n            { \"source\": \"1234ExampleLnReston20190\", \"target\": \"20190\", \"label\": \"hasZip\", \"strength\": 1.0, \"rationale\": \"The store address 1234 Example Ln, Reston, VA 20190is provided for the Little Sweet Shop.\" }, \\n            { \"source\": \"LittleSweetShop\", \"target\": \"SallyJones\", \"label\": \"hasOwner\", \"strength\": 1.0, \"rationale\": \"Sally Jones is mentioned as the owner of the Little Sweet Shop.\" }, \\n            { \"source\": \"LittleSweetShop\", \"target\": \"July102023\", \"label\": \"hasOpeningDate\", \"strength\": 1.0, \"rationale\": \"The opening date of July 10, 2023 is provided for the Little Sweet Shop.\" }, \\n            { \"source\": \"July102023\", \"target\": \"July\", \"label\": \"hasMonth\", \"strength\": 1.0, \"rationale\": \"The opening date of July 10, 2023 is provided for the Little Sweet Shop.\" },\\n            { \"source\": \"July102023\", \"target\": \"10\", \"label\": \"hasDay\", \"strength\": 1.0, \"rationale\": \"The opening date of July 10, 2023 is provided for the Little Sweet Shop.\" },\\n            { \"source\": \"July102023\", \"target\": \"2023\", \"label\": \"hasYear\", \"strength\": 1.0, \"rationale\": \"The opening date of July 10, 2023 is provided for the Little Sweet Shop.\" },\\n            { \"source\": \"LittleSweetShop\", \"target\": \"Cupcakes\", \"label\": \"hasType\", \"strength\": 1.0, \"rationale\": \"The shop type is mentioned as Cupcakes for the Little Sweet Shop.\" }, \\n            { \"source\": \"LittleSweetShop\", \"target\": \"Knowledge\", \"label\": \"isSubjectOf\", \"strength\": 0.1, \"rationale\": \"Connects LittleSweetShop to the overarching concept.\" }, \\n            { \"source\": \"1234ExampleLnReston20190\", \"target\": \"Knowledge\", \"label\": \"isSubjectOf\", \"strength\": 0.1, \"rationale\": \"Connects StoreAddress to the overarching concept.\" }, \\n            { \"source\": \"SallyJones\", \"target\": \"Knowledge\", \"label\": \"isSubjectOf\", \"strength\": 0.1, \"rationale\": \"Connects SallyJones to the overarching concept.\" }, \\n            { \"source\": \"July102023\", \"target\": \"Knowledge\", \"label\": \"isSubjectOf\", \"strength\": 0.1, \"rationale\": \"Connects OpeningDate to the overarching concept.\" },\\n            { \"source\": \"Cupcakes\", \"target\": \"Knowledge\", \"label\": \"isSubjectOf\", \"strength\": 0.1, \"rationale\": \"Connects Cupcakes to the overarching concept.\" } \\n    ], \\n    \"groups\": \\n        [ \\n            { \"group_id\": 1, \"rationale\": \"Overarching concept connecting all elements of the given context\" }, \\n            { \"group_id\": 2, \"rationale\": \"The store entity and its details\" }, \\n            { \"group_id\": 3, \"rationale\": \"The address details of the store\" }, \\n            { \"group_id\": 4, \"rationale\": \"The owner of the store\" },\\n            { \"group_id\": 5, \"rationale\": \"The opening date details of the store\" }, \\n            { \"group_id\": 6, \"rationale\": \"The type of store and its offerings\" } \\n        ] \\n}\\n```\\n\\n<input> \\nAPPRAISAL REPORT\\nPROPERTY: COLLEGE COURTYARD APARTMENTS & RAIDER HOUSING\\nA 62 UNIT MULTI-FAMILY RESIDENTIAL PROPERTY\\n28 & 30 GARDEN LANE\\nNICEVILLE, OKALOOSA COUNTY, FL 32578\\n</input>'"
      ]
     },
     "execution_count": 77,
     "metadata": {},
     "output_type": "execute_result"
    }
   ],
   "source": [
    "prompt"
   ]
  },
  {
   "cell_type": "code",
   "execution_count": 78,
   "id": "ccb07fba-f975-4b5c-bc32-71c5d9b930ae",
   "metadata": {
    "tags": []
   },
   "outputs": [],
   "source": [
    "message={\"role\": \"user\",\"content\": prompt}"
   ]
  },
  {
   "cell_type": "code",
   "execution_count": 79,
   "id": "8506f933-0022-4616-bc01-578c10e43d20",
   "metadata": {
    "tags": []
   },
   "outputs": [],
   "source": [
    "messages = [message]"
   ]
  },
  {
   "cell_type": "code",
   "execution_count": 80,
   "id": "299574ff-68ed-46a0-b78f-03b7a1d51e9a",
   "metadata": {
    "tags": []
   },
   "outputs": [],
   "source": [
    "body=json.dumps(\n",
    "{\n",
    "    'messages':messages,\n",
    "    'anthropic_version':'bedrock-2023-05-31',\n",
    "    'top_p':0.5,\n",
    "    'temperature':0.5,\n",
    "    'top_k':5,\n",
    "    'max_tokens':3000\n",
    "})"
   ]
  },
  {
   "cell_type": "code",
   "execution_count": 81,
   "id": "17eaa8fa-1b79-4bc3-934d-4df9fa671a80",
   "metadata": {
    "tags": []
   },
   "outputs": [],
   "source": [
    "response = bedrock_runtime.invoke_model(\n",
    "    modelId=model_id,\n",
    "    contentType='application/json',\n",
    "    accept='application/json',\n",
    "    body=body\n",
    ")"
   ]
  },
  {
   "cell_type": "code",
   "execution_count": 82,
   "id": "e4389832-7472-4e72-8d1e-e77c033de634",
   "metadata": {
    "tags": []
   },
   "outputs": [],
   "source": [
    "response_body = json.loads(response['body'].read())"
   ]
  },
  {
   "cell_type": "code",
   "execution_count": 83,
   "id": "c2eaa183-e720-4bf2-8d95-a0b4a84e2a18",
   "metadata": {
    "tags": []
   },
   "outputs": [
    {
     "data": {
      "text/plain": [
       "{'id': 'msg_01VnjUWXN1KshW7AQuifsVWx',\n",
       " 'type': 'message',\n",
       " 'role': 'assistant',\n",
       " 'content': [{'type': 'text',\n",
       "   'text': '```json\\n{\\n    \"nodes\": [\\n        {\\n            \"id\": \"Knowledge\",\\n            \"attributes\": \"\",\\n            \"type\": \"concept\",\\n            \"group\": 1\\n        },\\n        {\\n            \"id\": \"PropertyAppraisal\",\\n            \"attributes\": \"\",\\n            \"type\": \"document\",\\n            \"group\": 2\\n        },\\n        {\\n            \"id\": \"CollegeCourtyard\",\\n            \"attributes\": \"PropertyName\",\\n            \"type\": \"entity\",\\n            \"group\": 3\\n        },\\n        {\\n            \"id\": \"RaiderHousing\",\\n            \"attributes\": \"PropertyName\",\\n            \"type\": \"entity\",\\n            \"group\": 3\\n        },\\n        {\\n            \"id\": \"62Units\",\\n            \"attributes\": \"PropertyUnits\",\\n            \"type\": \"entity\",\\n            \"group\": 4\\n        },\\n        {\\n            \"id\": \"MultiFamily\",\\n            \"attributes\": \"PropertyBuildingType\",\\n            \"type\": \"entity\",\\n            \"group\": 4\\n        },\\n        {\\n            \"id\": \"Residential\",\\n            \"attributes\": \"\",\\n            \"type\": \"entity\",\\n            \"group\": 4\\n        },\\n        {\\n            \"id\": \"28GardenLane\",\\n            \"attributes\": \"PropertyStreetNumber, PropertyStreetName\",\\n            \"type\": \"PropertyAddress\",\\n            \"group\": 5\\n        },\\n        {\\n            \"id\": \"30GardenLane\",\\n            \"attributes\": \"PropertyStreetNumber, PropertyStreetName\",\\n            \"type\": \"PropertyAddress\",\\n            \"group\": 5\\n        },\\n        {\\n            \"id\": \"28\",\\n            \"attributes\": \"PropertyStreetNumber\",\\n            \"type\": \"PropertyStreetNumber\",\\n            \"group\": 5\\n        },\\n        {\\n            \"id\": \"30\",\\n            \"attributes\": \"PropertyStreetNumber\",\\n            \"type\": \"PropertyStreetNumber\",\\n            \"group\": 5\\n        },\\n        {\\n            \"id\": \"GardenLane\",\\n            \"attributes\": \"PropertyStreetName\",\\n            \"type\": \"PropertyStreetName\",\\n            \"group\": 5\\n        },\\n        {\\n            \"id\": \"Niceville\",\\n            \"attributes\": \"PropertyCity\",\\n            \"type\": \"PropertyCity\",\\n            \"group\": 6\\n        },\\n        {\\n            \"id\": \"OkaloosaCounty\",\\n            \"attributes\": \"\",\\n            \"type\": \"entity\",\\n            \"group\": 6\\n        },\\n        {\\n            \"id\": \"FL\",\\n            \"attributes\": \"PropertyState\",\\n            \"type\": \"entity\",\\n            \"group\": 6\\n        },\\n        {\\n            \"id\": \"32578\",\\n            \"attributes\": \"PropertyZip\",\\n            \"type\": \"PropertyZip\",\\n            \"group\": 6\\n        }\\n    ],\\n    \"links\": [\\n        {\\n            \"source\": \"PropertyAppraisal\",\\n            \"target\": \"CollegeCourtyard\",\\n            \"label\": \"hasSubject\",\\n            \"strength\": 1.0,\\n            \"rationale\": \"The appraisal report is for the property College Courtyard Apartments.\"\\n        },\\n        {\\n            \"source\": \"PropertyAppraisal\",\\n            \"target\": \"RaiderHousing\",\\n            \"label\": \"hasSubject\",\\n            \"strength\": 1.0,\\n            \"rationale\": \"The appraisal report is for the property Raider Housing.\"\\n        },\\n        {\\n            \"source\": \"CollegeCourtyard\",\\n            \"target\": \"62Units\",\\n            \"label\": \"hasUnits\",\\n            \"strength\": 1.0,\\n            \"rationale\": \"The property College Courtyard Apartments has 62 units.\"\\n        },\\n        {\\n            \"source\": \"RaiderHousing\",\\n            \"target\": \"62Units\",\\n            \"label\": \"hasUnits\",\\n            \"strength\": 1.0,\\n            \"rationale\": \"The property Raider Housing has 62 units.\"\\n        },\\n        {\\n            \"source\": \"62Units\",\\n            \"target\": \"MultiFamily\",\\n            \"label\": \"isTypeOf\",\\n            \"strength\": 1.0,\\n            \"rationale\": \"The 62 units are described as a multi-family residential property.\"\\n        },\\n        {\\n            \"source\": \"MultiFamily\",\\n            \"target\": \"Residential\",\\n            \"label\": \"isTypeOf\",\\n            \"strength\": 1.0,\\n            \"rationale\": \"Multi-family is a type of residential property.\"\\n        },\\n        {\\n            \"source\": \"CollegeCourtyard\",\\n            \"target\": \"28GardenLane\",\\n            \"label\": \"hasAddress\",\\n            \"strength\": 1.0,\\n            \"rationale\": \"The property College Courtyard Apartments is located at 28 Garden Lane.\"\\n        },\\n        {\\n            \"source\": \"RaiderHousing\",\\n            \"target\": \"30GardenLane\",\\n            \"label\": \"hasAddress\",\\n            \"strength\": 1.0,\\n            \"rationale\": \"The property Raider Housing is located at 30 Garden Lane.\"\\n        },\\n        {\\n            \"source\": \"28GardenLane\",\\n            \"target\": \"28\",\\n            \"label\": \"hasStreetNumber\",\\n            \"strength\": 1.0,\\n            \"rationale\": \"The address 28 Garden Lane contains the street number 28.\"\\n        },\\n        {\\n            \"source\": \"30GardenLane\",\\n            \"target\": \"30\",\\n            \"label\": \"hasStreetNumber\",\\n            \"strength\": 1.0,\\n            \"rationale\": \"The address 30 Garden Lane contains the street number 30.\"\\n        },\\n        {\\n            \"source\": \"28GardenLane\",\\n            \"target\": \"GardenLane\",\\n            \"label\": \"hasStreetName\",\\n            \"strength\": 1.0,\\n            \"rationale\": \"The address 28 Garden Lane contains the street name Garden Lane.\"\\n        },\\n        {\\n            \"source\": \"30GardenLane\",\\n            \"target\": \"GardenLane\",\\n            \"label\": \"hasStreetName\",\\n            \"strength\": 1.0,\\n            \"rationale\": \"The address 30 Garden Lane contains the street name Garden Lane.\"\\n        },\\n        {\\n            \"source\": \"28GardenLane\",\\n            \"target\": \"Niceville\",\\n            \"label\": \"hasCity\",\\n            \"strength\": 1.0,\\n            \"rationale\": \"The address 28 Garden Lane is located in the city of Niceville.\"\\n        },\\n        {\\n            \"source\": \"30GardenLane\",\\n            \"target\": \"Niceville\",\\n            \"label\": \"hasCity\",\\n            \"strength\": 1.0,\\n            \"rationale\": \"The address 30 Garden Lane is located in the city of Niceville.\"\\n        },\\n        {\\n            \"source\": \"Niceville\",\\n            \"target\": \"OkaloosaCounty\",\\n            \"label\": \"isLocatedIn\",\\n            \"strength\": 1.0,\\n            \"rationale\": \"The city of Niceville is located in Okaloosa County.\"\\n        },\\n        {\\n            \"source\": \"Niceville\",\\n            \"target\": \"FL\",\\n            \"label\": \"isLocatedIn\",\\n            \"strength\": 1.0,\\n            \"rationale\": \"The city of Niceville is located in the state of Florida (FL).\"\\n        },\\n        {\\n            \"source\": \"28GardenLane\",\\n            \"target\": \"32578\",\\n            \"label\": \"hasZip\",\\n            \"strength\": 1.0,\\n            \"rationale\": \"The address 28 Garden Lane has the zip code 32578.\"\\n        },\\n        {\\n            \"source\": \"30GardenLane\",\\n            \"target\": \"32578\",\\n            \"label\": \"hasZip\",\\n            \"strength\": 1.0,\\n            \"rationale\": \"The address 30 Garden Lane has the zip code 32578.\"\\n        },\\n        {\\n            \"source\": \"PropertyAppraisal\",\\n            \"target\": \"Knowledge\",\\n            \"label\": \"isSubjectOf\",\\n            \"strength\": 0.1,\\n            \"rationale\": \"Connects the PropertyAppraisal to the overarching concept.\"\\n        },\\n        {\\n            \"source\": \"CollegeCourtyard\",\\n            \"target\": \"Knowledge\",\\n            \"label\": \"isSubjectOf\",\\n            \"strength\": 0.1,\\n            \"rationale\": \"Connects CollegeCourtyard to the overarching concept.\"\\n        },\\n        {\\n            \"source\": \"RaiderHousing\",\\n            \"target\": \"Knowledge\",\\n            \"label\": \"isSubjectOf\",\\n            \"strength\": 0.1,\\n            \"rationale\": \"Connects RaiderHousing to the overarching concept.\"\\n        },\\n        {\\n            \"source\": \"62Units\",\\n            \"target\": \"Knowledge\",\\n            \"label\": \"isSubjectOf\",\\n            \"strength\": 0.1,\\n            \"rationale\": \"Connects 62Units to the overarching concept.\"\\n        },\\n        {\\n            \"source\": \"MultiFamily\",\\n            \"target\": \"Knowledge\",\\n            \"label\": \"isSubjectOf\",\\n            \"strength\": 0.1,\\n            \"rationale\": \"Connects MultiFamily to the overarching concept.\"\\n        },\\n        {\\n            \"source\": \"Residential\",\\n            \"target\": \"Knowledge\",\\n            \"label\": \"isSubjectOf\",\\n            \"strength\": 0.1,\\n            \"rationale\": \"Connects Residential to the overarching concept.\"\\n        },\\n        {\\n            \"source\": \"28GardenLane\",\\n            \"target\": \"Knowledge\",\\n            \"label\": \"isSubjectOf\",\\n            \"strength\": 0.1,\\n            \"rationale\": \"Connects 28GardenLane to the overarching concept.\"\\n        },\\n        {\\n            \"source\": \"30GardenLane\",\\n            \"target\": \"Knowledge\",\\n            \"label\": \"isSubjectOf\",\\n            \"strength\": 0.1,\\n            \"rationale\": \"Connects 30GardenLane to the overarching concept.\"\\n        },\\n        {\\n            \"source\": \"28\",\\n            \"target\": \"Knowledge\",\\n            \"label\": \"isSubjectOf\",\\n            \"strength\": 0.1,\\n            \"rationale\": \"Connects 28 to the overarching concept.\"\\n        },\\n        {\\n            \"source\": \"30\",\\n            \"target\": \"Knowledge\",\\n            \"label\": \"isSubjectOf\",\\n            \"strength\": 0.1,\\n            \"rationale\": \"Connects 30 to the overarching concept.\"\\n        },\\n        {\\n            \"source\": \"GardenLane\",\\n            \"target\": \"Knowledge\",\\n            \"label\": \"isSubjectOf\",\\n            \"strength\": 0.1,\\n            \"rationale\": \"Connects GardenLane to the overarching concept.\"\\n        },\\n        {\\n            \"source\": \"Niceville\",\\n            \"target\": \"Knowledge\",\\n            \"label\": \"isSubjectOf\",\\n            \"strength\": 0.1,\\n            \"rationale\": \"Connects Niceville to the overarching concept.\"\\n        },\\n        {\\n            \"source\": \"OkaloosaCounty\",\\n            \"target\": \"Knowledge\",\\n            \"label\": \"isSubjectOf\",\\n            \"strength\": 0.1,\\n            \"rationale\": \"Connects OkaloosaCounty to the overarching concept.\"\\n        },\\n        {\\n            \"source\": \"FL\",\\n            \"target\": \"Knowledge\",\\n            \"label\": \"isSubjectOf\",\\n            \"strength\": 0.1,\\n            \"rationale\": \"Connects FL to the overarching concept.\"\\n        },\\n        {\\n            \"source\": \"32578\",\\n            \"target\": \"Knowledge\",\\n            \"label\": \"isSubjectOf\",\\n            \"strength\": 0.1,\\n            \"rationale\": \"Connects 32578 to the overarching concept.\"\\n        }\\n    ],\\n    \"groups\": [\\n        {\\n            \"group_id\": 1,\\n            \"rationale\": \"Overarching concept connecting all elements of the given context\"\\n        },\\n        {\\n            \"'}],\n",
       " 'model': 'claude-3-sonnet-28k-20240229',\n",
       " 'stop_reason': 'max_tokens',\n",
       " 'stop_sequence': None,\n",
       " 'usage': {'input_tokens': 6238, 'output_tokens': 3000}}"
      ]
     },
     "execution_count": 83,
     "metadata": {},
     "output_type": "execute_result"
    }
   ],
   "source": [
    "response_body"
   ]
  },
  {
   "cell_type": "code",
   "execution_count": 84,
   "id": "8cc0828a-d4eb-42a6-8a0f-d9197abeabe7",
   "metadata": {
    "tags": []
   },
   "outputs": [],
   "source": [
    "full_output_name = f\"{model_id}-{template_filename.split('.txt')[0]}-{output_name}\"\n",
    "full_output_name=full_output_name.replace(\":\",\"-\")\n",
    "same_name_count = int(len([f for f in os.listdir(output_dir) if full_output_name in f])/2)\n",
    "file_count = \"\" if same_name_count ==0 else f'-{same_name_count}'"
   ]
  },
  {
   "cell_type": "code",
   "execution_count": 85,
   "id": "67dc8e3c-44c4-4110-9323-eab26984e950",
   "metadata": {
    "tags": []
   },
   "outputs": [
    {
     "data": {
      "text/plain": [
       "'anthropic.claude-3-sonnet-20240229-v1-0-prompt-template-ontology-with-example-modified-appraisal-report-addr-updated-example'"
      ]
     },
     "execution_count": 85,
     "metadata": {},
     "output_type": "execute_result"
    }
   ],
   "source": [
    "full_output_name"
   ]
  },
  {
   "cell_type": "code",
   "execution_count": 86,
   "id": "67179df5-3f5a-4665-bd3f-accb198c2b47",
   "metadata": {
    "tags": []
   },
   "outputs": [],
   "source": [
    "with open(os.path.join(output_dir,f\"{full_output_name}{file_count}.json\"),\"w+\") as f:\n",
    "    json.dump(response_body,f)"
   ]
  },
  {
   "cell_type": "code",
   "execution_count": 87,
   "id": "541cc108-446a-4007-ab2f-32d845bdd27d",
   "metadata": {
    "tags": []
   },
   "outputs": [
    {
     "ename": "JSONDecodeError",
     "evalue": "Unterminated string starting at: line 340 column 13 (char 10556)",
     "output_type": "error",
     "traceback": [
      "\u001b[0;31m---------------------------------------------------------------------------\u001b[0m",
      "\u001b[0;31mJSONDecodeError\u001b[0m                           Traceback (most recent call last)",
      "Cell \u001b[0;32mIn[87], line 2\u001b[0m\n\u001b[1;32m      1\u001b[0m \u001b[38;5;28;01mwith\u001b[39;00m \u001b[38;5;28mopen\u001b[39m(os\u001b[38;5;241m.\u001b[39mpath\u001b[38;5;241m.\u001b[39mjoin(output_dir,\u001b[38;5;124mf\u001b[39m\u001b[38;5;124m\"\u001b[39m\u001b[38;5;132;01m{\u001b[39;00mfull_output_name\u001b[38;5;132;01m}\u001b[39;00m\u001b[38;5;124m-graph\u001b[39m\u001b[38;5;132;01m{\u001b[39;00mfile_count\u001b[38;5;132;01m}\u001b[39;00m\u001b[38;5;124m.json\u001b[39m\u001b[38;5;124m\"\u001b[39m),\u001b[38;5;124m\"\u001b[39m\u001b[38;5;124mw+\u001b[39m\u001b[38;5;124m\"\u001b[39m) \u001b[38;5;28;01mas\u001b[39;00m f:\n\u001b[0;32m----> 2\u001b[0m     json\u001b[38;5;241m.\u001b[39mdump(\u001b[43mjson\u001b[49m\u001b[38;5;241;43m.\u001b[39;49m\u001b[43mloads\u001b[49m\u001b[43m(\u001b[49m\u001b[43mresponse_body\u001b[49m\u001b[43m[\u001b[49m\u001b[38;5;124;43m\"\u001b[39;49m\u001b[38;5;124;43mcontent\u001b[39;49m\u001b[38;5;124;43m\"\u001b[39;49m\u001b[43m]\u001b[49m\u001b[43m[\u001b[49m\u001b[38;5;241;43m0\u001b[39;49m\u001b[43m]\u001b[49m\u001b[43m[\u001b[49m\u001b[38;5;124;43m\"\u001b[39;49m\u001b[38;5;124;43mtext\u001b[39;49m\u001b[38;5;124;43m\"\u001b[39;49m\u001b[43m]\u001b[49m\u001b[38;5;241;43m.\u001b[39;49m\u001b[43msplit\u001b[49m\u001b[43m(\u001b[49m\u001b[38;5;124;43m\"\u001b[39;49m\u001b[38;5;124;43m```\u001b[39;49m\u001b[38;5;124;43m\"\u001b[39;49m\u001b[43m)\u001b[49m\u001b[43m[\u001b[49m\u001b[38;5;241;43m1\u001b[39;49m\u001b[43m]\u001b[49m\u001b[38;5;241;43m.\u001b[39;49m\u001b[43msplit\u001b[49m\u001b[43m(\u001b[49m\u001b[38;5;124;43m\"\u001b[39;49m\u001b[38;5;124;43mjson\u001b[39;49m\u001b[38;5;124;43m\"\u001b[39;49m\u001b[43m)\u001b[49m\u001b[43m[\u001b[49m\u001b[38;5;241;43m1\u001b[39;49m\u001b[43m]\u001b[49m\u001b[43m)\u001b[49m,f)\n",
      "File \u001b[0;32m/opt/conda/lib/python3.10/json/__init__.py:346\u001b[0m, in \u001b[0;36mloads\u001b[0;34m(s, cls, object_hook, parse_float, parse_int, parse_constant, object_pairs_hook, **kw)\u001b[0m\n\u001b[1;32m    341\u001b[0m     s \u001b[38;5;241m=\u001b[39m s\u001b[38;5;241m.\u001b[39mdecode(detect_encoding(s), \u001b[38;5;124m'\u001b[39m\u001b[38;5;124msurrogatepass\u001b[39m\u001b[38;5;124m'\u001b[39m)\n\u001b[1;32m    343\u001b[0m \u001b[38;5;28;01mif\u001b[39;00m (\u001b[38;5;28mcls\u001b[39m \u001b[38;5;129;01mis\u001b[39;00m \u001b[38;5;28;01mNone\u001b[39;00m \u001b[38;5;129;01mand\u001b[39;00m object_hook \u001b[38;5;129;01mis\u001b[39;00m \u001b[38;5;28;01mNone\u001b[39;00m \u001b[38;5;129;01mand\u001b[39;00m\n\u001b[1;32m    344\u001b[0m         parse_int \u001b[38;5;129;01mis\u001b[39;00m \u001b[38;5;28;01mNone\u001b[39;00m \u001b[38;5;129;01mand\u001b[39;00m parse_float \u001b[38;5;129;01mis\u001b[39;00m \u001b[38;5;28;01mNone\u001b[39;00m \u001b[38;5;129;01mand\u001b[39;00m\n\u001b[1;32m    345\u001b[0m         parse_constant \u001b[38;5;129;01mis\u001b[39;00m \u001b[38;5;28;01mNone\u001b[39;00m \u001b[38;5;129;01mand\u001b[39;00m object_pairs_hook \u001b[38;5;129;01mis\u001b[39;00m \u001b[38;5;28;01mNone\u001b[39;00m \u001b[38;5;129;01mand\u001b[39;00m \u001b[38;5;129;01mnot\u001b[39;00m kw):\n\u001b[0;32m--> 346\u001b[0m     \u001b[38;5;28;01mreturn\u001b[39;00m \u001b[43m_default_decoder\u001b[49m\u001b[38;5;241;43m.\u001b[39;49m\u001b[43mdecode\u001b[49m\u001b[43m(\u001b[49m\u001b[43ms\u001b[49m\u001b[43m)\u001b[49m\n\u001b[1;32m    347\u001b[0m \u001b[38;5;28;01mif\u001b[39;00m \u001b[38;5;28mcls\u001b[39m \u001b[38;5;129;01mis\u001b[39;00m \u001b[38;5;28;01mNone\u001b[39;00m:\n\u001b[1;32m    348\u001b[0m     \u001b[38;5;28mcls\u001b[39m \u001b[38;5;241m=\u001b[39m JSONDecoder\n",
      "File \u001b[0;32m/opt/conda/lib/python3.10/json/decoder.py:337\u001b[0m, in \u001b[0;36mJSONDecoder.decode\u001b[0;34m(self, s, _w)\u001b[0m\n\u001b[1;32m    332\u001b[0m \u001b[38;5;28;01mdef\u001b[39;00m \u001b[38;5;21mdecode\u001b[39m(\u001b[38;5;28mself\u001b[39m, s, _w\u001b[38;5;241m=\u001b[39mWHITESPACE\u001b[38;5;241m.\u001b[39mmatch):\n\u001b[1;32m    333\u001b[0m \u001b[38;5;250m    \u001b[39m\u001b[38;5;124;03m\"\"\"Return the Python representation of ``s`` (a ``str`` instance\u001b[39;00m\n\u001b[1;32m    334\u001b[0m \u001b[38;5;124;03m    containing a JSON document).\u001b[39;00m\n\u001b[1;32m    335\u001b[0m \n\u001b[1;32m    336\u001b[0m \u001b[38;5;124;03m    \"\"\"\u001b[39;00m\n\u001b[0;32m--> 337\u001b[0m     obj, end \u001b[38;5;241m=\u001b[39m \u001b[38;5;28;43mself\u001b[39;49m\u001b[38;5;241;43m.\u001b[39;49m\u001b[43mraw_decode\u001b[49m\u001b[43m(\u001b[49m\u001b[43ms\u001b[49m\u001b[43m,\u001b[49m\u001b[43m \u001b[49m\u001b[43midx\u001b[49m\u001b[38;5;241;43m=\u001b[39;49m\u001b[43m_w\u001b[49m\u001b[43m(\u001b[49m\u001b[43ms\u001b[49m\u001b[43m,\u001b[49m\u001b[43m \u001b[49m\u001b[38;5;241;43m0\u001b[39;49m\u001b[43m)\u001b[49m\u001b[38;5;241;43m.\u001b[39;49m\u001b[43mend\u001b[49m\u001b[43m(\u001b[49m\u001b[43m)\u001b[49m\u001b[43m)\u001b[49m\n\u001b[1;32m    338\u001b[0m     end \u001b[38;5;241m=\u001b[39m _w(s, end)\u001b[38;5;241m.\u001b[39mend()\n\u001b[1;32m    339\u001b[0m     \u001b[38;5;28;01mif\u001b[39;00m end \u001b[38;5;241m!=\u001b[39m \u001b[38;5;28mlen\u001b[39m(s):\n",
      "File \u001b[0;32m/opt/conda/lib/python3.10/json/decoder.py:353\u001b[0m, in \u001b[0;36mJSONDecoder.raw_decode\u001b[0;34m(self, s, idx)\u001b[0m\n\u001b[1;32m    344\u001b[0m \u001b[38;5;250m\u001b[39m\u001b[38;5;124;03m\"\"\"Decode a JSON document from ``s`` (a ``str`` beginning with\u001b[39;00m\n\u001b[1;32m    345\u001b[0m \u001b[38;5;124;03ma JSON document) and return a 2-tuple of the Python\u001b[39;00m\n\u001b[1;32m    346\u001b[0m \u001b[38;5;124;03mrepresentation and the index in ``s`` where the document ended.\u001b[39;00m\n\u001b[0;32m   (...)\u001b[0m\n\u001b[1;32m    350\u001b[0m \n\u001b[1;32m    351\u001b[0m \u001b[38;5;124;03m\"\"\"\u001b[39;00m\n\u001b[1;32m    352\u001b[0m \u001b[38;5;28;01mtry\u001b[39;00m:\n\u001b[0;32m--> 353\u001b[0m     obj, end \u001b[38;5;241m=\u001b[39m \u001b[38;5;28;43mself\u001b[39;49m\u001b[38;5;241;43m.\u001b[39;49m\u001b[43mscan_once\u001b[49m\u001b[43m(\u001b[49m\u001b[43ms\u001b[49m\u001b[43m,\u001b[49m\u001b[43m \u001b[49m\u001b[43midx\u001b[49m\u001b[43m)\u001b[49m\n\u001b[1;32m    354\u001b[0m \u001b[38;5;28;01mexcept\u001b[39;00m \u001b[38;5;167;01mStopIteration\u001b[39;00m \u001b[38;5;28;01mas\u001b[39;00m err:\n\u001b[1;32m    355\u001b[0m     \u001b[38;5;28;01mraise\u001b[39;00m JSONDecodeError(\u001b[38;5;124m\"\u001b[39m\u001b[38;5;124mExpecting value\u001b[39m\u001b[38;5;124m\"\u001b[39m, s, err\u001b[38;5;241m.\u001b[39mvalue) \u001b[38;5;28;01mfrom\u001b[39;00m \u001b[38;5;28;01mNone\u001b[39;00m\n",
      "\u001b[0;31mJSONDecodeError\u001b[0m: Unterminated string starting at: line 340 column 13 (char 10556)"
     ]
    }
   ],
   "source": [
    "with open(os.path.join(output_dir,f\"{full_output_name}-graph{file_count}.json\"),\"w+\") as f:\n",
    "    json.dump(json.loads(response_body[\"content\"][0][\"text\"].split(\"```\")[1].split(\"json\")[1]),f)"
   ]
  }
 ],
 "metadata": {
  "availableInstances": [
   {
    "_defaultOrder": 0,
    "_isFastLaunch": true,
    "category": "General purpose",
    "gpuNum": 0,
    "hideHardwareSpecs": false,
    "memoryGiB": 4,
    "name": "ml.t3.medium",
    "vcpuNum": 2
   },
   {
    "_defaultOrder": 1,
    "_isFastLaunch": false,
    "category": "General purpose",
    "gpuNum": 0,
    "hideHardwareSpecs": false,
    "memoryGiB": 8,
    "name": "ml.t3.large",
    "vcpuNum": 2
   },
   {
    "_defaultOrder": 2,
    "_isFastLaunch": false,
    "category": "General purpose",
    "gpuNum": 0,
    "hideHardwareSpecs": false,
    "memoryGiB": 16,
    "name": "ml.t3.xlarge",
    "vcpuNum": 4
   },
   {
    "_defaultOrder": 3,
    "_isFastLaunch": false,
    "category": "General purpose",
    "gpuNum": 0,
    "hideHardwareSpecs": false,
    "memoryGiB": 32,
    "name": "ml.t3.2xlarge",
    "vcpuNum": 8
   },
   {
    "_defaultOrder": 4,
    "_isFastLaunch": true,
    "category": "General purpose",
    "gpuNum": 0,
    "hideHardwareSpecs": false,
    "memoryGiB": 8,
    "name": "ml.m5.large",
    "vcpuNum": 2
   },
   {
    "_defaultOrder": 5,
    "_isFastLaunch": false,
    "category": "General purpose",
    "gpuNum": 0,
    "hideHardwareSpecs": false,
    "memoryGiB": 16,
    "name": "ml.m5.xlarge",
    "vcpuNum": 4
   },
   {
    "_defaultOrder": 6,
    "_isFastLaunch": false,
    "category": "General purpose",
    "gpuNum": 0,
    "hideHardwareSpecs": false,
    "memoryGiB": 32,
    "name": "ml.m5.2xlarge",
    "vcpuNum": 8
   },
   {
    "_defaultOrder": 7,
    "_isFastLaunch": false,
    "category": "General purpose",
    "gpuNum": 0,
    "hideHardwareSpecs": false,
    "memoryGiB": 64,
    "name": "ml.m5.4xlarge",
    "vcpuNum": 16
   },
   {
    "_defaultOrder": 8,
    "_isFastLaunch": false,
    "category": "General purpose",
    "gpuNum": 0,
    "hideHardwareSpecs": false,
    "memoryGiB": 128,
    "name": "ml.m5.8xlarge",
    "vcpuNum": 32
   },
   {
    "_defaultOrder": 9,
    "_isFastLaunch": false,
    "category": "General purpose",
    "gpuNum": 0,
    "hideHardwareSpecs": false,
    "memoryGiB": 192,
    "name": "ml.m5.12xlarge",
    "vcpuNum": 48
   },
   {
    "_defaultOrder": 10,
    "_isFastLaunch": false,
    "category": "General purpose",
    "gpuNum": 0,
    "hideHardwareSpecs": false,
    "memoryGiB": 256,
    "name": "ml.m5.16xlarge",
    "vcpuNum": 64
   },
   {
    "_defaultOrder": 11,
    "_isFastLaunch": false,
    "category": "General purpose",
    "gpuNum": 0,
    "hideHardwareSpecs": false,
    "memoryGiB": 384,
    "name": "ml.m5.24xlarge",
    "vcpuNum": 96
   },
   {
    "_defaultOrder": 12,
    "_isFastLaunch": false,
    "category": "General purpose",
    "gpuNum": 0,
    "hideHardwareSpecs": false,
    "memoryGiB": 8,
    "name": "ml.m5d.large",
    "vcpuNum": 2
   },
   {
    "_defaultOrder": 13,
    "_isFastLaunch": false,
    "category": "General purpose",
    "gpuNum": 0,
    "hideHardwareSpecs": false,
    "memoryGiB": 16,
    "name": "ml.m5d.xlarge",
    "vcpuNum": 4
   },
   {
    "_defaultOrder": 14,
    "_isFastLaunch": false,
    "category": "General purpose",
    "gpuNum": 0,
    "hideHardwareSpecs": false,
    "memoryGiB": 32,
    "name": "ml.m5d.2xlarge",
    "vcpuNum": 8
   },
   {
    "_defaultOrder": 15,
    "_isFastLaunch": false,
    "category": "General purpose",
    "gpuNum": 0,
    "hideHardwareSpecs": false,
    "memoryGiB": 64,
    "name": "ml.m5d.4xlarge",
    "vcpuNum": 16
   },
   {
    "_defaultOrder": 16,
    "_isFastLaunch": false,
    "category": "General purpose",
    "gpuNum": 0,
    "hideHardwareSpecs": false,
    "memoryGiB": 128,
    "name": "ml.m5d.8xlarge",
    "vcpuNum": 32
   },
   {
    "_defaultOrder": 17,
    "_isFastLaunch": false,
    "category": "General purpose",
    "gpuNum": 0,
    "hideHardwareSpecs": false,
    "memoryGiB": 192,
    "name": "ml.m5d.12xlarge",
    "vcpuNum": 48
   },
   {
    "_defaultOrder": 18,
    "_isFastLaunch": false,
    "category": "General purpose",
    "gpuNum": 0,
    "hideHardwareSpecs": false,
    "memoryGiB": 256,
    "name": "ml.m5d.16xlarge",
    "vcpuNum": 64
   },
   {
    "_defaultOrder": 19,
    "_isFastLaunch": false,
    "category": "General purpose",
    "gpuNum": 0,
    "hideHardwareSpecs": false,
    "memoryGiB": 384,
    "name": "ml.m5d.24xlarge",
    "vcpuNum": 96
   },
   {
    "_defaultOrder": 20,
    "_isFastLaunch": false,
    "category": "General purpose",
    "gpuNum": 0,
    "hideHardwareSpecs": true,
    "memoryGiB": 0,
    "name": "ml.geospatial.interactive",
    "supportedImageNames": [
     "sagemaker-geospatial-v1-0"
    ],
    "vcpuNum": 0
   },
   {
    "_defaultOrder": 21,
    "_isFastLaunch": true,
    "category": "Compute optimized",
    "gpuNum": 0,
    "hideHardwareSpecs": false,
    "memoryGiB": 4,
    "name": "ml.c5.large",
    "vcpuNum": 2
   },
   {
    "_defaultOrder": 22,
    "_isFastLaunch": false,
    "category": "Compute optimized",
    "gpuNum": 0,
    "hideHardwareSpecs": false,
    "memoryGiB": 8,
    "name": "ml.c5.xlarge",
    "vcpuNum": 4
   },
   {
    "_defaultOrder": 23,
    "_isFastLaunch": false,
    "category": "Compute optimized",
    "gpuNum": 0,
    "hideHardwareSpecs": false,
    "memoryGiB": 16,
    "name": "ml.c5.2xlarge",
    "vcpuNum": 8
   },
   {
    "_defaultOrder": 24,
    "_isFastLaunch": false,
    "category": "Compute optimized",
    "gpuNum": 0,
    "hideHardwareSpecs": false,
    "memoryGiB": 32,
    "name": "ml.c5.4xlarge",
    "vcpuNum": 16
   },
   {
    "_defaultOrder": 25,
    "_isFastLaunch": false,
    "category": "Compute optimized",
    "gpuNum": 0,
    "hideHardwareSpecs": false,
    "memoryGiB": 72,
    "name": "ml.c5.9xlarge",
    "vcpuNum": 36
   },
   {
    "_defaultOrder": 26,
    "_isFastLaunch": false,
    "category": "Compute optimized",
    "gpuNum": 0,
    "hideHardwareSpecs": false,
    "memoryGiB": 96,
    "name": "ml.c5.12xlarge",
    "vcpuNum": 48
   },
   {
    "_defaultOrder": 27,
    "_isFastLaunch": false,
    "category": "Compute optimized",
    "gpuNum": 0,
    "hideHardwareSpecs": false,
    "memoryGiB": 144,
    "name": "ml.c5.18xlarge",
    "vcpuNum": 72
   },
   {
    "_defaultOrder": 28,
    "_isFastLaunch": false,
    "category": "Compute optimized",
    "gpuNum": 0,
    "hideHardwareSpecs": false,
    "memoryGiB": 192,
    "name": "ml.c5.24xlarge",
    "vcpuNum": 96
   },
   {
    "_defaultOrder": 29,
    "_isFastLaunch": true,
    "category": "Accelerated computing",
    "gpuNum": 1,
    "hideHardwareSpecs": false,
    "memoryGiB": 16,
    "name": "ml.g4dn.xlarge",
    "vcpuNum": 4
   },
   {
    "_defaultOrder": 30,
    "_isFastLaunch": false,
    "category": "Accelerated computing",
    "gpuNum": 1,
    "hideHardwareSpecs": false,
    "memoryGiB": 32,
    "name": "ml.g4dn.2xlarge",
    "vcpuNum": 8
   },
   {
    "_defaultOrder": 31,
    "_isFastLaunch": false,
    "category": "Accelerated computing",
    "gpuNum": 1,
    "hideHardwareSpecs": false,
    "memoryGiB": 64,
    "name": "ml.g4dn.4xlarge",
    "vcpuNum": 16
   },
   {
    "_defaultOrder": 32,
    "_isFastLaunch": false,
    "category": "Accelerated computing",
    "gpuNum": 1,
    "hideHardwareSpecs": false,
    "memoryGiB": 128,
    "name": "ml.g4dn.8xlarge",
    "vcpuNum": 32
   },
   {
    "_defaultOrder": 33,
    "_isFastLaunch": false,
    "category": "Accelerated computing",
    "gpuNum": 4,
    "hideHardwareSpecs": false,
    "memoryGiB": 192,
    "name": "ml.g4dn.12xlarge",
    "vcpuNum": 48
   },
   {
    "_defaultOrder": 34,
    "_isFastLaunch": false,
    "category": "Accelerated computing",
    "gpuNum": 1,
    "hideHardwareSpecs": false,
    "memoryGiB": 256,
    "name": "ml.g4dn.16xlarge",
    "vcpuNum": 64
   },
   {
    "_defaultOrder": 35,
    "_isFastLaunch": false,
    "category": "Accelerated computing",
    "gpuNum": 1,
    "hideHardwareSpecs": false,
    "memoryGiB": 61,
    "name": "ml.p3.2xlarge",
    "vcpuNum": 8
   },
   {
    "_defaultOrder": 36,
    "_isFastLaunch": false,
    "category": "Accelerated computing",
    "gpuNum": 4,
    "hideHardwareSpecs": false,
    "memoryGiB": 244,
    "name": "ml.p3.8xlarge",
    "vcpuNum": 32
   },
   {
    "_defaultOrder": 37,
    "_isFastLaunch": false,
    "category": "Accelerated computing",
    "gpuNum": 8,
    "hideHardwareSpecs": false,
    "memoryGiB": 488,
    "name": "ml.p3.16xlarge",
    "vcpuNum": 64
   },
   {
    "_defaultOrder": 38,
    "_isFastLaunch": false,
    "category": "Accelerated computing",
    "gpuNum": 8,
    "hideHardwareSpecs": false,
    "memoryGiB": 768,
    "name": "ml.p3dn.24xlarge",
    "vcpuNum": 96
   },
   {
    "_defaultOrder": 39,
    "_isFastLaunch": false,
    "category": "Memory Optimized",
    "gpuNum": 0,
    "hideHardwareSpecs": false,
    "memoryGiB": 16,
    "name": "ml.r5.large",
    "vcpuNum": 2
   },
   {
    "_defaultOrder": 40,
    "_isFastLaunch": false,
    "category": "Memory Optimized",
    "gpuNum": 0,
    "hideHardwareSpecs": false,
    "memoryGiB": 32,
    "name": "ml.r5.xlarge",
    "vcpuNum": 4
   },
   {
    "_defaultOrder": 41,
    "_isFastLaunch": false,
    "category": "Memory Optimized",
    "gpuNum": 0,
    "hideHardwareSpecs": false,
    "memoryGiB": 64,
    "name": "ml.r5.2xlarge",
    "vcpuNum": 8
   },
   {
    "_defaultOrder": 42,
    "_isFastLaunch": false,
    "category": "Memory Optimized",
    "gpuNum": 0,
    "hideHardwareSpecs": false,
    "memoryGiB": 128,
    "name": "ml.r5.4xlarge",
    "vcpuNum": 16
   },
   {
    "_defaultOrder": 43,
    "_isFastLaunch": false,
    "category": "Memory Optimized",
    "gpuNum": 0,
    "hideHardwareSpecs": false,
    "memoryGiB": 256,
    "name": "ml.r5.8xlarge",
    "vcpuNum": 32
   },
   {
    "_defaultOrder": 44,
    "_isFastLaunch": false,
    "category": "Memory Optimized",
    "gpuNum": 0,
    "hideHardwareSpecs": false,
    "memoryGiB": 384,
    "name": "ml.r5.12xlarge",
    "vcpuNum": 48
   },
   {
    "_defaultOrder": 45,
    "_isFastLaunch": false,
    "category": "Memory Optimized",
    "gpuNum": 0,
    "hideHardwareSpecs": false,
    "memoryGiB": 512,
    "name": "ml.r5.16xlarge",
    "vcpuNum": 64
   },
   {
    "_defaultOrder": 46,
    "_isFastLaunch": false,
    "category": "Memory Optimized",
    "gpuNum": 0,
    "hideHardwareSpecs": false,
    "memoryGiB": 768,
    "name": "ml.r5.24xlarge",
    "vcpuNum": 96
   },
   {
    "_defaultOrder": 47,
    "_isFastLaunch": false,
    "category": "Accelerated computing",
    "gpuNum": 1,
    "hideHardwareSpecs": false,
    "memoryGiB": 16,
    "name": "ml.g5.xlarge",
    "vcpuNum": 4
   },
   {
    "_defaultOrder": 48,
    "_isFastLaunch": false,
    "category": "Accelerated computing",
    "gpuNum": 1,
    "hideHardwareSpecs": false,
    "memoryGiB": 32,
    "name": "ml.g5.2xlarge",
    "vcpuNum": 8
   },
   {
    "_defaultOrder": 49,
    "_isFastLaunch": false,
    "category": "Accelerated computing",
    "gpuNum": 1,
    "hideHardwareSpecs": false,
    "memoryGiB": 64,
    "name": "ml.g5.4xlarge",
    "vcpuNum": 16
   },
   {
    "_defaultOrder": 50,
    "_isFastLaunch": false,
    "category": "Accelerated computing",
    "gpuNum": 1,
    "hideHardwareSpecs": false,
    "memoryGiB": 128,
    "name": "ml.g5.8xlarge",
    "vcpuNum": 32
   },
   {
    "_defaultOrder": 51,
    "_isFastLaunch": false,
    "category": "Accelerated computing",
    "gpuNum": 1,
    "hideHardwareSpecs": false,
    "memoryGiB": 256,
    "name": "ml.g5.16xlarge",
    "vcpuNum": 64
   },
   {
    "_defaultOrder": 52,
    "_isFastLaunch": false,
    "category": "Accelerated computing",
    "gpuNum": 4,
    "hideHardwareSpecs": false,
    "memoryGiB": 192,
    "name": "ml.g5.12xlarge",
    "vcpuNum": 48
   },
   {
    "_defaultOrder": 53,
    "_isFastLaunch": false,
    "category": "Accelerated computing",
    "gpuNum": 4,
    "hideHardwareSpecs": false,
    "memoryGiB": 384,
    "name": "ml.g5.24xlarge",
    "vcpuNum": 96
   },
   {
    "_defaultOrder": 54,
    "_isFastLaunch": false,
    "category": "Accelerated computing",
    "gpuNum": 8,
    "hideHardwareSpecs": false,
    "memoryGiB": 768,
    "name": "ml.g5.48xlarge",
    "vcpuNum": 192
   },
   {
    "_defaultOrder": 55,
    "_isFastLaunch": false,
    "category": "Accelerated computing",
    "gpuNum": 8,
    "hideHardwareSpecs": false,
    "memoryGiB": 1152,
    "name": "ml.p4d.24xlarge",
    "vcpuNum": 96
   },
   {
    "_defaultOrder": 56,
    "_isFastLaunch": false,
    "category": "Accelerated computing",
    "gpuNum": 8,
    "hideHardwareSpecs": false,
    "memoryGiB": 1152,
    "name": "ml.p4de.24xlarge",
    "vcpuNum": 96
   },
   {
    "_defaultOrder": 57,
    "_isFastLaunch": false,
    "category": "Accelerated computing",
    "gpuNum": 0,
    "hideHardwareSpecs": false,
    "memoryGiB": 32,
    "name": "ml.trn1.2xlarge",
    "vcpuNum": 8
   },
   {
    "_defaultOrder": 58,
    "_isFastLaunch": false,
    "category": "Accelerated computing",
    "gpuNum": 0,
    "hideHardwareSpecs": false,
    "memoryGiB": 512,
    "name": "ml.trn1.32xlarge",
    "vcpuNum": 128
   },
   {
    "_defaultOrder": 59,
    "_isFastLaunch": false,
    "category": "Accelerated computing",
    "gpuNum": 0,
    "hideHardwareSpecs": false,
    "memoryGiB": 512,
    "name": "ml.trn1n.32xlarge",
    "vcpuNum": 128
   }
  ],
  "instance_type": "ml.t3.medium",
  "kernelspec": {
   "display_name": "Python 3 (Data Science 3.0)",
   "language": "python",
   "name": "python3__SAGEMAKER_INTERNAL__arn:aws:sagemaker:us-east-1:081325390199:image/sagemaker-data-science-310-v1"
  },
  "language_info": {
   "codemirror_mode": {
    "name": "ipython",
    "version": 3
   },
   "file_extension": ".py",
   "mimetype": "text/x-python",
   "name": "python",
   "nbconvert_exporter": "python",
   "pygments_lexer": "ipython3",
   "version": "3.10.6"
  }
 },
 "nbformat": 4,
 "nbformat_minor": 5
}
