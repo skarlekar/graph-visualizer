{
 "cells": [
  {
   "cell_type": "code",
   "execution_count": 100,
   "id": "0d124088-4efe-4590-b5d9-972210b7828d",
   "metadata": {
    "tags": []
   },
   "outputs": [],
   "source": [
    "import boto3\n",
    "import json\n",
    "from jinja2 import Environment, FileSystemLoader\n",
    "import sys\n",
    "from pathlib import Path\n",
    "import os"
   ]
  },
  {
   "cell_type": "code",
   "execution_count": 101,
   "id": "f245cf52-f136-4f4c-9485-030ca0ecca52",
   "metadata": {
    "tags": []
   },
   "outputs": [
    {
     "data": {
      "text/plain": [
       "'/root/graph-visualizer/prompts-templates'"
      ]
     },
     "execution_count": 101,
     "metadata": {},
     "output_type": "execute_result"
    }
   ],
   "source": [
    "template_dir = os.path.abspath(os.path.join(os.getcwd(),\"../..\",\"prompts-templates\"))\n",
    "template_dir"
   ]
  },
  {
   "cell_type": "code",
   "execution_count": 102,
   "id": "befa54e8-ccd4-4484-91df-d06488cfa117",
   "metadata": {
    "tags": []
   },
   "outputs": [
    {
     "data": {
      "text/plain": [
       "'/root/graph-visualizer/model-results'"
      ]
     },
     "execution_count": 102,
     "metadata": {},
     "output_type": "execute_result"
    }
   ],
   "source": [
    "output_dir = os.path.abspath(os.path.join(os.getcwd(),\"../..\",\"model-results\"))\n",
    "output_dir"
   ]
  },
  {
   "cell_type": "code",
   "execution_count": 103,
   "id": "74943ac4-97d4-4742-8a0e-2f7872219815",
   "metadata": {
    "tags": []
   },
   "outputs": [],
   "source": [
    "template_filename = \"story-prompt-with-ontology-v3.txt\""
   ]
  },
  {
   "cell_type": "code",
   "execution_count": 104,
   "id": "017f5570-7d11-4a0b-b45d-73b53f59f6b7",
   "metadata": {
    "tags": []
   },
   "outputs": [],
   "source": [
    "bedrock_runtime= boto3.client(\"bedrock-runtime\",region_name=\"us-east-1\")"
   ]
  },
  {
   "cell_type": "code",
   "execution_count": 105,
   "id": "4ab8466c-cb28-4b64-825c-d3361277ce96",
   "metadata": {
    "tags": []
   },
   "outputs": [],
   "source": [
    "environment = Environment(loader=FileSystemLoader(template_dir))\n",
    "template = environment.get_template(template_filename)"
   ]
  },
  {
   "cell_type": "code",
   "execution_count": 106,
   "id": "0628eeb1-7640-4b23-a8b4-3cd9dd78719c",
   "metadata": {
    "tags": []
   },
   "outputs": [],
   "source": [
    "prompt = template.render()"
   ]
  },
  {
   "cell_type": "code",
   "execution_count": 107,
   "id": "299574ff-68ed-46a0-b78f-03b7a1d51e9a",
   "metadata": {
    "tags": []
   },
   "outputs": [],
   "source": [
    "body=json.dumps(\n",
    "{\n",
    "    'prompt':f\"\\n\\nHuman:{prompt}\\n\\nAssistant:\",\n",
    "    'top_p':0.5,\n",
    "    'temperature':0.5,\n",
    "    'top_k':5,\n",
    "    'max_tokens_to_sample':3000\n",
    "})"
   ]
  },
  {
   "cell_type": "code",
   "execution_count": null,
   "id": "17eaa8fa-1b79-4bc3-934d-4df9fa671a80",
   "metadata": {
    "tags": []
   },
   "outputs": [],
   "source": [
    "response = bedrock_runtime.invoke_model(\n",
    "    modelId='anthropic.claude-v2:1',\n",
    "    contentType='application/json',\n",
    "    accept='application/json',\n",
    "    body=body\n",
    ")"
   ]
  },
  {
   "cell_type": "code",
   "execution_count": null,
   "id": "e4389832-7472-4e72-8d1e-e77c033de634",
   "metadata": {
    "tags": []
   },
   "outputs": [],
   "source": [
    "response_body = json.loads(response['body'].read())"
   ]
  },
  {
   "cell_type": "code",
   "execution_count": null,
   "id": "88e3e37c-6467-4911-9cc3-210479c4471b",
   "metadata": {
    "tags": []
   },
   "outputs": [
    {
     "data": {
      "text/plain": [
       "{'completion': ' Here is the network graph JSON for the given context:\\n\\n```json\\n{\\n  \"nodes\": [\\n    {\\n      \"id\": \"Monkey\",\\n      \"attributes\": \"livesOn:BerryTree\", \\n      \"type\": \"Animal\",\\n      \"group\": 2\\n    },\\n    {\\n      \"id\": \"BerryTree\",\\n      \"attributes\": \"locatedAt:RiverBank\",\\n      \"type\": \"Plant\",\\n      \"group\": 3  \\n    },\\n    {\\n      \"id\": \"RiverBank\",\\n      \"attributes\": \"\",\\n      \"type\": \"Location\",\\n      \"group\": 3\\n    },\\n    {  \\n      \"id\": \"Crocodile\",\\n      \"attributes\": \"looked:hungry,looked:tired\",\\n      \"type\": \"Animal\", \\n      \"group\": 2\\n    },\\n    {\\n      \"id\": \"Wife\",\\n      \"attributes\": \"is:wicked,is:cunning\",\\n      \"type\": \"Animal\",\\n      \"group\": 2\\n    }, \\n    {\\n      \"id\": \"Berries\",  \\n      \"type\": \"Fruit\",\\n      \"group\": 4\\n    },\\n    {\\n      \"id\": \"Friendship\",\\n      \"type\": \"Concept\",\\n      \"group\": 5\\n    },\\n    {\\n      \"id\": \"Trust\",\\n      \"type\": \"Concept\",\\n      \"group\": 5\\n    },\\n    {\\n      \"id\": \"Betrayal\",\\n      \"type\": \"Concept\",\\n      \"group\": 5\\n    },\\n    {\\n      \"id\": \"Knowledge\",\\n      \"type\": \"Concept\",\\n      \"group\": 1  \\n    }\\n  ],\\n  \"links\": [\\n    {\\n      \"source\": \"Monkey\",\\n      \"target\": \"BerryTree\",\\n      \"label\": \"lives on\",  \\n      \"strength\": 1,\\n      \"rationale\": \"The monkey lived on the berry tree, so they have a strong lives on relationship.\"\\n    },\\n    {\\n      \"source\": \"BerryTree\",\\n      \"target\": \"RiverBank\",\\n      \"label\": \"located at\",\\n      \"strength\": 0.9,\\n      \"rationale\": \"The berry tree is specifically located at the river bank, so they have a strong located at relationship.\"\\n    }, \\n    {\\n      \"source\": \"Monkey\",\\n      \"target\": \"Crocodile\",\\n      \"label\": \"gives\",\\n      \"strength\": 0.7, \\n      \"rationale\": \"The monkey gave berries to the crocodile regularly, indicating a moderately strong gives relationship.\"\\n    },\\n    {\\n      \"source\": \"Monkey\",\\n      \"target\": \"Berries\",\\n      \"label\": \"gives\",\\n      \"strength\": 0.8,\\n      \"rationale\": \"The monkey gave berries to the crocodile multiple times, indicating a strong gives relationship.\"\\n    },\\n    {\\n      \"source\": \"Crocodile\",\\n      \"target\": \"Friendship\",\\n      \"label\": \"forms\",  \\n      \"strength\": 0.8,\\n      \"rationale\": \"The crocodile became friends with the monkey after being given berries, indicating a strong forms relationship with the concept of friendship.\"\\n    }, \\n    {\\n      \"source\": \"Wife\", \\n      \"target\": \"Betrayal\",\\n      \"label\": \"plans\",\\n      \"strength\": 0.9,\\n      \"rationale\": \"The wife secretly planned to betray the monkey by eating his heart, indicating a very strong plans relationship with the concept of betrayal.\" \\n    },\\n    {\\n      \"source\": \"Monkey\",\\n      \"target\": \"Trust\",\\n      \"label\": \"loses\",\\n      \"strength\": 0.8, \\n      \"rationale\": \"The monkey lost trust in the crocodile after his betrayal, indicating a strong loses relationship with the concept of trust.\"\\n    },\\n    {\\n      \"source\": \"Crocodile\",\\n      \"target\": \"Betrayal\", \\n      \"label\": \"commits\",\\n      \"strength\": 0.9,  \\n      \"rationale\": \"The crocodile betrayed the monkey\\'s trust by conspiring with his wife, indicating a very strong commits relationship with betrayal.\"\\n    }, \\n    {\\n      \"source\": \"Monkey\",\\n      \"target\": \"Knowledge\",\\n      \"label\": \"is part of\",\\n      \"strength\": 0.1,\\n      \"rationale\": \"The monkey is an element of the overall knowledge context.\" \\n    },\\n    {\\n      \"source\": \"Crocodile\",\\n      \"target\": \"Knowledge\",\\n      \"label\": \"is part of\",\\n      \"strength\": 0.1,  \\n      \"rationale\": \"The crocodile is an element of the overall knowledge context.\"\\n    },\\n    {\\n      \"source\": \"Wife\",\\n      \"target\": \"Knowledge\",\\n      \"label\": \"is part of\", \\n      \"strength\": 0.1,\\n      \"rationale\": \"The wife is an element of the overall knowledge context.\"\\n    },\\n    {\\n      \"source\": \"BerryTree\", \\n      \"target\": \"Knowledge\",\\n      \"label\": \"is part of\",\\n      \"strength\": 0.1,\\n      \"rationale\": \"The berry tree is an element of the overall knowledge context.\"\\n    },\\n    {\\n      \"source\": \"RiverBank\",\\n      \"target\": \"Knowledge\",\\n      \"label\": \"is part of\",\\n      \"strength\": 0.1,\\n      \"rationale\": \"The river bank is an element of the overall knowledge context.\"\\n    },\\n    {\\n      \"source\": \"Berries\",\\n      \"target\": \"Knowledge\",\\n      \"label\": \"is part of\",\\n      \"strength\": 0.1, \\n      \"rationale\": \"The berries are an element of the overall knowledge context.\"\\n    },\\n    {\\n      \"source\": \"Friendship\",\\n      \"target\": \"Knowledge\",\\n      \"label\": \"is part of\",\\n      \"strength\": 0.1,\\n      \"rationale\": \"The concept of friendship is an element of the overall knowledge context.\"\\n    },\\n    { \\n      \"source\": \"Trust\",\\n      \"target\": \"Knowledge\",\\n      \"label\": \"is part of\",  \\n      \"strength\": 0.1,\\n      \"rationale\": \"The concept of trust is an element of the overall knowledge context.\"\\n    },\\n    {\\n      \"source\": \"Betrayal\",\\n      \"target\": \"Knowledge\",\\n      \"label\": \"is part of\",\\n      \"strength\": 0.1,\\n      \"rationale\": \"The concept of betrayal is an element of the overall knowledge context.\"\\n    }\\n  ],\\n  \"groups\": [\\n    {\\n      \"group_id\": 1,\\n      \"rationale\": \"Overarching concept connecting all elements of the given context\"\\n    }, \\n    {\\n      \"group_id\": 2,\\n      \"rationale\": \"Key characters in the story\"\\n    },\\n    {\\n      \"group_id\": 3, \\n      \"rationale\": \"Locations where events took place\"\\n    },\\n    {\\n      \"group_id\": 4,  \\n      \"rationale\": \"Key objects exchanged between characters\"\\n    },\\n    {\\n      \"group_id\": 5,\\n      \"rationale\": \"Abstract concepts representing themes\"\\n    }\\n  ]\\n}\\n```',\n",
       " 'stop_reason': 'stop_sequence',\n",
       " 'stop': '\\n\\nHuman:'}"
      ]
     },
     "execution_count": 110,
     "metadata": {},
     "output_type": "execute_result"
    }
   ],
   "source": [
    "response_body"
   ]
  },
  {
   "cell_type": "code",
   "execution_count": null,
   "id": "67179df5-3f5a-4665-bd3f-accb198c2b47",
   "metadata": {
    "tags": []
   },
   "outputs": [],
   "source": [
    "same_name_count = int(len([f for f in os.listdir(output_dir) if f\"claude-2-1-{template_filename.split('.txt')[0]}\" in f])/2)"
   ]
  },
  {
   "cell_type": "code",
   "execution_count": null,
   "id": "541cc108-446a-4007-ab2f-32d845bdd27d",
   "metadata": {
    "tags": []
   },
   "outputs": [],
   "source": [
    "file_count = \"\" if same_name_count ==0 else f'-{same_name_count}'"
   ]
  },
  {
   "cell_type": "code",
   "execution_count": null,
   "id": "7f291471-d497-4a4a-94a6-70ac830ee119",
   "metadata": {
    "tags": []
   },
   "outputs": [],
   "source": [
    "with open(os.path.join(output_dir,f\"claude-2-1-{template_filename.split('.txt')[0]}{file_count}.json\"),\"w+\") as f:\n",
    "    json.dump(response_body,f)"
   ]
  },
  {
   "cell_type": "code",
   "execution_count": null,
   "id": "c6a463c8-8cba-4bce-a266-cc28294b9e2f",
   "metadata": {
    "tags": []
   },
   "outputs": [],
   "source": [
    "with open(os.path.join(output_dir,f\"claude-2-1-{template_filename.split('.txt')[0]}-graph{file_count}.json\"),\"w+\") as f:\n",
    "    json.dump(json.loads(response_body['completion'].split(\"```\")[1].split(\"json\")[1]),f)"
   ]
  }
 ],
 "metadata": {
  "availableInstances": [
   {
    "_defaultOrder": 0,
    "_isFastLaunch": true,
    "category": "General purpose",
    "gpuNum": 0,
    "hideHardwareSpecs": false,
    "memoryGiB": 4,
    "name": "ml.t3.medium",
    "vcpuNum": 2
   },
   {
    "_defaultOrder": 1,
    "_isFastLaunch": false,
    "category": "General purpose",
    "gpuNum": 0,
    "hideHardwareSpecs": false,
    "memoryGiB": 8,
    "name": "ml.t3.large",
    "vcpuNum": 2
   },
   {
    "_defaultOrder": 2,
    "_isFastLaunch": false,
    "category": "General purpose",
    "gpuNum": 0,
    "hideHardwareSpecs": false,
    "memoryGiB": 16,
    "name": "ml.t3.xlarge",
    "vcpuNum": 4
   },
   {
    "_defaultOrder": 3,
    "_isFastLaunch": false,
    "category": "General purpose",
    "gpuNum": 0,
    "hideHardwareSpecs": false,
    "memoryGiB": 32,
    "name": "ml.t3.2xlarge",
    "vcpuNum": 8
   },
   {
    "_defaultOrder": 4,
    "_isFastLaunch": true,
    "category": "General purpose",
    "gpuNum": 0,
    "hideHardwareSpecs": false,
    "memoryGiB": 8,
    "name": "ml.m5.large",
    "vcpuNum": 2
   },
   {
    "_defaultOrder": 5,
    "_isFastLaunch": false,
    "category": "General purpose",
    "gpuNum": 0,
    "hideHardwareSpecs": false,
    "memoryGiB": 16,
    "name": "ml.m5.xlarge",
    "vcpuNum": 4
   },
   {
    "_defaultOrder": 6,
    "_isFastLaunch": false,
    "category": "General purpose",
    "gpuNum": 0,
    "hideHardwareSpecs": false,
    "memoryGiB": 32,
    "name": "ml.m5.2xlarge",
    "vcpuNum": 8
   },
   {
    "_defaultOrder": 7,
    "_isFastLaunch": false,
    "category": "General purpose",
    "gpuNum": 0,
    "hideHardwareSpecs": false,
    "memoryGiB": 64,
    "name": "ml.m5.4xlarge",
    "vcpuNum": 16
   },
   {
    "_defaultOrder": 8,
    "_isFastLaunch": false,
    "category": "General purpose",
    "gpuNum": 0,
    "hideHardwareSpecs": false,
    "memoryGiB": 128,
    "name": "ml.m5.8xlarge",
    "vcpuNum": 32
   },
   {
    "_defaultOrder": 9,
    "_isFastLaunch": false,
    "category": "General purpose",
    "gpuNum": 0,
    "hideHardwareSpecs": false,
    "memoryGiB": 192,
    "name": "ml.m5.12xlarge",
    "vcpuNum": 48
   },
   {
    "_defaultOrder": 10,
    "_isFastLaunch": false,
    "category": "General purpose",
    "gpuNum": 0,
    "hideHardwareSpecs": false,
    "memoryGiB": 256,
    "name": "ml.m5.16xlarge",
    "vcpuNum": 64
   },
   {
    "_defaultOrder": 11,
    "_isFastLaunch": false,
    "category": "General purpose",
    "gpuNum": 0,
    "hideHardwareSpecs": false,
    "memoryGiB": 384,
    "name": "ml.m5.24xlarge",
    "vcpuNum": 96
   },
   {
    "_defaultOrder": 12,
    "_isFastLaunch": false,
    "category": "General purpose",
    "gpuNum": 0,
    "hideHardwareSpecs": false,
    "memoryGiB": 8,
    "name": "ml.m5d.large",
    "vcpuNum": 2
   },
   {
    "_defaultOrder": 13,
    "_isFastLaunch": false,
    "category": "General purpose",
    "gpuNum": 0,
    "hideHardwareSpecs": false,
    "memoryGiB": 16,
    "name": "ml.m5d.xlarge",
    "vcpuNum": 4
   },
   {
    "_defaultOrder": 14,
    "_isFastLaunch": false,
    "category": "General purpose",
    "gpuNum": 0,
    "hideHardwareSpecs": false,
    "memoryGiB": 32,
    "name": "ml.m5d.2xlarge",
    "vcpuNum": 8
   },
   {
    "_defaultOrder": 15,
    "_isFastLaunch": false,
    "category": "General purpose",
    "gpuNum": 0,
    "hideHardwareSpecs": false,
    "memoryGiB": 64,
    "name": "ml.m5d.4xlarge",
    "vcpuNum": 16
   },
   {
    "_defaultOrder": 16,
    "_isFastLaunch": false,
    "category": "General purpose",
    "gpuNum": 0,
    "hideHardwareSpecs": false,
    "memoryGiB": 128,
    "name": "ml.m5d.8xlarge",
    "vcpuNum": 32
   },
   {
    "_defaultOrder": 17,
    "_isFastLaunch": false,
    "category": "General purpose",
    "gpuNum": 0,
    "hideHardwareSpecs": false,
    "memoryGiB": 192,
    "name": "ml.m5d.12xlarge",
    "vcpuNum": 48
   },
   {
    "_defaultOrder": 18,
    "_isFastLaunch": false,
    "category": "General purpose",
    "gpuNum": 0,
    "hideHardwareSpecs": false,
    "memoryGiB": 256,
    "name": "ml.m5d.16xlarge",
    "vcpuNum": 64
   },
   {
    "_defaultOrder": 19,
    "_isFastLaunch": false,
    "category": "General purpose",
    "gpuNum": 0,
    "hideHardwareSpecs": false,
    "memoryGiB": 384,
    "name": "ml.m5d.24xlarge",
    "vcpuNum": 96
   },
   {
    "_defaultOrder": 20,
    "_isFastLaunch": false,
    "category": "General purpose",
    "gpuNum": 0,
    "hideHardwareSpecs": true,
    "memoryGiB": 0,
    "name": "ml.geospatial.interactive",
    "supportedImageNames": [
     "sagemaker-geospatial-v1-0"
    ],
    "vcpuNum": 0
   },
   {
    "_defaultOrder": 21,
    "_isFastLaunch": true,
    "category": "Compute optimized",
    "gpuNum": 0,
    "hideHardwareSpecs": false,
    "memoryGiB": 4,
    "name": "ml.c5.large",
    "vcpuNum": 2
   },
   {
    "_defaultOrder": 22,
    "_isFastLaunch": false,
    "category": "Compute optimized",
    "gpuNum": 0,
    "hideHardwareSpecs": false,
    "memoryGiB": 8,
    "name": "ml.c5.xlarge",
    "vcpuNum": 4
   },
   {
    "_defaultOrder": 23,
    "_isFastLaunch": false,
    "category": "Compute optimized",
    "gpuNum": 0,
    "hideHardwareSpecs": false,
    "memoryGiB": 16,
    "name": "ml.c5.2xlarge",
    "vcpuNum": 8
   },
   {
    "_defaultOrder": 24,
    "_isFastLaunch": false,
    "category": "Compute optimized",
    "gpuNum": 0,
    "hideHardwareSpecs": false,
    "memoryGiB": 32,
    "name": "ml.c5.4xlarge",
    "vcpuNum": 16
   },
   {
    "_defaultOrder": 25,
    "_isFastLaunch": false,
    "category": "Compute optimized",
    "gpuNum": 0,
    "hideHardwareSpecs": false,
    "memoryGiB": 72,
    "name": "ml.c5.9xlarge",
    "vcpuNum": 36
   },
   {
    "_defaultOrder": 26,
    "_isFastLaunch": false,
    "category": "Compute optimized",
    "gpuNum": 0,
    "hideHardwareSpecs": false,
    "memoryGiB": 96,
    "name": "ml.c5.12xlarge",
    "vcpuNum": 48
   },
   {
    "_defaultOrder": 27,
    "_isFastLaunch": false,
    "category": "Compute optimized",
    "gpuNum": 0,
    "hideHardwareSpecs": false,
    "memoryGiB": 144,
    "name": "ml.c5.18xlarge",
    "vcpuNum": 72
   },
   {
    "_defaultOrder": 28,
    "_isFastLaunch": false,
    "category": "Compute optimized",
    "gpuNum": 0,
    "hideHardwareSpecs": false,
    "memoryGiB": 192,
    "name": "ml.c5.24xlarge",
    "vcpuNum": 96
   },
   {
    "_defaultOrder": 29,
    "_isFastLaunch": true,
    "category": "Accelerated computing",
    "gpuNum": 1,
    "hideHardwareSpecs": false,
    "memoryGiB": 16,
    "name": "ml.g4dn.xlarge",
    "vcpuNum": 4
   },
   {
    "_defaultOrder": 30,
    "_isFastLaunch": false,
    "category": "Accelerated computing",
    "gpuNum": 1,
    "hideHardwareSpecs": false,
    "memoryGiB": 32,
    "name": "ml.g4dn.2xlarge",
    "vcpuNum": 8
   },
   {
    "_defaultOrder": 31,
    "_isFastLaunch": false,
    "category": "Accelerated computing",
    "gpuNum": 1,
    "hideHardwareSpecs": false,
    "memoryGiB": 64,
    "name": "ml.g4dn.4xlarge",
    "vcpuNum": 16
   },
   {
    "_defaultOrder": 32,
    "_isFastLaunch": false,
    "category": "Accelerated computing",
    "gpuNum": 1,
    "hideHardwareSpecs": false,
    "memoryGiB": 128,
    "name": "ml.g4dn.8xlarge",
    "vcpuNum": 32
   },
   {
    "_defaultOrder": 33,
    "_isFastLaunch": false,
    "category": "Accelerated computing",
    "gpuNum": 4,
    "hideHardwareSpecs": false,
    "memoryGiB": 192,
    "name": "ml.g4dn.12xlarge",
    "vcpuNum": 48
   },
   {
    "_defaultOrder": 34,
    "_isFastLaunch": false,
    "category": "Accelerated computing",
    "gpuNum": 1,
    "hideHardwareSpecs": false,
    "memoryGiB": 256,
    "name": "ml.g4dn.16xlarge",
    "vcpuNum": 64
   },
   {
    "_defaultOrder": 35,
    "_isFastLaunch": false,
    "category": "Accelerated computing",
    "gpuNum": 1,
    "hideHardwareSpecs": false,
    "memoryGiB": 61,
    "name": "ml.p3.2xlarge",
    "vcpuNum": 8
   },
   {
    "_defaultOrder": 36,
    "_isFastLaunch": false,
    "category": "Accelerated computing",
    "gpuNum": 4,
    "hideHardwareSpecs": false,
    "memoryGiB": 244,
    "name": "ml.p3.8xlarge",
    "vcpuNum": 32
   },
   {
    "_defaultOrder": 37,
    "_isFastLaunch": false,
    "category": "Accelerated computing",
    "gpuNum": 8,
    "hideHardwareSpecs": false,
    "memoryGiB": 488,
    "name": "ml.p3.16xlarge",
    "vcpuNum": 64
   },
   {
    "_defaultOrder": 38,
    "_isFastLaunch": false,
    "category": "Accelerated computing",
    "gpuNum": 8,
    "hideHardwareSpecs": false,
    "memoryGiB": 768,
    "name": "ml.p3dn.24xlarge",
    "vcpuNum": 96
   },
   {
    "_defaultOrder": 39,
    "_isFastLaunch": false,
    "category": "Memory Optimized",
    "gpuNum": 0,
    "hideHardwareSpecs": false,
    "memoryGiB": 16,
    "name": "ml.r5.large",
    "vcpuNum": 2
   },
   {
    "_defaultOrder": 40,
    "_isFastLaunch": false,
    "category": "Memory Optimized",
    "gpuNum": 0,
    "hideHardwareSpecs": false,
    "memoryGiB": 32,
    "name": "ml.r5.xlarge",
    "vcpuNum": 4
   },
   {
    "_defaultOrder": 41,
    "_isFastLaunch": false,
    "category": "Memory Optimized",
    "gpuNum": 0,
    "hideHardwareSpecs": false,
    "memoryGiB": 64,
    "name": "ml.r5.2xlarge",
    "vcpuNum": 8
   },
   {
    "_defaultOrder": 42,
    "_isFastLaunch": false,
    "category": "Memory Optimized",
    "gpuNum": 0,
    "hideHardwareSpecs": false,
    "memoryGiB": 128,
    "name": "ml.r5.4xlarge",
    "vcpuNum": 16
   },
   {
    "_defaultOrder": 43,
    "_isFastLaunch": false,
    "category": "Memory Optimized",
    "gpuNum": 0,
    "hideHardwareSpecs": false,
    "memoryGiB": 256,
    "name": "ml.r5.8xlarge",
    "vcpuNum": 32
   },
   {
    "_defaultOrder": 44,
    "_isFastLaunch": false,
    "category": "Memory Optimized",
    "gpuNum": 0,
    "hideHardwareSpecs": false,
    "memoryGiB": 384,
    "name": "ml.r5.12xlarge",
    "vcpuNum": 48
   },
   {
    "_defaultOrder": 45,
    "_isFastLaunch": false,
    "category": "Memory Optimized",
    "gpuNum": 0,
    "hideHardwareSpecs": false,
    "memoryGiB": 512,
    "name": "ml.r5.16xlarge",
    "vcpuNum": 64
   },
   {
    "_defaultOrder": 46,
    "_isFastLaunch": false,
    "category": "Memory Optimized",
    "gpuNum": 0,
    "hideHardwareSpecs": false,
    "memoryGiB": 768,
    "name": "ml.r5.24xlarge",
    "vcpuNum": 96
   },
   {
    "_defaultOrder": 47,
    "_isFastLaunch": false,
    "category": "Accelerated computing",
    "gpuNum": 1,
    "hideHardwareSpecs": false,
    "memoryGiB": 16,
    "name": "ml.g5.xlarge",
    "vcpuNum": 4
   },
   {
    "_defaultOrder": 48,
    "_isFastLaunch": false,
    "category": "Accelerated computing",
    "gpuNum": 1,
    "hideHardwareSpecs": false,
    "memoryGiB": 32,
    "name": "ml.g5.2xlarge",
    "vcpuNum": 8
   },
   {
    "_defaultOrder": 49,
    "_isFastLaunch": false,
    "category": "Accelerated computing",
    "gpuNum": 1,
    "hideHardwareSpecs": false,
    "memoryGiB": 64,
    "name": "ml.g5.4xlarge",
    "vcpuNum": 16
   },
   {
    "_defaultOrder": 50,
    "_isFastLaunch": false,
    "category": "Accelerated computing",
    "gpuNum": 1,
    "hideHardwareSpecs": false,
    "memoryGiB": 128,
    "name": "ml.g5.8xlarge",
    "vcpuNum": 32
   },
   {
    "_defaultOrder": 51,
    "_isFastLaunch": false,
    "category": "Accelerated computing",
    "gpuNum": 1,
    "hideHardwareSpecs": false,
    "memoryGiB": 256,
    "name": "ml.g5.16xlarge",
    "vcpuNum": 64
   },
   {
    "_defaultOrder": 52,
    "_isFastLaunch": false,
    "category": "Accelerated computing",
    "gpuNum": 4,
    "hideHardwareSpecs": false,
    "memoryGiB": 192,
    "name": "ml.g5.12xlarge",
    "vcpuNum": 48
   },
   {
    "_defaultOrder": 53,
    "_isFastLaunch": false,
    "category": "Accelerated computing",
    "gpuNum": 4,
    "hideHardwareSpecs": false,
    "memoryGiB": 384,
    "name": "ml.g5.24xlarge",
    "vcpuNum": 96
   },
   {
    "_defaultOrder": 54,
    "_isFastLaunch": false,
    "category": "Accelerated computing",
    "gpuNum": 8,
    "hideHardwareSpecs": false,
    "memoryGiB": 768,
    "name": "ml.g5.48xlarge",
    "vcpuNum": 192
   },
   {
    "_defaultOrder": 55,
    "_isFastLaunch": false,
    "category": "Accelerated computing",
    "gpuNum": 8,
    "hideHardwareSpecs": false,
    "memoryGiB": 1152,
    "name": "ml.p4d.24xlarge",
    "vcpuNum": 96
   },
   {
    "_defaultOrder": 56,
    "_isFastLaunch": false,
    "category": "Accelerated computing",
    "gpuNum": 8,
    "hideHardwareSpecs": false,
    "memoryGiB": 1152,
    "name": "ml.p4de.24xlarge",
    "vcpuNum": 96
   },
   {
    "_defaultOrder": 57,
    "_isFastLaunch": false,
    "category": "Accelerated computing",
    "gpuNum": 0,
    "hideHardwareSpecs": false,
    "memoryGiB": 32,
    "name": "ml.trn1.2xlarge",
    "vcpuNum": 8
   },
   {
    "_defaultOrder": 58,
    "_isFastLaunch": false,
    "category": "Accelerated computing",
    "gpuNum": 0,
    "hideHardwareSpecs": false,
    "memoryGiB": 512,
    "name": "ml.trn1.32xlarge",
    "vcpuNum": 128
   },
   {
    "_defaultOrder": 59,
    "_isFastLaunch": false,
    "category": "Accelerated computing",
    "gpuNum": 0,
    "hideHardwareSpecs": false,
    "memoryGiB": 512,
    "name": "ml.trn1n.32xlarge",
    "vcpuNum": 128
   }
  ],
  "instance_type": "ml.t3.medium",
  "kernelspec": {
   "display_name": "Python 3 (Data Science 3.0)",
   "language": "python",
   "name": "python3__SAGEMAKER_INTERNAL__arn:aws:sagemaker:us-east-1:081325390199:image/sagemaker-data-science-310-v1"
  },
  "language_info": {
   "codemirror_mode": {
    "name": "ipython",
    "version": 3
   },
   "file_extension": ".py",
   "mimetype": "text/x-python",
   "name": "python",
   "nbconvert_exporter": "python",
   "pygments_lexer": "ipython3",
   "version": "3.10.6"
  }
 },
 "nbformat": 4,
 "nbformat_minor": 5
}
