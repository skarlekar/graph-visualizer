{
 "cells": [
  {
   "cell_type": "code",
   "execution_count": 2,
   "id": "0d124088-4efe-4590-b5d9-972210b7828d",
   "metadata": {
    "tags": []
   },
   "outputs": [],
   "source": [
    "import boto3\n",
    "import json\n",
    "from jinja2 import Environment, FileSystemLoader"
   ]
  },
  {
   "cell_type": "code",
   "execution_count": 3,
   "id": "017f5570-7d11-4a0b-b45d-73b53f59f6b7",
   "metadata": {
    "tags": []
   },
   "outputs": [],
   "source": [
    "bedrock_runtime= boto3.client('bedrock-runtime',region_name='us-east-1')"
   ]
  },
  {
   "cell_type": "code",
   "execution_count": 4,
   "id": "4ab8466c-cb28-4b64-825c-d3361277ce96",
   "metadata": {
    "tags": []
   },
   "outputs": [],
   "source": [
    "environment = Environment(loader=FileSystemLoader(\"templates/\"))\n",
    "template = environment.get_template(\"deep_insight_prompt.txt\")"
   ]
  },
  {
   "cell_type": "code",
   "execution_count": 5,
   "id": "b95e040c-f41a-4627-a308-883086b564c4",
   "metadata": {
    "tags": []
   },
   "outputs": [],
   "source": [
    "passage='The quick brown fox jumps over the lazy dog.'"
   ]
  },
  {
   "cell_type": "code",
   "execution_count": 6,
   "id": "0628eeb1-7640-4b23-a8b4-3cd9dd78719c",
   "metadata": {
    "tags": []
   },
   "outputs": [],
   "source": [
    "prompt = template.render(\n",
    "    passage=passage\n",
    ")"
   ]
  },
  {
   "cell_type": "code",
   "execution_count": 7,
   "id": "4900d211-41df-41e2-b68d-8404c088514d",
   "metadata": {
    "tags": []
   },
   "outputs": [
    {
     "data": {
      "text/plain": [
       "'You are a faithful and trusted network graph maker tasked with creating a comprehensive and interconnected representation of a given context (input text), ensuring all nodes are part of a single cluster under a parent node called \\'Knowledge\\'. Your job involves extracting key concepts (nodes) and their relationships (links) from the provided text.\\n\\nWhile doing so, follow these nine guidelines below faithfully:\\n\\n1. Nodes Identification: Identify key nodes mentioned in the text, including objects, entitites, locations, organizations, persons, conditions, acronyms, documents, services, concepts, etc. Ensure nodes are atomic and clearly represent distinct aspects of the context.\\n\\n2. Relationship Mapping: Establish clear, one-to-one relationships between all nodes. Nodes in proximity (same sentance or paragraph) likely share a relationship. Ensure every node is connected to at least one other node, preventing isolated clusters.\\n\\n3. Relationship validation: Confirm each relationship\\'s validity and relevance based on the text. Avoid introducing external concepts not present in the context.\\n\\n4. Source and Target Node Validation: Ensure that every \\'source\\' and \\'target\\' in the Links array corresponds exactly to an \\'id\\' in the Nodes array.\\nBefore adding a link to the Links array, verify that both the \\'source\\' and \\'target\\' nodes are already defined within the Nodes array.\\nThis prevents the introduction of unrepresented concepts or entities in the relationship mapping.\\nIf a potential link involves a node not listed in the Nodes array, you must first add that node to the Nodes array, ensure it adheres to the Nodes Identification guideline.\\n\\n5. Single Cluster Formation: Strategically link nodes to form a single, unified cluster. Utilize intermediary nodes if necesary to connect disparate sections, ensuring no node is isolated.\\n\\n6. Unifying clusters: If there are isolated nodes are cluster of nodes that are not related to each other, connect these nodes or cluster of nodes to the parent node called \\'Knowledge\\'.\\n\\n7. Detailed Relationships: For each link, provide a \\'label\\' describing the relationship, a \\'strength\\' indicating the connect\\'s intensity (0.1-1.0), and a \\'rationale\\' explaining the link\\'s basis.\\n\\n8. Group Rationalization: Explain the grouping logic in \\'groups\\', ensuring it reflects thematic or contextual similarities, supporting the single-cluster requirement.\\n\\n9. Knowledge Node: The Knowledge node should always be the first node within a unique \\'group\\' identifier with value 1, the \\'type\\' with value \\'concept\\'. No other nodes should be in group 1. The group rationale for group 1 should be, \"Overarching concept connecting all elements of a given context\".\\nLinks to the \\'Knowledge\\' node should have \\'strength\\' value set to 0.1.\\n\\nBy following these guidelines, create a JSON as indicated below that accurately reflects the interconnected nature of the context, ensuring all nodes are part of one continous network without isolated groups or missing links.\\n\\nFormat your output as a JSON structure suitable for generating a force-directed graph in D3.js. The JSON will consists of threee primary arrays: \\'nodes\\', \\'links\\' and \\'groups\\'.\\nEach node in \\'nodes\\' must appear at least once in \\'links\\' as either a \\'source\\' or a \\'target\\', ensuring a cohesive, singular network.\\n\\nNodes Array: Each element in the \\'nodes\\' array represents an entity. These entities can be of various types, including but not limited to objects, entities, locations, organizations, persons, conditions, acronyms, documents, services, concepts, emotions, and traits. Every node will have three key attributes:\\n\\n\\'id\\': A unique identifier for each node.\\n\\'type\\': A field indicating the category of the entity, such as \\'location\\',\\'organization\\',\\'person\\',\\'animal\\', \\'bird\\', \\'fish\\', \\'condition\\', \\'acronym\\', \\'document\\', \\'service\\', \\'emotion\\', \\'trait\\', or \\'concept\\'.\\n\\'group\\': A numerical field indicating the group to which the node belongs. Nodes that are related or belong to the same group will share the same group number.\\n\\nLinks Array: The array defined the relationship between the nodes. Use the following logic to create the Links Array. Read the input text again. Now review the list of nodes in the Nodes array. For every node represented by the \\'id\\' field in the Nodes array, find a relation with another node in the Nodes array. For each such relationship, add an element to the Links Array containing the following fields:\\n\\'source\\': The \\'id\\' of the node where the relationship originates.\\n\\'target\\': The \\'id\\' of the node where the relationship is directed.\\n\\'label\\': A descriptive label indicating the nature of the relationship between \\'source\\' and \\'target\\'. Indicate the function if the \\'target\\' is a part of component of \\'source\\'.\\n\\'strength\\': A numerical value ranging from 0.1 to 1.0, representing the strength of the relationship, with 1.0 being the strongest and 0.1 the weakest.\\n\\'rationale\\': A textual description indicating your rationale for coming up with the strength for each relationship.\\n\\nMake sure every node represented by the \\'id\\' element in the Nodes Array is represented in the Links Array, either in a \\'source\\' or \\'target\\' field, to ensure that all entities are connected in the graph.\\nMake sure every \\'source\\' and \\'target\\' in the links array has an \\'id\\' represented in the Nodes Array. It is very important that you do not make up a \\'source\\' or \\'target\\' that is not represented in the node.id in the Nodes array.\\n\\nGroups Array: This array should indicate the rationale for the grouping indicated in the \\'group\\' field of the Nodes array. There should be one element in this array for each unique group. Each element in the \\'groups\\' array will contain the following fields:\\n\\'group_id\\': The group number\\n\\'rationale\\': A textual description of the thematic or contextual similarities between the nodes that make up the group.\\n\\nThe response should only contain the JSON structure and nothing else.\\n\\nInput text:\\n\\'\\'\\'\\nThe quick brown fox jumps over the lazy dog.\\n\\'\\'\\''"
      ]
     },
     "execution_count": 7,
     "metadata": {},
     "output_type": "execute_result"
    }
   ],
   "source": [
    "prompt"
   ]
  },
  {
   "cell_type": "code",
   "execution_count": 11,
   "id": "299574ff-68ed-46a0-b78f-03b7a1d51e9a",
   "metadata": {
    "tags": []
   },
   "outputs": [],
   "source": [
    "body=json.dumps(\n",
    "{\n",
    "    'prompt':prompt,\n",
    "    'temperature':0.5,\n",
    "    'top_p':0.5,\n",
    "    'max_gen_len':1000\n",
    "})"
   ]
  },
  {
   "cell_type": "code",
   "execution_count": 12,
   "id": "66856f76-10ef-4dab-8ef5-32d2250932b4",
   "metadata": {
    "tags": []
   },
   "outputs": [
    {
     "data": {
      "text/plain": [
       "'{\"prompt\": \"You are a faithful and trusted network graph maker tasked with creating a comprehensive and interconnected representation of a given context (input text), ensuring all nodes are part of a single cluster under a parent node called \\'Knowledge\\'. Your job involves extracting key concepts (nodes) and their relationships (links) from the provided text.\\\\n\\\\nWhile doing so, follow these nine guidelines below faithfully:\\\\n\\\\n1. Nodes Identification: Identify key nodes mentioned in the text, including objects, entitites, locations, organizations, persons, conditions, acronyms, documents, services, concepts, etc. Ensure nodes are atomic and clearly represent distinct aspects of the context.\\\\n\\\\n2. Relationship Mapping: Establish clear, one-to-one relationships between all nodes. Nodes in proximity (same sentance or paragraph) likely share a relationship. Ensure every node is connected to at least one other node, preventing isolated clusters.\\\\n\\\\n3. Relationship validation: Confirm each relationship\\'s validity and relevance based on the text. Avoid introducing external concepts not present in the context.\\\\n\\\\n4. Source and Target Node Validation: Ensure that every \\'source\\' and \\'target\\' in the Links array corresponds exactly to an \\'id\\' in the Nodes array.\\\\nBefore adding a link to the Links array, verify that both the \\'source\\' and \\'target\\' nodes are already defined within the Nodes array.\\\\nThis prevents the introduction of unrepresented concepts or entities in the relationship mapping.\\\\nIf a potential link involves a node not listed in the Nodes array, you must first add that node to the Nodes array, ensure it adheres to the Nodes Identification guideline.\\\\n\\\\n5. Single Cluster Formation: Strategically link nodes to form a single, unified cluster. Utilize intermediary nodes if necesary to connect disparate sections, ensuring no node is isolated.\\\\n\\\\n6. Unifying clusters: If there are isolated nodes are cluster of nodes that are not related to each other, connect these nodes or cluster of nodes to the parent node called \\'Knowledge\\'.\\\\n\\\\n7. Detailed Relationships: For each link, provide a \\'label\\' describing the relationship, a \\'strength\\' indicating the connect\\'s intensity (0.1-1.0), and a \\'rationale\\' explaining the link\\'s basis.\\\\n\\\\n8. Group Rationalization: Explain the grouping logic in \\'groups\\', ensuring it reflects thematic or contextual similarities, supporting the single-cluster requirement.\\\\n\\\\n9. Knowledge Node: The Knowledge node should always be the first node within a unique \\'group\\' identifier with value 1, the \\'type\\' with value \\'concept\\'. No other nodes should be in group 1. The group rationale for group 1 should be, \\\\\"Overarching concept connecting all elements of a given context\\\\\".\\\\nLinks to the \\'Knowledge\\' node should have \\'strength\\' value set to 0.1.\\\\n\\\\nBy following these guidelines, create a JSON as indicated below that accurately reflects the interconnected nature of the context, ensuring all nodes are part of one continous network without isolated groups or missing links.\\\\n\\\\nFormat your output as a JSON structure suitable for generating a force-directed graph in D3.js. The JSON will consists of threee primary arrays: \\'nodes\\', \\'links\\' and \\'groups\\'.\\\\nEach node in \\'nodes\\' must appear at least once in \\'links\\' as either a \\'source\\' or a \\'target\\', ensuring a cohesive, singular network.\\\\n\\\\nNodes Array: Each element in the \\'nodes\\' array represents an entity. These entities can be of various types, including but not limited to objects, entities, locations, organizations, persons, conditions, acronyms, documents, services, concepts, emotions, and traits. Every node will have three key attributes:\\\\n\\\\n\\'id\\': A unique identifier for each node.\\\\n\\'type\\': A field indicating the category of the entity, such as \\'location\\',\\'organization\\',\\'person\\',\\'animal\\', \\'bird\\', \\'fish\\', \\'condition\\', \\'acronym\\', \\'document\\', \\'service\\', \\'emotion\\', \\'trait\\', or \\'concept\\'.\\\\n\\'group\\': A numerical field indicating the group to which the node belongs. Nodes that are related or belong to the same group will share the same group number.\\\\n\\\\nLinks Array: The array defined the relationship between the nodes. Use the following logic to create the Links Array. Read the input text again. Now review the list of nodes in the Nodes array. For every node represented by the \\'id\\' field in the Nodes array, find a relation with another node in the Nodes array. For each such relationship, add an element to the Links Array containing the following fields:\\\\n\\'source\\': The \\'id\\' of the node where the relationship originates.\\\\n\\'target\\': The \\'id\\' of the node where the relationship is directed.\\\\n\\'label\\': A descriptive label indicating the nature of the relationship between \\'source\\' and \\'target\\'. Indicate the function if the \\'target\\' is a part of component of \\'source\\'.\\\\n\\'strength\\': A numerical value ranging from 0.1 to 1.0, representing the strength of the relationship, with 1.0 being the strongest and 0.1 the weakest.\\\\n\\'rationale\\': A textual description indicating your rationale for coming up with the strength for each relationship.\\\\n\\\\nMake sure every node represented by the \\'id\\' element in the Nodes Array is represented in the Links Array, either in a \\'source\\' or \\'target\\' field, to ensure that all entities are connected in the graph.\\\\nMake sure every \\'source\\' and \\'target\\' in the links array has an \\'id\\' represented in the Nodes Array. It is very important that you do not make up a \\'source\\' or \\'target\\' that is not represented in the node.id in the Nodes array.\\\\n\\\\nGroups Array: This array should indicate the rationale for the grouping indicated in the \\'group\\' field of the Nodes array. There should be one element in this array for each unique group. Each element in the \\'groups\\' array will contain the following fields:\\\\n\\'group_id\\': The group number\\\\n\\'rationale\\': A textual description of the thematic or contextual similarities between the nodes that make up the group.\\\\n\\\\nThe response should only contain the JSON structure and nothing else.\\\\n\\\\nInput text:\\\\n\\'\\'\\'\\\\nThe quick brown fox jumps over the lazy dog.\\\\n\\'\\'\\'\", \"temperature\": 0.5, \"top_p\": 0.5, \"max_gen_len\": 1000}'"
      ]
     },
     "execution_count": 12,
     "metadata": {},
     "output_type": "execute_result"
    }
   ],
   "source": [
    "body"
   ]
  },
  {
   "cell_type": "code",
   "execution_count": 17,
   "id": "17eaa8fa-1b79-4bc3-934d-4df9fa671a80",
   "metadata": {
    "tags": []
   },
   "outputs": [],
   "source": [
    "response = bedrock_runtime.invoke_model(\n",
    "    modelId='meta.llama2-70b-chat-v1',\n",
    "    contentType='application/json',\n",
    "    accept='application/json',\n",
    "    body=body\n",
    ")"
   ]
  },
  {
   "cell_type": "code",
   "execution_count": 18,
   "id": "e4389832-7472-4e72-8d1e-e77c033de634",
   "metadata": {
    "tags": []
   },
   "outputs": [],
   "source": [
    "response_body = json.loads(response['body'].read())"
   ]
  },
  {
   "cell_type": "code",
   "execution_count": 19,
   "id": "88e3e37c-6467-4911-9cc3-210479c4471b",
   "metadata": {
    "tags": []
   },
   "outputs": [
    {
     "data": {
      "text/plain": [
       "{'generation': '\\n\\nOutput:\\n\\n{\\n\"nodes\": [\\n{\\n\"id\": 0,\\n\"type\": \"concept\",\\n\"group\": 1\\n},\\n{\\n\"id\": 1,\\n\"type\": \"animal\",\\n\"group\": 2\\n},\\n{\\n\"id\": 2,\\n\"type\": \"animal\",\\n\"group\": 2\\n},\\n{\\n\"id\": 3,\\n\"type\": \"action\",\\n\"group\": 3\\n},\\n{\\n\"id\": 4,\\n\"type\": \"object\",\\n\"group\": 4\\n}\\n],\\n\"links\": [\\n{\\n\"source\": 0,\\n\"target\": 1,\\n\"label\": \"is-a\",\\n\"strength\": 0.8,\\n\"rationale\": \"The quick brown fox is an animal.\"\\n},\\n{\\n\"source\": 0,\\n\"target\": 2,\\n\"label\": \"is-a\",\\n\"strength\": 0.8,\\n\"rationale\": \"The lazy dog is an animal.\"\\n},\\n{\\n\"source\": 1,\\n\"target\": 3,\\n\"label\": \"performs\",\\n\"strength\": 0.7,\\n\"rationale\": \"The quick brown fox jumps over the lazy dog.\"\\n},\\n{\\n\"source\": 2,\\n\"target\": 3,\\n\"label\": \"is-a-target-of\",\\n\"strength\": 0.6,\\n\"rationale\": \"The lazy dog is the target of the jump.\"\\n},\\n{\\n\"source\": 3,\\n\"target\": 4,\\n\"label\": \"involves\",\\n\"strength\": 0.5,\\n\"rationale\": \"The jump involves the fox and the dog.\"\\n}\\n],\\n\"groups\": [\\n{\\n\"group_id\": 1,\\n\"rationale\": \"All concepts are related to each other.\"\\n},\\n{\\n\"group_id\": 2,\\n\"rationale\": \"All animals are related to each other.\"\\n},\\n{\\n\"group_id\": 3,\\n\"rationale\": \"All actions are related to each other.\"\\n},\\n{\\n\"group_id\": 4,\\n\"rationale\": \"All objects are related to each other.\"\\n}\\n]\\n}\\n\\nNote: The output is just an example and the actual output may vary based on the input text.',\n",
       " 'prompt_token_count': 1428,\n",
       " 'generation_token_count': 550,\n",
       " 'stop_reason': 'stop'}"
      ]
     },
     "execution_count": 19,
     "metadata": {},
     "output_type": "execute_result"
    }
   ],
   "source": [
    "response_body"
   ]
  },
  {
   "cell_type": "code",
   "execution_count": 20,
   "id": "7f291471-d497-4a4a-94a6-70ac830ee119",
   "metadata": {
    "tags": []
   },
   "outputs": [],
   "source": [
    "with open(\"original_prompt_output/llama2-70b-quick-fox-1k-tokens.json\",\"w+\") as f:\n",
    "    json.dump(response_body,f)"
   ]
  }
 ],
 "metadata": {
  "availableInstances": [
   {
    "_defaultOrder": 0,
    "_isFastLaunch": true,
    "category": "General purpose",
    "gpuNum": 0,
    "hideHardwareSpecs": false,
    "memoryGiB": 4,
    "name": "ml.t3.medium",
    "vcpuNum": 2
   },
   {
    "_defaultOrder": 1,
    "_isFastLaunch": false,
    "category": "General purpose",
    "gpuNum": 0,
    "hideHardwareSpecs": false,
    "memoryGiB": 8,
    "name": "ml.t3.large",
    "vcpuNum": 2
   },
   {
    "_defaultOrder": 2,
    "_isFastLaunch": false,
    "category": "General purpose",
    "gpuNum": 0,
    "hideHardwareSpecs": false,
    "memoryGiB": 16,
    "name": "ml.t3.xlarge",
    "vcpuNum": 4
   },
   {
    "_defaultOrder": 3,
    "_isFastLaunch": false,
    "category": "General purpose",
    "gpuNum": 0,
    "hideHardwareSpecs": false,
    "memoryGiB": 32,
    "name": "ml.t3.2xlarge",
    "vcpuNum": 8
   },
   {
    "_defaultOrder": 4,
    "_isFastLaunch": true,
    "category": "General purpose",
    "gpuNum": 0,
    "hideHardwareSpecs": false,
    "memoryGiB": 8,
    "name": "ml.m5.large",
    "vcpuNum": 2
   },
   {
    "_defaultOrder": 5,
    "_isFastLaunch": false,
    "category": "General purpose",
    "gpuNum": 0,
    "hideHardwareSpecs": false,
    "memoryGiB": 16,
    "name": "ml.m5.xlarge",
    "vcpuNum": 4
   },
   {
    "_defaultOrder": 6,
    "_isFastLaunch": false,
    "category": "General purpose",
    "gpuNum": 0,
    "hideHardwareSpecs": false,
    "memoryGiB": 32,
    "name": "ml.m5.2xlarge",
    "vcpuNum": 8
   },
   {
    "_defaultOrder": 7,
    "_isFastLaunch": false,
    "category": "General purpose",
    "gpuNum": 0,
    "hideHardwareSpecs": false,
    "memoryGiB": 64,
    "name": "ml.m5.4xlarge",
    "vcpuNum": 16
   },
   {
    "_defaultOrder": 8,
    "_isFastLaunch": false,
    "category": "General purpose",
    "gpuNum": 0,
    "hideHardwareSpecs": false,
    "memoryGiB": 128,
    "name": "ml.m5.8xlarge",
    "vcpuNum": 32
   },
   {
    "_defaultOrder": 9,
    "_isFastLaunch": false,
    "category": "General purpose",
    "gpuNum": 0,
    "hideHardwareSpecs": false,
    "memoryGiB": 192,
    "name": "ml.m5.12xlarge",
    "vcpuNum": 48
   },
   {
    "_defaultOrder": 10,
    "_isFastLaunch": false,
    "category": "General purpose",
    "gpuNum": 0,
    "hideHardwareSpecs": false,
    "memoryGiB": 256,
    "name": "ml.m5.16xlarge",
    "vcpuNum": 64
   },
   {
    "_defaultOrder": 11,
    "_isFastLaunch": false,
    "category": "General purpose",
    "gpuNum": 0,
    "hideHardwareSpecs": false,
    "memoryGiB": 384,
    "name": "ml.m5.24xlarge",
    "vcpuNum": 96
   },
   {
    "_defaultOrder": 12,
    "_isFastLaunch": false,
    "category": "General purpose",
    "gpuNum": 0,
    "hideHardwareSpecs": false,
    "memoryGiB": 8,
    "name": "ml.m5d.large",
    "vcpuNum": 2
   },
   {
    "_defaultOrder": 13,
    "_isFastLaunch": false,
    "category": "General purpose",
    "gpuNum": 0,
    "hideHardwareSpecs": false,
    "memoryGiB": 16,
    "name": "ml.m5d.xlarge",
    "vcpuNum": 4
   },
   {
    "_defaultOrder": 14,
    "_isFastLaunch": false,
    "category": "General purpose",
    "gpuNum": 0,
    "hideHardwareSpecs": false,
    "memoryGiB": 32,
    "name": "ml.m5d.2xlarge",
    "vcpuNum": 8
   },
   {
    "_defaultOrder": 15,
    "_isFastLaunch": false,
    "category": "General purpose",
    "gpuNum": 0,
    "hideHardwareSpecs": false,
    "memoryGiB": 64,
    "name": "ml.m5d.4xlarge",
    "vcpuNum": 16
   },
   {
    "_defaultOrder": 16,
    "_isFastLaunch": false,
    "category": "General purpose",
    "gpuNum": 0,
    "hideHardwareSpecs": false,
    "memoryGiB": 128,
    "name": "ml.m5d.8xlarge",
    "vcpuNum": 32
   },
   {
    "_defaultOrder": 17,
    "_isFastLaunch": false,
    "category": "General purpose",
    "gpuNum": 0,
    "hideHardwareSpecs": false,
    "memoryGiB": 192,
    "name": "ml.m5d.12xlarge",
    "vcpuNum": 48
   },
   {
    "_defaultOrder": 18,
    "_isFastLaunch": false,
    "category": "General purpose",
    "gpuNum": 0,
    "hideHardwareSpecs": false,
    "memoryGiB": 256,
    "name": "ml.m5d.16xlarge",
    "vcpuNum": 64
   },
   {
    "_defaultOrder": 19,
    "_isFastLaunch": false,
    "category": "General purpose",
    "gpuNum": 0,
    "hideHardwareSpecs": false,
    "memoryGiB": 384,
    "name": "ml.m5d.24xlarge",
    "vcpuNum": 96
   },
   {
    "_defaultOrder": 20,
    "_isFastLaunch": false,
    "category": "General purpose",
    "gpuNum": 0,
    "hideHardwareSpecs": true,
    "memoryGiB": 0,
    "name": "ml.geospatial.interactive",
    "supportedImageNames": [
     "sagemaker-geospatial-v1-0"
    ],
    "vcpuNum": 0
   },
   {
    "_defaultOrder": 21,
    "_isFastLaunch": true,
    "category": "Compute optimized",
    "gpuNum": 0,
    "hideHardwareSpecs": false,
    "memoryGiB": 4,
    "name": "ml.c5.large",
    "vcpuNum": 2
   },
   {
    "_defaultOrder": 22,
    "_isFastLaunch": false,
    "category": "Compute optimized",
    "gpuNum": 0,
    "hideHardwareSpecs": false,
    "memoryGiB": 8,
    "name": "ml.c5.xlarge",
    "vcpuNum": 4
   },
   {
    "_defaultOrder": 23,
    "_isFastLaunch": false,
    "category": "Compute optimized",
    "gpuNum": 0,
    "hideHardwareSpecs": false,
    "memoryGiB": 16,
    "name": "ml.c5.2xlarge",
    "vcpuNum": 8
   },
   {
    "_defaultOrder": 24,
    "_isFastLaunch": false,
    "category": "Compute optimized",
    "gpuNum": 0,
    "hideHardwareSpecs": false,
    "memoryGiB": 32,
    "name": "ml.c5.4xlarge",
    "vcpuNum": 16
   },
   {
    "_defaultOrder": 25,
    "_isFastLaunch": false,
    "category": "Compute optimized",
    "gpuNum": 0,
    "hideHardwareSpecs": false,
    "memoryGiB": 72,
    "name": "ml.c5.9xlarge",
    "vcpuNum": 36
   },
   {
    "_defaultOrder": 26,
    "_isFastLaunch": false,
    "category": "Compute optimized",
    "gpuNum": 0,
    "hideHardwareSpecs": false,
    "memoryGiB": 96,
    "name": "ml.c5.12xlarge",
    "vcpuNum": 48
   },
   {
    "_defaultOrder": 27,
    "_isFastLaunch": false,
    "category": "Compute optimized",
    "gpuNum": 0,
    "hideHardwareSpecs": false,
    "memoryGiB": 144,
    "name": "ml.c5.18xlarge",
    "vcpuNum": 72
   },
   {
    "_defaultOrder": 28,
    "_isFastLaunch": false,
    "category": "Compute optimized",
    "gpuNum": 0,
    "hideHardwareSpecs": false,
    "memoryGiB": 192,
    "name": "ml.c5.24xlarge",
    "vcpuNum": 96
   },
   {
    "_defaultOrder": 29,
    "_isFastLaunch": true,
    "category": "Accelerated computing",
    "gpuNum": 1,
    "hideHardwareSpecs": false,
    "memoryGiB": 16,
    "name": "ml.g4dn.xlarge",
    "vcpuNum": 4
   },
   {
    "_defaultOrder": 30,
    "_isFastLaunch": false,
    "category": "Accelerated computing",
    "gpuNum": 1,
    "hideHardwareSpecs": false,
    "memoryGiB": 32,
    "name": "ml.g4dn.2xlarge",
    "vcpuNum": 8
   },
   {
    "_defaultOrder": 31,
    "_isFastLaunch": false,
    "category": "Accelerated computing",
    "gpuNum": 1,
    "hideHardwareSpecs": false,
    "memoryGiB": 64,
    "name": "ml.g4dn.4xlarge",
    "vcpuNum": 16
   },
   {
    "_defaultOrder": 32,
    "_isFastLaunch": false,
    "category": "Accelerated computing",
    "gpuNum": 1,
    "hideHardwareSpecs": false,
    "memoryGiB": 128,
    "name": "ml.g4dn.8xlarge",
    "vcpuNum": 32
   },
   {
    "_defaultOrder": 33,
    "_isFastLaunch": false,
    "category": "Accelerated computing",
    "gpuNum": 4,
    "hideHardwareSpecs": false,
    "memoryGiB": 192,
    "name": "ml.g4dn.12xlarge",
    "vcpuNum": 48
   },
   {
    "_defaultOrder": 34,
    "_isFastLaunch": false,
    "category": "Accelerated computing",
    "gpuNum": 1,
    "hideHardwareSpecs": false,
    "memoryGiB": 256,
    "name": "ml.g4dn.16xlarge",
    "vcpuNum": 64
   },
   {
    "_defaultOrder": 35,
    "_isFastLaunch": false,
    "category": "Accelerated computing",
    "gpuNum": 1,
    "hideHardwareSpecs": false,
    "memoryGiB": 61,
    "name": "ml.p3.2xlarge",
    "vcpuNum": 8
   },
   {
    "_defaultOrder": 36,
    "_isFastLaunch": false,
    "category": "Accelerated computing",
    "gpuNum": 4,
    "hideHardwareSpecs": false,
    "memoryGiB": 244,
    "name": "ml.p3.8xlarge",
    "vcpuNum": 32
   },
   {
    "_defaultOrder": 37,
    "_isFastLaunch": false,
    "category": "Accelerated computing",
    "gpuNum": 8,
    "hideHardwareSpecs": false,
    "memoryGiB": 488,
    "name": "ml.p3.16xlarge",
    "vcpuNum": 64
   },
   {
    "_defaultOrder": 38,
    "_isFastLaunch": false,
    "category": "Accelerated computing",
    "gpuNum": 8,
    "hideHardwareSpecs": false,
    "memoryGiB": 768,
    "name": "ml.p3dn.24xlarge",
    "vcpuNum": 96
   },
   {
    "_defaultOrder": 39,
    "_isFastLaunch": false,
    "category": "Memory Optimized",
    "gpuNum": 0,
    "hideHardwareSpecs": false,
    "memoryGiB": 16,
    "name": "ml.r5.large",
    "vcpuNum": 2
   },
   {
    "_defaultOrder": 40,
    "_isFastLaunch": false,
    "category": "Memory Optimized",
    "gpuNum": 0,
    "hideHardwareSpecs": false,
    "memoryGiB": 32,
    "name": "ml.r5.xlarge",
    "vcpuNum": 4
   },
   {
    "_defaultOrder": 41,
    "_isFastLaunch": false,
    "category": "Memory Optimized",
    "gpuNum": 0,
    "hideHardwareSpecs": false,
    "memoryGiB": 64,
    "name": "ml.r5.2xlarge",
    "vcpuNum": 8
   },
   {
    "_defaultOrder": 42,
    "_isFastLaunch": false,
    "category": "Memory Optimized",
    "gpuNum": 0,
    "hideHardwareSpecs": false,
    "memoryGiB": 128,
    "name": "ml.r5.4xlarge",
    "vcpuNum": 16
   },
   {
    "_defaultOrder": 43,
    "_isFastLaunch": false,
    "category": "Memory Optimized",
    "gpuNum": 0,
    "hideHardwareSpecs": false,
    "memoryGiB": 256,
    "name": "ml.r5.8xlarge",
    "vcpuNum": 32
   },
   {
    "_defaultOrder": 44,
    "_isFastLaunch": false,
    "category": "Memory Optimized",
    "gpuNum": 0,
    "hideHardwareSpecs": false,
    "memoryGiB": 384,
    "name": "ml.r5.12xlarge",
    "vcpuNum": 48
   },
   {
    "_defaultOrder": 45,
    "_isFastLaunch": false,
    "category": "Memory Optimized",
    "gpuNum": 0,
    "hideHardwareSpecs": false,
    "memoryGiB": 512,
    "name": "ml.r5.16xlarge",
    "vcpuNum": 64
   },
   {
    "_defaultOrder": 46,
    "_isFastLaunch": false,
    "category": "Memory Optimized",
    "gpuNum": 0,
    "hideHardwareSpecs": false,
    "memoryGiB": 768,
    "name": "ml.r5.24xlarge",
    "vcpuNum": 96
   },
   {
    "_defaultOrder": 47,
    "_isFastLaunch": false,
    "category": "Accelerated computing",
    "gpuNum": 1,
    "hideHardwareSpecs": false,
    "memoryGiB": 16,
    "name": "ml.g5.xlarge",
    "vcpuNum": 4
   },
   {
    "_defaultOrder": 48,
    "_isFastLaunch": false,
    "category": "Accelerated computing",
    "gpuNum": 1,
    "hideHardwareSpecs": false,
    "memoryGiB": 32,
    "name": "ml.g5.2xlarge",
    "vcpuNum": 8
   },
   {
    "_defaultOrder": 49,
    "_isFastLaunch": false,
    "category": "Accelerated computing",
    "gpuNum": 1,
    "hideHardwareSpecs": false,
    "memoryGiB": 64,
    "name": "ml.g5.4xlarge",
    "vcpuNum": 16
   },
   {
    "_defaultOrder": 50,
    "_isFastLaunch": false,
    "category": "Accelerated computing",
    "gpuNum": 1,
    "hideHardwareSpecs": false,
    "memoryGiB": 128,
    "name": "ml.g5.8xlarge",
    "vcpuNum": 32
   },
   {
    "_defaultOrder": 51,
    "_isFastLaunch": false,
    "category": "Accelerated computing",
    "gpuNum": 1,
    "hideHardwareSpecs": false,
    "memoryGiB": 256,
    "name": "ml.g5.16xlarge",
    "vcpuNum": 64
   },
   {
    "_defaultOrder": 52,
    "_isFastLaunch": false,
    "category": "Accelerated computing",
    "gpuNum": 4,
    "hideHardwareSpecs": false,
    "memoryGiB": 192,
    "name": "ml.g5.12xlarge",
    "vcpuNum": 48
   },
   {
    "_defaultOrder": 53,
    "_isFastLaunch": false,
    "category": "Accelerated computing",
    "gpuNum": 4,
    "hideHardwareSpecs": false,
    "memoryGiB": 384,
    "name": "ml.g5.24xlarge",
    "vcpuNum": 96
   },
   {
    "_defaultOrder": 54,
    "_isFastLaunch": false,
    "category": "Accelerated computing",
    "gpuNum": 8,
    "hideHardwareSpecs": false,
    "memoryGiB": 768,
    "name": "ml.g5.48xlarge",
    "vcpuNum": 192
   },
   {
    "_defaultOrder": 55,
    "_isFastLaunch": false,
    "category": "Accelerated computing",
    "gpuNum": 8,
    "hideHardwareSpecs": false,
    "memoryGiB": 1152,
    "name": "ml.p4d.24xlarge",
    "vcpuNum": 96
   },
   {
    "_defaultOrder": 56,
    "_isFastLaunch": false,
    "category": "Accelerated computing",
    "gpuNum": 8,
    "hideHardwareSpecs": false,
    "memoryGiB": 1152,
    "name": "ml.p4de.24xlarge",
    "vcpuNum": 96
   },
   {
    "_defaultOrder": 57,
    "_isFastLaunch": false,
    "category": "Accelerated computing",
    "gpuNum": 0,
    "hideHardwareSpecs": false,
    "memoryGiB": 32,
    "name": "ml.trn1.2xlarge",
    "vcpuNum": 8
   },
   {
    "_defaultOrder": 58,
    "_isFastLaunch": false,
    "category": "Accelerated computing",
    "gpuNum": 0,
    "hideHardwareSpecs": false,
    "memoryGiB": 512,
    "name": "ml.trn1.32xlarge",
    "vcpuNum": 128
   },
   {
    "_defaultOrder": 59,
    "_isFastLaunch": false,
    "category": "Accelerated computing",
    "gpuNum": 0,
    "hideHardwareSpecs": false,
    "memoryGiB": 512,
    "name": "ml.trn1n.32xlarge",
    "vcpuNum": 128
   }
  ],
  "instance_type": "ml.t3.medium",
  "kernelspec": {
   "display_name": "Python 3 (Data Science 3.0)",
   "language": "python",
   "name": "python3__SAGEMAKER_INTERNAL__arn:aws:sagemaker:us-east-1:081325390199:image/sagemaker-data-science-310-v1"
  },
  "language_info": {
   "codemirror_mode": {
    "name": "ipython",
    "version": 3
   },
   "file_extension": ".py",
   "mimetype": "text/x-python",
   "name": "python",
   "nbconvert_exporter": "python",
   "pygments_lexer": "ipython3",
   "version": "3.10.6"
  }
 },
 "nbformat": 4,
 "nbformat_minor": 5
}
