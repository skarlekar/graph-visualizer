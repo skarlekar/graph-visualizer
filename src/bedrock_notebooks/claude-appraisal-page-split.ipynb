{
 "cells": [
  {
   "cell_type": "code",
   "execution_count": 47,
   "id": "0d124088-4efe-4590-b5d9-972210b7828d",
   "metadata": {
    "tags": []
   },
   "outputs": [],
   "source": [
    "import boto3\n",
    "import json\n",
    "from jinja2 import Environment, FileSystemLoader\n",
    "import sys\n",
    "from pathlib import Path\n",
    "import os"
   ]
  },
  {
   "cell_type": "code",
   "execution_count": 48,
   "id": "f245cf52-f136-4f4c-9485-030ca0ecca52",
   "metadata": {
    "tags": []
   },
   "outputs": [],
   "source": [
    "template_dir = os.path.abspath(os.path.join(os.getcwd(),\"../..\",\"prompts-templates\"))\n",
    "output_dir = os.path.abspath(os.path.join(os.getcwd(),\"../..\",\"model-results/cleaned-appraisal-report-rdf/\"))\n",
    "ontology_dir = os.path.abspath(os.path.join(os.getcwd(),\"../..\",\"ontologies\"))\n",
    "ontology_name = \"PropertyAppraisalOntology-v2.ttl\"\n",
    "\n",
    "input_text_dir = os.path.abspath(os.path.join(os.getcwd(),\"../..\",\"prompts\"))\n",
    "input_text_name = \"Appraisal-Report-minimum-info-page-divisors.txt\"\n",
    "\n",
    "template_filename = \"rdf-graph-template.txt\"\n",
    "model_id = \"anthropic.claude-3-sonnet-20240229-v1:0\"\n",
    "\n",
    "environment = Environment(loader=FileSystemLoader(template_dir))\n",
    "template = environment.get_template(template_filename)\n",
    "\n",
    "with open(os.path.join(ontology_dir,ontology_name),\"r\") as f:\n",
    "    ontology = f.read()\n",
    "with open(os.path.join(input_text_dir,input_text_name),\"r\") as f:\n",
    "    input_text = f.read()"
   ]
  },
  {
   "cell_type": "code",
   "execution_count": 49,
   "id": "cd81e84f-b3d5-4df1-a8ca-46f71698eb50",
   "metadata": {
    "tags": []
   },
   "outputs": [],
   "source": [
    "bedrock_runtime= boto3.client(\"bedrock-runtime\",region_name=\"us-east-1\")"
   ]
  },
  {
   "cell_type": "code",
   "execution_count": 50,
   "id": "5b479cc2-b549-4915-8cb9-1c204c6c0ec9",
   "metadata": {
    "tags": []
   },
   "outputs": [],
   "source": [
    "report_pages ={t.split(\"\\n\")[0].strip().replace(\" \",\"-\"):t.split(t.split(\"\\n\")[0])[1] for t in input_text.split(\"-----\")[1:]}"
   ]
  },
  {
   "cell_type": "code",
   "execution_count": 57,
   "id": "0ee7d084-b9a7-4d22-bac4-2614ecd1976d",
   "metadata": {
    "tags": []
   },
   "outputs": [],
   "source": [
    "# for p_name,content in report_pages.items():\n",
    "#     prompt = template.render(\n",
    "#         ontology=ontology,\n",
    "#         input_text=content\n",
    "#     )\n",
    "#     message={\"role\": \"user\",\"content\": prompt}\n",
    "#     messages = [message]\n",
    "#     print(prompt)\n",
    "#     body=json.dumps(\n",
    "#     {\n",
    "#         'messages':messages,\n",
    "#         'anthropic_version':'bedrock-2023-05-31',\n",
    "#         'top_p':0.5,\n",
    "#         'temperature':0.5,\n",
    "#         'top_k':5,\n",
    "#         'max_tokens':3000\n",
    "#     })\n",
    "#     response = bedrock_runtime.invoke_model(\n",
    "#         modelId=model_id,\n",
    "#         contentType='application/json',\n",
    "#         accept='application/json',\n",
    "#         body=body\n",
    "#     )\n",
    "#     response_body = json.loads(response['body'].read())\n",
    "#     break"
   ]
  },
  {
   "cell_type": "code",
   "execution_count": 59,
   "id": "597aa7b7-2080-434a-916d-ef18277bbbce",
   "metadata": {
    "tags": []
   },
   "outputs": [
    {
     "name": "stdout",
     "output_type": "stream",
     "text": [
      "Using this provided ontology, between <ontology> tags, exclusively, please create specific instances and data about the property appraisal from the following input text, between <input_text> tags. Also, create a full and complete RDF graph without leaving any statements from the graph.\n",
      "\n",
      "<ontology>\n",
      "@prefix rdf: <http://www.w3.org/1999/02/22-rdf-syntax-ns#> .\n",
      "@prefix rdfs: <http://www.w3.org/2000/01/rdf-schema#> .\n",
      "@prefix xsd: <http://www.w3.org/2001/XMLSchema#> .\n",
      "@prefix mf: <http://example.org/mf> .\n",
      "\n",
      "<mf:NamedEntity> a xsd:string .\n",
      "<mf:Property> a <mf:NamedEntity> .\n",
      "<mf:SubjectProperty> a <mf:Property> .\n",
      "<mf:PropertyAddress> a <mf:NamedEntity> .\n",
      "<mf:PropertyStreetNumber> a <mf:NamedEntity> .\n",
      "<mf:PropertyStreetName> a <mf:NamedEntity> .\n",
      "<mf:PropertyCity> a <mf:NamedEntity> .\n",
      "<mf:PropertyZip> a <mf:NamedEntity> .\n",
      "<mf:PropertyName> a <mf:NamedEntity> .\n",
      "<mf:PropertyUnits> a <mf:NamedEntity> .\n",
      "<mf:PropertyAppraisedValue> a <mf:NamedEntity> .\n",
      "<mf:PropertyOwner> a <mf:NamedEntity> .\n",
      "<mf:PropertyAppraiser> a <mf:NamedEntity> .\n",
      "<mf:PropertyAppraisalRemarks> a <mf:NamedEntity> .\n",
      "<mf:PropertyAppraisalDate> a xsd:date .\n",
      "<mf:PropertyAppraisalMonth> a xsd:string .\n",
      "<mf:PropertyAppraisalDay> a xsd:int .\n",
      "<mf:PropertyAppraisalYear> a xsd:int .\n",
      "<mf:PropertyAppraisal> a <mf:document> .\n",
      "<mf:PropertyInspectionDate> a xsd:date .\n",
      "<mf:PropertyInspectionMonth> a xsd:string .\n",
      "<mf:PropertyInspectionDay> a xsd:int .\n",
      "<mf:PropertyInspectionYear> a xsd:int .\n",
      "<mf:PropertyTaxInformation> a <mf:NamedEntity> .\n",
      "<mf:PropertyLandArea> a <mf:NamedEntity> .\n",
      "<mf:PropertyZoning> a <mf:NamedEntity> .\n",
      "<mf:PropertyLandValue> a <mf:NamedEntity> .\n",
      "<mf:PropertyTopography> a <mf:NamedEntity> .\n",
      "<mf:PropertyDrainage> a <mf:NamedEntity> .\n",
      "<mf:PropertyUtilities> a <mf:NamedEntity> .\n",
      "<mf:PropertyFloodZoneIndicator> a <mf:NamedEntity> .\n",
      "<mf:PropertyEasement> a <mf:NamedEntity> .\n",
      "<mf:PropertyEncroachment> a <mf:NamedEntity> .\n",
      "<mf:PropertyBuildingType> a <mf:NamedEntity> .\n",
      "<mf:PropertyConstructionType> a <mf:NamedEntity> .\n",
      "<mf:PropertyBuildingType> a <mf:NamedEntity> .\n",
      "<mf:PropertyQuality> a <mf:NamedEntity> .\n",
      "<mf:PropertyYearBuilt> a <mf:NamedEntity> .\n",
      "<mf:PropertyArchitectureStyle> a <mf:NamedEntity> .\n",
      "<mf:PropertyBuildingCondition> a <mf:NamedEntity> .\n",
      "<mf:PropertyEffectiveAge> a <mf:NamedEntity> .\n",
      "<mf:PropertyRemainingEconomicLife> a <mf:NamedEntity> .\n",
      "<mf:PropertyFoundationType> a <mf:NamedEntity> .\n",
      "<mf:PropertyRoofCover> a <mf:NamedEntity> .\n",
      "<mf:PropertyBuildingFrame> a <mf:NamedEntity> .\n",
      "<mf:PropertyElevators> a <mf:NamedEntity> .\n",
      "<mf:PropertyServiceAccess> a <mf:NamedEntity> .\n",
      "<mf:PropertyHeating> a <mf:NamedEntity> .\n",
      "<mf:PropertyCooling> a <mf:NamedEntity> .\n",
      "<mf:PropertyParkingType> a <mf:NamedEntity> .\n",
      "<mf:PropertyOccupancy> a <mf:NamedEntity> .\n",
      "<mf:PropertyLTV> a <mf:NamedEntity> .\n",
      "<mf:PropertyDCR> a <mf:NamedEntity> .\n",
      "\n",
      "\n",
      "\n",
      "<mf:Property> <hasName> <mf:PropertyName> ;\n",
      "\t    <hasAddress> <mf:PropertyAddress> ;\n",
      "\t    <hasUnits> <mf:PropertyUnits> ;\n",
      "\t    <hasOwner> <mf:PropertyOwner> ;\t    \n",
      "\t    <hasAppraisal> <mf:PropretyAppraisal> .\n",
      "\n",
      "<mf:PropertyAppraisal> <hasTitle> xsd:string ;\n",
      "\t\t     <hasDate> <mf:PropertyAppraisalDate> ;\n",
      "\t\t     <hasAppraiser> <mf:PropertyAppraiser> ;\n",
      "\t\t     <hasRemarks> <mf:PropertyAppraisalRemarks> ;\n",
      "\t\t     <hasAppraisedValue> <mf:PropertyAppraisedValue> .\n",
      "\n",
      "<mf:PropertyAddress> <hasStreetNumber> <mf:PropertyStreetNumber> ;\n",
      "\t\t      <hasStreetName> <mf:PropertyStreetName> ;\n",
      "\t\t       <hasCity> <mf:PropertyCity> ;\n",
      "\t\t      <hasState> <mf:PropertyState> ;\n",
      "\t\t      <hasZip> <mf:PropertyZip> .\n",
      "\n",
      "<mf:PropertyAppraisalDate> <hasMonth> <mf:PropertyAppraisalMonth> ;\n",
      "\t\t\t   <hasDay> <mf:PropertyAppraisalDay> ;\n",
      "\t\t\t   <hasYear> <mf:PropertyAppraisalYear> .\n",
      "\n",
      "<mf:PropertyInspectionDate> <hasMonth> <mf:PropertyInspectionMonth> ;\n",
      "\t\t\t   <hasDay> <mf:PropertyInspectionDay> ;\n",
      "\t\t\t   <hasYear> <mf:PropertyInspectionYear> .\n",
      "\n",
      "<mf:PropertyOwner> rdfs:label \"Owner\" .\n",
      "<mf:PropertyAppraisalDate> rdfs:label \"Date of Report\" , \"Date of the appraisal\" , \"Date:\".\n",
      "<mf:PropertyInspectionDate> rdfs:label \"Date of Inspection\" , \"Inspection Date\".\n",
      "<mf:PropertyAppraisedValue> rdfs:label \"Assessed Value\" , \"Market Value\" , \"Final Value\".\n",
      "<mf:PropertyUnits> rdfs:label \"Number of Units\" .\n",
      "<mf:PropertyTaxInformation> rdfs:label \"Tax Identification:\" .\n",
      "<mf:PropertyLandArea> rdfs:label \"Land Area:\" .\n",
      "<mf:PropertyZoning> rdfs:label \"Zoning:\" .\n",
      "<mf:PropertyLandValue> rdfs:label \"Land Value:\" .\n",
      "<mf:PropertyTopography> rdfs:label \"Topography:\" .\n",
      "<mf:PropertyDrainage> rdfs:label \"Drainage:\" .\n",
      "<mf:PropertyUtilities> rdfs:label \"Utilities:\" .\n",
      "<mf:PropertyFloodZoneIndicator> rdfs:label \"Flood Zone:\" .\n",
      "<mf:PropertyEasement> rdfs:label \"Easements:\" .\n",
      "<mf:PropertyEncroachment> rdfs:label \"Encroachments:\" .\n",
      "<mf:PropertyBuildingType> rdfs:label \"Building Type:\" .\n",
      "<mf:PropertyConstructionType> rdfs:label \"Construction:\" .\n",
      "<mf:PropertyBuildingType> rdfs:label \"Number of Units\" .\n",
      "<mf:PropertyQuality> rdfs:label \"Quality:\" .\n",
      "<mf:PropertyYearBuilt> rdfs:label \"Year Built:\" .\n",
      "<mf:PropertyArchitectureStyle> rdfs:label \"Architectural Style:\" .\n",
      "<mf:PropertyBuildingCondition> rdfs:label \"Condition:\" .\n",
      "<mf:PropertyEffectiveAge> rdfs:label \"Effective Age:\" .\n",
      "<mf:PropertyRemainingEconomicLife> rdfs:label \"Remaining Economic Life:\" .\n",
      "<mf:PropertyFoundationType> rdfs:label \"Foundation:\" .\n",
      "<mf:PropertyRoofCover> rdfs:label \"Roof/Cover:\" .\n",
      "<mf:PropertyBuildingFrame> rdfs:label \"Frame:\" .\n",
      "<mf:PropertyElevators> rdfs:label \"Elevators:\" .\n",
      "<mf:PropertyServiceAccess> rdfs:label \"Service / Access/ Overhead Doors:\" .\n",
      "<mf:PropertyHeating> rdfs:label \"Heating:\" .\n",
      "<mf:SubjectProperty> rdfs:label \"Subject Property\" .\n",
      "<mf:PropertyCooling> rdfs:label \"Cooling:\" .\n",
      "<mf:PropertyParkingType> rdfs:label \"Parking Type and Condition of Spaces:\" .\n",
      "<mf:PropertyLTV> rdfs:label \"Loan to Value Ratio\" .\n",
      "<mf:PropertyDCR> rdfs:label \"Debt Coverage Ratio\" .\n",
      "\n",
      "</ontology>\n",
      "\n",
      "<input_text>\n",
      "\n",
      "APPRAISAL REPORT\n",
      "Of Existing Multi-Family Property\n",
      "College Courtyard Apartments & Raider Housing\n",
      "a 62 Unit Multi-Family Property\n",
      "Location\n",
      "28 & 30 Garden Lane\n",
      "Niceville, Okaloosa County, FL 32578\n",
      "Effective Date\n",
      "December 13, 2019\n",
      "Report Date\n",
      "January 10, 2020\n",
      "Client / Intended User\n",
      "Ms. Cristie Kedroski\n",
      "Vice President of College Advancement\n",
      "Northwest Florida State College Foundation\n",
      "100 College Boulevard\n",
      "Niceville, FL 32578\n",
      "Tel: 850.729.5210\n",
      "Prepared by:\n",
      "Jason P. Shirey, MAI, CCIM State Certified General Real Estate Appraiser RZ3186\n",
      "Josette D. Jackson, CCIM State Certified General Real Estate Appraiser RZ3275\n",
      "Owner: Okaloosa-Walton Community College Foundation, Inc.\n",
      "100 College Blvd\n",
      "Niceville, FL 32578\n",
      "\n",
      "</input_text>\n"
     ]
    }
   ],
   "source": [
    "prompt = template.render(\n",
    "    ontology=ontology,\n",
    "    input_text=report_pages[\"PAGE-2\"]\n",
    ")\n",
    "message={\"role\": \"user\",\"content\": prompt}\n",
    "messages = [message]\n",
    "print(prompt)\n",
    "body=json.dumps(\n",
    "{\n",
    "    'messages':messages,\n",
    "    'anthropic_version':'bedrock-2023-05-31',\n",
    "    'top_p':0.5,\n",
    "    'temperature':0.5,\n",
    "    'top_k':5,\n",
    "    'max_tokens':3000\n",
    "})\n",
    "response = bedrock_runtime.invoke_model(\n",
    "    modelId=model_id,\n",
    "    contentType='application/json',\n",
    "    accept='application/json',\n",
    "    body=body\n",
    ")\n",
    "response_body = json.loads(response['body'].read())"
   ]
  },
  {
   "cell_type": "code",
   "execution_count": 60,
   "id": "c2eaa183-e720-4bf2-8d95-a0b4a84e2a18",
   "metadata": {
    "tags": []
   },
   "outputs": [
    {
     "data": {
      "text/plain": [
       "{'id': 'msg_019C2BhTHKusvyZjucSrwDrZ',\n",
       " 'type': 'message',\n",
       " 'role': 'assistant',\n",
       " 'content': [{'type': 'text',\n",
       "   'text': 'Here is the RDF graph created from the provided input text, using the given ontology:\\n\\n<ontology>\\n@prefix rdf: <http://www.w3.org/1999/02/22-rdf-syntax-ns#> .\\n@prefix rdfs: <http://www.w3.org/2000/01/rdf-schema#> .\\n@prefix xsd: <http://www.w3.org/2001/XMLSchema#> .\\n@prefix mf: <http://example.org/mf> .\\n\\n<mf:Property_1> a <mf:Property> ;\\n    <mf:hasName> \"College Courtyard Apartments & Raider Housing\" ;\\n    <mf:hasAddress> <mf:PropertyAddress_1> ;\\n    <mf:hasUnits> \"62\"^^xsd:int ;\\n    <mf:hasOwner> <mf:PropertyOwner_1> ;\\n    <mf:hasAppraisal> <mf:PropertyAppraisal_1> .\\n\\n<mf:PropertyAddress_1> a <mf:PropertyAddress> ;\\n    <mf:hasStreetNumber> \"28\" , \"30\" ;\\n    <mf:hasStreetName> \"Garden Lane\" ;\\n    <mf:hasCity> \"Niceville\" ;\\n    <mf:hasState> \"FL\" ;\\n    <mf:hasZip> \"32578\" .\\n\\n<mf:PropertyOwner_1> a <mf:PropertyOwner> ;\\n    rdfs:label \"Owner\" ;\\n    rdfs:value \"Okaloosa-Walton Community College Foundation, Inc.\" .\\n\\n<mf:PropertyAppraisal_1> a <mf:PropertyAppraisal> ;\\n    <mf:hasTitle> \"APPRAISAL REPORT\" ;\\n    <mf:hasDate> <mf:PropertyAppraisalDate_1> ;\\n    <mf:hasAppraiser> _:appraiser1 , _:appraiser2 ;\\n    <mf:hasAppraisedValue> _:appraisedValue .\\n\\n_:appraiser1 a <mf:PropertyAppraiser> ;\\n    rdfs:label \"Jason P. Shirey, MAI, CCIM State Certified General Real Estate Appraiser RZ3186\" .\\n\\n_:appraiser2 a <mf:PropertyAppraiser> ;\\n    rdfs:label \"Josette D. Jackson, CCIM State Certified General Real Estate Appraiser RZ3275\" .\\n\\n<mf:PropertyAppraisalDate_1> a <mf:PropertyAppraisalDate> ;\\n    <mf:hasMonth> \"December\" ;\\n    <mf:hasDay> \"13\"^^xsd:int ;\\n    <mf:hasYear> \"2019\"^^xsd:int ;\\n    rdfs:label \"Effective Date\" .\\n\\n_:appraisedValue a <mf:PropertyAppraisedValue> ;\\n    rdfs:label \"Market Value\" .\\n    \\n</ontology>\\n\\nIn this RDF graph, I have created instances for the Property, PropertyAddress, PropertyOwner, PropertyAppraisal, PropertyAppraisers, and PropertyAppraisalDate based on the information provided in the input text. The values are assigned using the appropriate properties and datatypes from the ontology.'}],\n",
       " 'model': 'claude-3-sonnet-28k-20240229',\n",
       " 'stop_reason': 'end_turn',\n",
       " 'stop_sequence': None,\n",
       " 'usage': {'input_tokens': 2658, 'output_tokens': 819}}"
      ]
     },
     "execution_count": 60,
     "metadata": {},
     "output_type": "execute_result"
    }
   ],
   "source": [
    "response_body"
   ]
  },
  {
   "cell_type": "code",
   "execution_count": 62,
   "id": "42db92b2-4463-48e3-8149-4fa537f42ba9",
   "metadata": {
    "tags": []
   },
   "outputs": [],
   "source": [
    "p_name=\"PAGE-2\""
   ]
  },
  {
   "cell_type": "code",
   "execution_count": 63,
   "id": "8cc0828a-d4eb-42a6-8a0f-d9197abeabe7",
   "metadata": {
    "tags": []
   },
   "outputs": [],
   "source": [
    "full_output_name = p_name\n",
    "full_output_name=full_output_name.replace(\":\",\"-\")\n",
    "same_name_count = int(len([f for f in os.listdir(output_dir) if full_output_name in f])/2)\n",
    "file_count = \"\" if same_name_count ==0 else f'-{same_name_count}'"
   ]
  },
  {
   "cell_type": "code",
   "execution_count": 64,
   "id": "67dc8e3c-44c4-4110-9323-eab26984e950",
   "metadata": {
    "tags": []
   },
   "outputs": [
    {
     "data": {
      "text/plain": [
       "'PAGE-2'"
      ]
     },
     "execution_count": 64,
     "metadata": {},
     "output_type": "execute_result"
    }
   ],
   "source": [
    "full_output_name"
   ]
  },
  {
   "cell_type": "code",
   "execution_count": 65,
   "id": "67179df5-3f5a-4665-bd3f-accb198c2b47",
   "metadata": {
    "tags": []
   },
   "outputs": [],
   "source": [
    "with open(os.path.join(output_dir,f\"{full_output_name}{file_count}.json\"),\"w+\") as f:\n",
    "    json.dump(response_body,f)"
   ]
  }
 ],
 "metadata": {
  "availableInstances": [
   {
    "_defaultOrder": 0,
    "_isFastLaunch": true,
    "category": "General purpose",
    "gpuNum": 0,
    "hideHardwareSpecs": false,
    "memoryGiB": 4,
    "name": "ml.t3.medium",
    "vcpuNum": 2
   },
   {
    "_defaultOrder": 1,
    "_isFastLaunch": false,
    "category": "General purpose",
    "gpuNum": 0,
    "hideHardwareSpecs": false,
    "memoryGiB": 8,
    "name": "ml.t3.large",
    "vcpuNum": 2
   },
   {
    "_defaultOrder": 2,
    "_isFastLaunch": false,
    "category": "General purpose",
    "gpuNum": 0,
    "hideHardwareSpecs": false,
    "memoryGiB": 16,
    "name": "ml.t3.xlarge",
    "vcpuNum": 4
   },
   {
    "_defaultOrder": 3,
    "_isFastLaunch": false,
    "category": "General purpose",
    "gpuNum": 0,
    "hideHardwareSpecs": false,
    "memoryGiB": 32,
    "name": "ml.t3.2xlarge",
    "vcpuNum": 8
   },
   {
    "_defaultOrder": 4,
    "_isFastLaunch": true,
    "category": "General purpose",
    "gpuNum": 0,
    "hideHardwareSpecs": false,
    "memoryGiB": 8,
    "name": "ml.m5.large",
    "vcpuNum": 2
   },
   {
    "_defaultOrder": 5,
    "_isFastLaunch": false,
    "category": "General purpose",
    "gpuNum": 0,
    "hideHardwareSpecs": false,
    "memoryGiB": 16,
    "name": "ml.m5.xlarge",
    "vcpuNum": 4
   },
   {
    "_defaultOrder": 6,
    "_isFastLaunch": false,
    "category": "General purpose",
    "gpuNum": 0,
    "hideHardwareSpecs": false,
    "memoryGiB": 32,
    "name": "ml.m5.2xlarge",
    "vcpuNum": 8
   },
   {
    "_defaultOrder": 7,
    "_isFastLaunch": false,
    "category": "General purpose",
    "gpuNum": 0,
    "hideHardwareSpecs": false,
    "memoryGiB": 64,
    "name": "ml.m5.4xlarge",
    "vcpuNum": 16
   },
   {
    "_defaultOrder": 8,
    "_isFastLaunch": false,
    "category": "General purpose",
    "gpuNum": 0,
    "hideHardwareSpecs": false,
    "memoryGiB": 128,
    "name": "ml.m5.8xlarge",
    "vcpuNum": 32
   },
   {
    "_defaultOrder": 9,
    "_isFastLaunch": false,
    "category": "General purpose",
    "gpuNum": 0,
    "hideHardwareSpecs": false,
    "memoryGiB": 192,
    "name": "ml.m5.12xlarge",
    "vcpuNum": 48
   },
   {
    "_defaultOrder": 10,
    "_isFastLaunch": false,
    "category": "General purpose",
    "gpuNum": 0,
    "hideHardwareSpecs": false,
    "memoryGiB": 256,
    "name": "ml.m5.16xlarge",
    "vcpuNum": 64
   },
   {
    "_defaultOrder": 11,
    "_isFastLaunch": false,
    "category": "General purpose",
    "gpuNum": 0,
    "hideHardwareSpecs": false,
    "memoryGiB": 384,
    "name": "ml.m5.24xlarge",
    "vcpuNum": 96
   },
   {
    "_defaultOrder": 12,
    "_isFastLaunch": false,
    "category": "General purpose",
    "gpuNum": 0,
    "hideHardwareSpecs": false,
    "memoryGiB": 8,
    "name": "ml.m5d.large",
    "vcpuNum": 2
   },
   {
    "_defaultOrder": 13,
    "_isFastLaunch": false,
    "category": "General purpose",
    "gpuNum": 0,
    "hideHardwareSpecs": false,
    "memoryGiB": 16,
    "name": "ml.m5d.xlarge",
    "vcpuNum": 4
   },
   {
    "_defaultOrder": 14,
    "_isFastLaunch": false,
    "category": "General purpose",
    "gpuNum": 0,
    "hideHardwareSpecs": false,
    "memoryGiB": 32,
    "name": "ml.m5d.2xlarge",
    "vcpuNum": 8
   },
   {
    "_defaultOrder": 15,
    "_isFastLaunch": false,
    "category": "General purpose",
    "gpuNum": 0,
    "hideHardwareSpecs": false,
    "memoryGiB": 64,
    "name": "ml.m5d.4xlarge",
    "vcpuNum": 16
   },
   {
    "_defaultOrder": 16,
    "_isFastLaunch": false,
    "category": "General purpose",
    "gpuNum": 0,
    "hideHardwareSpecs": false,
    "memoryGiB": 128,
    "name": "ml.m5d.8xlarge",
    "vcpuNum": 32
   },
   {
    "_defaultOrder": 17,
    "_isFastLaunch": false,
    "category": "General purpose",
    "gpuNum": 0,
    "hideHardwareSpecs": false,
    "memoryGiB": 192,
    "name": "ml.m5d.12xlarge",
    "vcpuNum": 48
   },
   {
    "_defaultOrder": 18,
    "_isFastLaunch": false,
    "category": "General purpose",
    "gpuNum": 0,
    "hideHardwareSpecs": false,
    "memoryGiB": 256,
    "name": "ml.m5d.16xlarge",
    "vcpuNum": 64
   },
   {
    "_defaultOrder": 19,
    "_isFastLaunch": false,
    "category": "General purpose",
    "gpuNum": 0,
    "hideHardwareSpecs": false,
    "memoryGiB": 384,
    "name": "ml.m5d.24xlarge",
    "vcpuNum": 96
   },
   {
    "_defaultOrder": 20,
    "_isFastLaunch": false,
    "category": "General purpose",
    "gpuNum": 0,
    "hideHardwareSpecs": true,
    "memoryGiB": 0,
    "name": "ml.geospatial.interactive",
    "supportedImageNames": [
     "sagemaker-geospatial-v1-0"
    ],
    "vcpuNum": 0
   },
   {
    "_defaultOrder": 21,
    "_isFastLaunch": true,
    "category": "Compute optimized",
    "gpuNum": 0,
    "hideHardwareSpecs": false,
    "memoryGiB": 4,
    "name": "ml.c5.large",
    "vcpuNum": 2
   },
   {
    "_defaultOrder": 22,
    "_isFastLaunch": false,
    "category": "Compute optimized",
    "gpuNum": 0,
    "hideHardwareSpecs": false,
    "memoryGiB": 8,
    "name": "ml.c5.xlarge",
    "vcpuNum": 4
   },
   {
    "_defaultOrder": 23,
    "_isFastLaunch": false,
    "category": "Compute optimized",
    "gpuNum": 0,
    "hideHardwareSpecs": false,
    "memoryGiB": 16,
    "name": "ml.c5.2xlarge",
    "vcpuNum": 8
   },
   {
    "_defaultOrder": 24,
    "_isFastLaunch": false,
    "category": "Compute optimized",
    "gpuNum": 0,
    "hideHardwareSpecs": false,
    "memoryGiB": 32,
    "name": "ml.c5.4xlarge",
    "vcpuNum": 16
   },
   {
    "_defaultOrder": 25,
    "_isFastLaunch": false,
    "category": "Compute optimized",
    "gpuNum": 0,
    "hideHardwareSpecs": false,
    "memoryGiB": 72,
    "name": "ml.c5.9xlarge",
    "vcpuNum": 36
   },
   {
    "_defaultOrder": 26,
    "_isFastLaunch": false,
    "category": "Compute optimized",
    "gpuNum": 0,
    "hideHardwareSpecs": false,
    "memoryGiB": 96,
    "name": "ml.c5.12xlarge",
    "vcpuNum": 48
   },
   {
    "_defaultOrder": 27,
    "_isFastLaunch": false,
    "category": "Compute optimized",
    "gpuNum": 0,
    "hideHardwareSpecs": false,
    "memoryGiB": 144,
    "name": "ml.c5.18xlarge",
    "vcpuNum": 72
   },
   {
    "_defaultOrder": 28,
    "_isFastLaunch": false,
    "category": "Compute optimized",
    "gpuNum": 0,
    "hideHardwareSpecs": false,
    "memoryGiB": 192,
    "name": "ml.c5.24xlarge",
    "vcpuNum": 96
   },
   {
    "_defaultOrder": 29,
    "_isFastLaunch": true,
    "category": "Accelerated computing",
    "gpuNum": 1,
    "hideHardwareSpecs": false,
    "memoryGiB": 16,
    "name": "ml.g4dn.xlarge",
    "vcpuNum": 4
   },
   {
    "_defaultOrder": 30,
    "_isFastLaunch": false,
    "category": "Accelerated computing",
    "gpuNum": 1,
    "hideHardwareSpecs": false,
    "memoryGiB": 32,
    "name": "ml.g4dn.2xlarge",
    "vcpuNum": 8
   },
   {
    "_defaultOrder": 31,
    "_isFastLaunch": false,
    "category": "Accelerated computing",
    "gpuNum": 1,
    "hideHardwareSpecs": false,
    "memoryGiB": 64,
    "name": "ml.g4dn.4xlarge",
    "vcpuNum": 16
   },
   {
    "_defaultOrder": 32,
    "_isFastLaunch": false,
    "category": "Accelerated computing",
    "gpuNum": 1,
    "hideHardwareSpecs": false,
    "memoryGiB": 128,
    "name": "ml.g4dn.8xlarge",
    "vcpuNum": 32
   },
   {
    "_defaultOrder": 33,
    "_isFastLaunch": false,
    "category": "Accelerated computing",
    "gpuNum": 4,
    "hideHardwareSpecs": false,
    "memoryGiB": 192,
    "name": "ml.g4dn.12xlarge",
    "vcpuNum": 48
   },
   {
    "_defaultOrder": 34,
    "_isFastLaunch": false,
    "category": "Accelerated computing",
    "gpuNum": 1,
    "hideHardwareSpecs": false,
    "memoryGiB": 256,
    "name": "ml.g4dn.16xlarge",
    "vcpuNum": 64
   },
   {
    "_defaultOrder": 35,
    "_isFastLaunch": false,
    "category": "Accelerated computing",
    "gpuNum": 1,
    "hideHardwareSpecs": false,
    "memoryGiB": 61,
    "name": "ml.p3.2xlarge",
    "vcpuNum": 8
   },
   {
    "_defaultOrder": 36,
    "_isFastLaunch": false,
    "category": "Accelerated computing",
    "gpuNum": 4,
    "hideHardwareSpecs": false,
    "memoryGiB": 244,
    "name": "ml.p3.8xlarge",
    "vcpuNum": 32
   },
   {
    "_defaultOrder": 37,
    "_isFastLaunch": false,
    "category": "Accelerated computing",
    "gpuNum": 8,
    "hideHardwareSpecs": false,
    "memoryGiB": 488,
    "name": "ml.p3.16xlarge",
    "vcpuNum": 64
   },
   {
    "_defaultOrder": 38,
    "_isFastLaunch": false,
    "category": "Accelerated computing",
    "gpuNum": 8,
    "hideHardwareSpecs": false,
    "memoryGiB": 768,
    "name": "ml.p3dn.24xlarge",
    "vcpuNum": 96
   },
   {
    "_defaultOrder": 39,
    "_isFastLaunch": false,
    "category": "Memory Optimized",
    "gpuNum": 0,
    "hideHardwareSpecs": false,
    "memoryGiB": 16,
    "name": "ml.r5.large",
    "vcpuNum": 2
   },
   {
    "_defaultOrder": 40,
    "_isFastLaunch": false,
    "category": "Memory Optimized",
    "gpuNum": 0,
    "hideHardwareSpecs": false,
    "memoryGiB": 32,
    "name": "ml.r5.xlarge",
    "vcpuNum": 4
   },
   {
    "_defaultOrder": 41,
    "_isFastLaunch": false,
    "category": "Memory Optimized",
    "gpuNum": 0,
    "hideHardwareSpecs": false,
    "memoryGiB": 64,
    "name": "ml.r5.2xlarge",
    "vcpuNum": 8
   },
   {
    "_defaultOrder": 42,
    "_isFastLaunch": false,
    "category": "Memory Optimized",
    "gpuNum": 0,
    "hideHardwareSpecs": false,
    "memoryGiB": 128,
    "name": "ml.r5.4xlarge",
    "vcpuNum": 16
   },
   {
    "_defaultOrder": 43,
    "_isFastLaunch": false,
    "category": "Memory Optimized",
    "gpuNum": 0,
    "hideHardwareSpecs": false,
    "memoryGiB": 256,
    "name": "ml.r5.8xlarge",
    "vcpuNum": 32
   },
   {
    "_defaultOrder": 44,
    "_isFastLaunch": false,
    "category": "Memory Optimized",
    "gpuNum": 0,
    "hideHardwareSpecs": false,
    "memoryGiB": 384,
    "name": "ml.r5.12xlarge",
    "vcpuNum": 48
   },
   {
    "_defaultOrder": 45,
    "_isFastLaunch": false,
    "category": "Memory Optimized",
    "gpuNum": 0,
    "hideHardwareSpecs": false,
    "memoryGiB": 512,
    "name": "ml.r5.16xlarge",
    "vcpuNum": 64
   },
   {
    "_defaultOrder": 46,
    "_isFastLaunch": false,
    "category": "Memory Optimized",
    "gpuNum": 0,
    "hideHardwareSpecs": false,
    "memoryGiB": 768,
    "name": "ml.r5.24xlarge",
    "vcpuNum": 96
   },
   {
    "_defaultOrder": 47,
    "_isFastLaunch": false,
    "category": "Accelerated computing",
    "gpuNum": 1,
    "hideHardwareSpecs": false,
    "memoryGiB": 16,
    "name": "ml.g5.xlarge",
    "vcpuNum": 4
   },
   {
    "_defaultOrder": 48,
    "_isFastLaunch": false,
    "category": "Accelerated computing",
    "gpuNum": 1,
    "hideHardwareSpecs": false,
    "memoryGiB": 32,
    "name": "ml.g5.2xlarge",
    "vcpuNum": 8
   },
   {
    "_defaultOrder": 49,
    "_isFastLaunch": false,
    "category": "Accelerated computing",
    "gpuNum": 1,
    "hideHardwareSpecs": false,
    "memoryGiB": 64,
    "name": "ml.g5.4xlarge",
    "vcpuNum": 16
   },
   {
    "_defaultOrder": 50,
    "_isFastLaunch": false,
    "category": "Accelerated computing",
    "gpuNum": 1,
    "hideHardwareSpecs": false,
    "memoryGiB": 128,
    "name": "ml.g5.8xlarge",
    "vcpuNum": 32
   },
   {
    "_defaultOrder": 51,
    "_isFastLaunch": false,
    "category": "Accelerated computing",
    "gpuNum": 1,
    "hideHardwareSpecs": false,
    "memoryGiB": 256,
    "name": "ml.g5.16xlarge",
    "vcpuNum": 64
   },
   {
    "_defaultOrder": 52,
    "_isFastLaunch": false,
    "category": "Accelerated computing",
    "gpuNum": 4,
    "hideHardwareSpecs": false,
    "memoryGiB": 192,
    "name": "ml.g5.12xlarge",
    "vcpuNum": 48
   },
   {
    "_defaultOrder": 53,
    "_isFastLaunch": false,
    "category": "Accelerated computing",
    "gpuNum": 4,
    "hideHardwareSpecs": false,
    "memoryGiB": 384,
    "name": "ml.g5.24xlarge",
    "vcpuNum": 96
   },
   {
    "_defaultOrder": 54,
    "_isFastLaunch": false,
    "category": "Accelerated computing",
    "gpuNum": 8,
    "hideHardwareSpecs": false,
    "memoryGiB": 768,
    "name": "ml.g5.48xlarge",
    "vcpuNum": 192
   },
   {
    "_defaultOrder": 55,
    "_isFastLaunch": false,
    "category": "Accelerated computing",
    "gpuNum": 8,
    "hideHardwareSpecs": false,
    "memoryGiB": 1152,
    "name": "ml.p4d.24xlarge",
    "vcpuNum": 96
   },
   {
    "_defaultOrder": 56,
    "_isFastLaunch": false,
    "category": "Accelerated computing",
    "gpuNum": 8,
    "hideHardwareSpecs": false,
    "memoryGiB": 1152,
    "name": "ml.p4de.24xlarge",
    "vcpuNum": 96
   },
   {
    "_defaultOrder": 57,
    "_isFastLaunch": false,
    "category": "Accelerated computing",
    "gpuNum": 0,
    "hideHardwareSpecs": false,
    "memoryGiB": 32,
    "name": "ml.trn1.2xlarge",
    "vcpuNum": 8
   },
   {
    "_defaultOrder": 58,
    "_isFastLaunch": false,
    "category": "Accelerated computing",
    "gpuNum": 0,
    "hideHardwareSpecs": false,
    "memoryGiB": 512,
    "name": "ml.trn1.32xlarge",
    "vcpuNum": 128
   },
   {
    "_defaultOrder": 59,
    "_isFastLaunch": false,
    "category": "Accelerated computing",
    "gpuNum": 0,
    "hideHardwareSpecs": false,
    "memoryGiB": 512,
    "name": "ml.trn1n.32xlarge",
    "vcpuNum": 128
   }
  ],
  "instance_type": "ml.t3.medium",
  "kernelspec": {
   "display_name": "Python 3 (Data Science 3.0)",
   "language": "python",
   "name": "python3__SAGEMAKER_INTERNAL__arn:aws:sagemaker:us-east-1:081325390199:image/sagemaker-data-science-310-v1"
  },
  "language_info": {
   "codemirror_mode": {
    "name": "ipython",
    "version": 3
   },
   "file_extension": ".py",
   "mimetype": "text/x-python",
   "name": "python",
   "nbconvert_exporter": "python",
   "pygments_lexer": "ipython3",
   "version": "3.10.6"
  }
 },
 "nbformat": 4,
 "nbformat_minor": 5
}
