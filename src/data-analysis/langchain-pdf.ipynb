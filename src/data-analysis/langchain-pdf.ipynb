{
 "cells": [
  {
   "cell_type": "code",
   "execution_count": 71,
   "id": "27c10f48-5292-4ef5-a78c-6f1a92e9cc28",
   "metadata": {
    "tags": []
   },
   "outputs": [],
   "source": [
    "#!pip install pypdf"
   ]
  },
  {
   "cell_type": "code",
   "execution_count": 72,
   "id": "c450e97a-d307-4ef8-a543-556618e847f2",
   "metadata": {
    "tags": []
   },
   "outputs": [],
   "source": [
    "#!pip install langchain"
   ]
  },
  {
   "cell_type": "code",
   "execution_count": 73,
   "id": "d6a72cda-0840-4408-834a-772eaebe4de1",
   "metadata": {
    "tags": []
   },
   "outputs": [],
   "source": [
    "#!pip install pymupdf"
   ]
  },
  {
   "cell_type": "code",
   "execution_count": 85,
   "id": "97c50348-f7fe-4e52-b8ba-0bc8005f1ba6",
   "metadata": {
    "tags": []
   },
   "outputs": [],
   "source": [
    "from langchain_community.document_loaders import PyMuPDFLoader\n",
    "from langchain_community.document_loaders import PyPDFLoader\n",
    "import os\n",
    "import json"
   ]
  },
  {
   "cell_type": "code",
   "execution_count": 86,
   "id": "493ee7ee-07e6-42eb-9851-fe5703c29365",
   "metadata": {
    "tags": []
   },
   "outputs": [],
   "source": [
    "pdf_dir= os.path.abspath(os.path.join(os.getcwd(),\"../..\",\"content\"))\n",
    "loader = PyMuPDFLoader(os.path.join(pdf_dir,\"Appraisal-Report.pdf\"))\n",
    "loader2 = PyPDFLoader(os.path.join(pdf_dir,\"Appraisal-Report.pdf\"))"
   ]
  },
  {
   "cell_type": "code",
   "execution_count": 87,
   "id": "ed54d9d8-2b4b-4d91-9702-3ee78f1613f4",
   "metadata": {
    "tags": []
   },
   "outputs": [],
   "source": [
    "data=loader.load()\n",
    "data2=loader2.load_and_split()"
   ]
  },
  {
   "cell_type": "code",
   "execution_count": 88,
   "id": "0eda18c8-3738-4236-a57c-1f0b523cdf58",
   "metadata": {
    "tags": []
   },
   "outputs": [
    {
     "data": {
      "text/plain": [
       "' \\n \\n \\n \\n \\n \\n \\n \\n \\n \\n \\n \\n \\n \\n \\n \\n \\n \\n \\n \\n \\n \\n \\n \\n \\n \\n \\n \\n \\n \\n \\nEQUIVALUE APPRAISAL LLC \\nPROFESSIONAL APPRAISAL AND VALUATION SERVICES \\nPO BOX 5326 \\nDESTIN, FLORIDA  32540 \\nPHONE (850) 424-6119 \\nAPPRAISAL REPORT \\n \\nJason P. Shirey, MAI, CCIM, CPM \\n \\nJosette D. Jackson, CCIM  \\nState Certified General Real Estate Appraiser RZ3186  \\n \\nState Certified General Real Estate Appraiser RZ3275 \\n \\nDirect Phone (850) 543-5953 (Mobile) \\nEquiValue Appraisal No. 190416 \\nPROPERTY: COLLEGE COURTYARD APARTMENTS & RAIDER HOUSING \\nA 62 UNIT MULTI-FAMILY RESIDENTIAL PROPERTY \\n28 & 30 GARDEN LANE \\nNICEVILLE, OKALOOSA COUNTY, FL 32578 \\n \\nCLIENT: NORTHWEST FLORIDA STATE COLLEGE FOUNDATION \\n \\n \\n'"
      ]
     },
     "execution_count": 88,
     "metadata": {},
     "output_type": "execute_result"
    }
   ],
   "source": [
    "data[0].dict()[\"page_content\"]"
   ]
  },
  {
   "cell_type": "code",
   "execution_count": 78,
   "id": "1a1d83b0-57d2-4202-8da1-f2875451bb16",
   "metadata": {
    "tags": []
   },
   "outputs": [],
   "source": [
    "cleaned_results_dir= os.path.abspath(os.path.join(os.getcwd(),\"../..\",\"model-results/cleaned-appraisal-report-rdf/\"))"
   ]
  },
  {
   "cell_type": "code",
   "execution_count": 79,
   "id": "c525b30a-1ffe-469b-8254-4d965aa9229e",
   "metadata": {},
   "outputs": [],
   "source": [
    "files = os.listdir(cleaned_results_dir)"
   ]
  },
  {
   "cell_type": "code",
   "execution_count": 80,
   "id": "263e469e-3d1e-46e3-b0ce-d1baf815c624",
   "metadata": {
    "tags": []
   },
   "outputs": [],
   "source": [
    "pages = list(set([x.split(\"PAGE-\")[1].split(\".\")[0] for x in files if \"PAGE\" in x and \"-graph\" not in x]))\n",
    "pages =sorted([int(x) for x in pages if \"-\" not in x])"
   ]
  },
  {
   "cell_type": "code",
   "execution_count": 81,
   "id": "fa7144d1-f550-4aec-b767-af2b10101e16",
   "metadata": {
    "tags": []
   },
   "outputs": [
    {
     "data": {
      "text/plain": [
       "[1, 2, 13, 14, 15, 25, 26, 27, 28, 29, 30]"
      ]
     },
     "execution_count": 81,
     "metadata": {},
     "output_type": "execute_result"
    }
   ],
   "source": [
    "pages"
   ]
  },
  {
   "cell_type": "code",
   "execution_count": 82,
   "id": "f28e9784-818b-45b0-94a7-6a15dc28da93",
   "metadata": {
    "tags": []
   },
   "outputs": [],
   "source": [
    "out = {}\n",
    "for p in pages:\n",
    "    out[p]=data[p-1].dict()[\"page_content\"]"
   ]
  },
  {
   "cell_type": "code",
   "execution_count": 83,
   "id": "34bf4ad2-5a79-4612-9bcd-82dd99ca5763",
   "metadata": {
    "tags": []
   },
   "outputs": [
    {
     "data": {
      "text/plain": [
       "{1: ' \\n \\n \\n \\n \\n \\n \\n \\n \\n \\n \\n \\n \\n \\n \\n \\n \\n \\n \\n \\n \\n \\n \\n \\n \\n \\n \\n \\n \\n \\n \\nEQUIVALUE APPRAISAL LLC \\nPROFESSIONAL APPRAISAL AND VALUATION SERVICES \\nPO BOX 5326 \\nDESTIN, FLORIDA  32540 \\nPHONE (850) 424-6119 \\nAPPRAISAL REPORT \\n \\nJason P. Shirey, MAI, CCIM, CPM \\n \\nJosette D. Jackson, CCIM  \\nState Certified General Real Estate Appraiser RZ3186  \\n \\nState Certified General Real Estate Appraiser RZ3275 \\n \\nDirect Phone (850) 543-5953 (Mobile) \\nEquiValue Appraisal No. 190416 \\nPROPERTY: COLLEGE COURTYARD APARTMENTS & RAIDER HOUSING \\nA 62 UNIT MULTI-FAMILY RESIDENTIAL PROPERTY \\n28 & 30 GARDEN LANE \\nNICEVILLE, OKALOOSA COUNTY, FL 32578 \\n \\nCLIENT: NORTHWEST FLORIDA STATE COLLEGE FOUNDATION \\n \\n \\n',\n",
       " 2: ' APPRAISAL REPORT \\n \\nOf Existing Multi-Family Property \\nCollege Courtyard Apartments & Raider Housing \\na 62 Unit Multi-Family Property \\n \\nLocation \\n28 & 30 Garden Lane \\nNiceville, Okaloosa County, FL 32578 \\n \\n \\nEffective Date \\nDecember 13, 2019 \\n \\n \\nReport Date \\nJanuary 10, 2020 \\n \\n \\nClient / Intended User \\nMs. Cristie Kedroski \\nVice President of College Advancement \\nNorthwest Florida State College Foundation \\n100 College Boulevard \\nNiceville, FL 32578 \\nTel: 850.729.5210 \\n \\n \\n \\nPrepared by: \\nJason P. Shirey, MAI, CCIM State Certified General Real Estate Appraiser RZ3186 \\nJosette D. Jackson, CCIM State Certified General Real Estate Appraiser RZ3275  \\n \\n \\nPhone 850 424 6119   Fax 866 897 5975 \\n \\nEquiValue Appraisal LLC File #:  EQ 190416  \\n \\n© Copyright 2020 by Jason Shirey, MAI, CCIM and EquiValue Appraisal LLC.  All rights reserved.  No part of this publication may be \\nreproduced, modified, rewritten, redistributed, either electronically or by any other means, without express, written permission. \\n',\n",
       " 13: 'EQ 190416 – College Courtyard Apartments/Raider Housing – NWF State College Foundation   \\nPg. 13 \\n \\nIntended User(s): \\n \\nThe intended user of this report is Northwest Florida \\nState College Foundation only. \\n \\nAppraisal Purpose:  \\n \\nCurrent Market Value, ‘As Is’, as of December 13, 2019 \\n \\nAssessed Value: \\n \\n \\n$2,730,415 (2019, Aggregate) \\nIt is the appraiser’s opinion that assessed value has no \\ndirect correlation to Current Market Value in the subject \\nmarket area.  \\n \\n \\nTaxes:  \\n \\n$20,343.20 (2019, Aggregate), which is fully attributable \\nto the College Apartments at Parcel 05-1S-22-256C-\\n0003-0010.  Parcels 05-1S-22-256C-0004-0010 and 05-\\n1S-22-256C-0009-0010 (Raider Housing) hold an \\neducational exemption from property taxes. \\n \\nAccording to the County Tax Collector website, the 2019 \\ntaxes have been paid in full as of the effective date of this \\nappraisal.  No prior year taxes are reported delinquent. \\n \\nSale History: \\n \\n \\nPer Okaloosa County Public Records ORB/P 2056/1595, \\nthe subject parcels were purchased by Okaloosa-Walton \\nCommunity College Foundation, Inc. from the grantor, \\nRamonde R. Williams on March 1, 1997 for a reported \\nconsideration of $785,000.  This appears to have been an \\narm’s length transfer, at least nominally consistent with \\nthen-current market value. \\n \\nParcels 05-1S-22-256C-0009-0010 and 05-1S-22-256C-\\n0004-0010 were improved at time of purchase with the \\nRaider Housing improvements. Parcel 05-1S-22-256C-\\n0003-0010 (1.44 ac), was subsequently developed in \\n2007 with the College Courtyard Apartments.  \\n \\nNo transfers of the subject property have occurred within \\nthe three years prior to the effective date of this appraisal. \\n \\n',\n",
       " 14: 'EQ 190416 – College Courtyard Apartments/Raider Housing – NWF State College Foundation   \\nPg. 14 \\n \\nCurrent Contracts/Listing: \\n \\n \\n \\nThe subject property is not currently listed for sale nor \\nhas it been in the 12 months prior to the effective date of \\nthis appraisal.   \\n \\nPer rent roll provided, the 30 Raider Housing units are \\n100% occupied by students of the ownership entity \\ncollege (non-income producing).  The 32 College \\nCourtyard Apartment units are 100% occupied via short-\\nterm residential lease agreements (typical term of 12 \\nmonths or less).  The per unit rent rates are discussed in \\ngreater detail in the Income Approach section of this \\nreport.  \\n \\n \\nHypothetical Condition(s): \\nNone \\nExtraordinary \\nAssumption(s): \\n \\nNone.  \\n \\nPROPERTY \\nLand Area: \\n \\n \\n \\nTotal: 4.84 acres  \\nUsable: 4.84 acres  \\nExcess: 0.00 Acres \\nZoning: \\n \\nR-3, Multi-Family Residential District, by the City of \\nNiceville \\n \\nHighest and Best Use \\n‘As If Vacant’: \\nDevelopment of multi-family improvements is estimated \\nto be the highest and best use for the subject property, \\n‘As If Vacant’, as this use provides a higher return to the \\nunderlying land than any other use analyzed. \\n \\n \\nHighest and Best Use \\n‘As Is’: \\nContinued use of the subject improvements as a multi-\\nfamily property with ongoing maintenance and continued \\nreplacement of major components as necessary is \\nconsidered to be the maximally productive use of the \\nproperty ‘As Is’ as this use provides a higher return to \\nthe owner / investor than any other option analyzed.   \\n \\n \\n \\n \\n \\n \\n \\n \\n \\n \\n',\n",
       " 15: 'EQ 190416 – College Courtyard Apartments/Raider Housing – NWF State College Foundation   \\nPg. 15 \\n \\nVALUE CONCLUSIONS \\nLand Value:  \\n \\nNot Utilized \\nCost Approach: \\n \\nNot Utilized \\n \\nInsurable Replacement \\nCost New: \\n \\nBuilding #1 - $455,000 \\nBuilding #2 - $455,000 \\nBuilding #3 - $455,000 \\nBuilding #4 - $455,000 \\nBuilding #5 - $50,000 \\nBuilding #6 - $470,000 \\nBuilding #7 - $470,000 \\nBuilding #8 - $435,000 \\nBuilding #9 - $325,000 \\n \\nImproved Sales \\nComparison Approach: \\n \\n \\n$4,650,000    \\nIncome Approach: \\n$5,220,000  \\n \\nReconciled Opinion of \\nValue (Rounded): \\nPremise: Current Market Value ‘As Is’ \\nEstate: Fee Simple \\nExisting Multi-Family Property \\nValue Conclusion: $5,000,000 \\nFive Million Dollars \\n \\nPERTINENT DATES OF MARKETING AND EXPOSURE TIME \\nEstimated Marketing Time: 9-12 months \\n \\nEstimated Exposure \\nPeriod: \\n \\n \\n9-12 months \\n',\n",
       " 25: 'EQ 190416 – College Courtyard Apartments/Raider Housing – NWF State College Foundation   \\nPg. 25 \\n \\nProperty Description \\n \\nSummary of Site Characteristics and Improvements  \\nSITE  \\nInformation Sources: \\n \\nDeed, assessment records, site plan, Okaloosa County Property \\nAppraiser, City of Niceville, Client-provided income and \\nexpense data, and appraiser inspection. \\n \\nTotal Site Size: \\n4.84 acres \\n \\nUsable Site Size: \\n4.84 acres \\n \\nExcess Land: \\n \\n0.00 acres  \\n \\nCorner Lot: \\n \\nThe subject property is a corner lot.  It is located at the \\nsouthwest corner of the intersection of College Boulevard, a \\nsecondary commercial roadway in the Niceville area, and \\nGarden Lane, a residential roadway. \\n \\nVisibility: \\nThe subject has visibility from both College Boulevard and \\nGarden Lane, which is considered average for the market. \\n \\nShape: \\nThe subject land area is rectangular in shape and features \\naverage overall utility.  The reader is referred to the aerial of \\nthe subject site located in the exhibits section of this report for \\noverview of the site shape. \\n \\nRoad Frontage/Access: \\n \\nThe subject site features approximately 250’ at the north \\nboundary along College Boulevard and approximately 400’ \\nalong the east boundary along Garden Lane per site plan.  The \\nsite is accessible from one point of asphalt paved ingress / \\negress from Garden Lane. \\n \\nTopography: \\nThe subject property appears level and is depicted as 0 to 5% \\nslopes in the Soil Survey.  Although a topographic survey was \\nnot provided for our review, review of topographic maps of the \\ngeneral area as well as the viewing of the subject property \\nindicates that the subject site is generally level and poses no \\natypical challenges for development.    \\n \\nDrainage: \\nDrainage appears adequate for the subject property.  Drainage \\non the subject site is currently achieved by natural run-off and \\nstorm water drainage infrastructure.  The subject property is \\nconsidered typical with regard to other existing, older multi-\\n',\n",
       " 26: 'EQ 190416 – College Courtyard Apartments/Raider Housing – NWF State College Foundation   \\nPg. 26 \\n \\nfamily properties in the subject market area and is one of many \\nthat have these characteristics.  \\n \\nSoils: \\nThe soil survey produced by the United States Department of \\nAgriculture Soil Conservation Service, indicates that 100% of \\nthe subject property is comprised of Lakeland Sand, 0 to 5% \\nslopes.  Lakeland Sand is described by this source as \\nexcessively drained, with no frequency of flooding or ponding.  \\n \\nThis soil type is typical of the surrounding area.  Existing \\ndevelopment within the surrounding area, as well as within the \\nsubject development, indicates that this soil type does not \\npresent unreasonable limitations to typical multi-family \\nresidential development. \\n \\n \\nWetlands: \\n \\nPer Okaloosa County GIS Mapping, the subject property is \\ncomprised entirely of uplands area, with no wetlands present.   \\n \\nPotential for \\nEnvironmental \\nContamination: \\nThe appraisers have not observed, nor are qualified to detect, \\nthe existence of potentially hazardous material or underground \\nstorage tanks which may be present on or near the subject site. \\nThe appraisers recommend that an environmental survey be \\nattained to assure the environmental stability of the subject \\nproperty.  This appraisal assumes no subsoil contamination of \\nthe subject site. \\nUtilities: \\n \\nElectricity:  Electricity is on site. \\n \\nSewer: Municipal Sewer is on site. \\n \\nWater: Municipal Water is on site. \\n \\nNatural Gas: Natural Gas is on site.  \\n \\nUnderground Utilities: None. \\n \\nAdequacy: Utility service is considered adequate for the subject \\nimprovements and is at least standard for the subject market \\narea. \\n \\nSite Improvements: \\nSite improvements on the subject property consist of asphalt \\npaved parking, paved ingress/egress, concrete paved dumpster \\npads, site lighting and landscaping.  \\n \\nLandscaping: \\n \\nLandscaping consists of mature trees and shrubbery and is \\nconsidered average for the subject market area. \\n',\n",
       " 27: \"EQ 190416 – College Courtyard Apartments/Raider Housing – NWF State College Foundation   \\nPg. 27 \\n \\n \\nSite Utility: \\nThe subject site is rectangular in shape and exhibits \\ntopographical characteristics that are typical of the market, \\nindicating overall average site utility, access and frontage. \\nFlood Zone: \\n \\n \\n \\n \\n \\n \\nThe subject is located in an area mapped by the Federal \\nEmergency Management Agency (FEMA). The subject property \\nappears to be located entirely in Flood Zone ‘X’ as noted by the \\nfollowing:  \\n \\nFEMA Map Number: 12091C0390H, dated December 6, 2002. \\nEasements: \\n \\n \\n \\n \\n \\n \\nWe were provided a copy of a boundary survey site plan of the \\nsubject property. Our review of the boundary survey, as well as \\nthe appropriate maps, and public records for the subject property \\nrevealed two easements, as recorded by Okaloosa County Clerk \\nof Courts. Central Telephone Company of Florida has a 250' \\neasement in place along the north boundary and 585' along the \\nwest boundary, as recorded in ORB/PG 1191/652. S. E. Streets \\nholds a 12' wide ingress/egress easement along the southwest \\nboundary at a distance of 53.25', as recorded in ORB/PG \\n1212/763. In consideration of the property and the physical \\nlocation, this type of easement would not adversely affect the \\nvalue opinion of the subject contained herein.   \\n \\nThis appraisal assumes no other easements, encroachments, or \\nprivate deed restrictions which would adversely affect the value \\nof the subject property.  \\n \\nEncroachments: \\nWe were provided a copy of a boundary survey and site plan for \\nthe subject property.  Our review of these documents, as well as \\nthe appropriate maps, and public records for the subject property \\ndid not reveal any encroachments on the subject site.  Our \\npersonal viewing of the site did not indicate any encroachments \\nthat would adversely affect the value opinion of the subject \\ncontained herein.   \\n \\nThis appraisal assumes no easements, encroachments, or private \\ndeed restrictions which would adversely affect the value of the \\nsubject property.  \\n \\nIMPROVEMENTS \\nBuilding Type: \\nBuildings #1-4 - Four 2.0 Story Multi-Family Quadplex \\nbuildings \\n \\nBuilding #5 - General Commercial Building \\n\",\n",
       " 28: 'EQ 190416 – College Courtyard Apartments/Raider Housing – NWF State College Foundation   \\nPg. 28 \\n \\n \\nBuildings #6-9 - Four 2.0 Story Multi-Family Quadplex \\nbuildings \\n \\nConstruction:  \\nBuildings #1-4 – Vinyl Siding over Wood and Concrete \\nFrame on Concrete Slab  \\n \\nBuilding #5-9 - Vinyl Siding over Wood and Concrete Frame \\non Concrete Slab  \\n \\nQuality:  \\nAverage  \\n \\nYear Built: \\nBlended Actual 1996 / Blended Effective 2000 \\n \\nActual Dates of Construction Range from 1984 to 2007.  \\nBlended Effective year built estimate of 2000 represents a \\nweighted average based on size of improvements and \\nassociated effective year built.   \\n \\nIt is our understanding that routine maintenance has been \\nperformed on an ongoing basis, thereby extending the \\neconomic lifespan of the building improvements.  The \\nestimate of effective age takes into account both the Marshall \\nSwift depreciation matrix, as well as the age/life method. \\n \\nArchitectural Style: \\nBuildings #1-4 - Traditional Garden Apartments, Class C, \\nAverage \\n \\nBuilding #5 - General Commercial Building, Class D, \\nAverage \\n \\nBuildings #6-9 - Traditional Garden Apartments, Class D, \\nAverage \\n \\nBuilding classes above are based on Marshall Valuation \\nService Construction categories. \\n \\n \\nCondition: \\nAverage, Evidence of Sufficient Ongoing Maintenance \\n \\nEffective Age: \\nBlended 19 years (as of the effective date of this appraisal) \\n \\nThe subject property as a whole has undergone routine \\nmaintenance, as well as renovation of buildings #1-4 in \\n2007-08 \\n \\nRemaining Economic \\nBlended 33 years (Per Marshall Swift Cost Reporting Data) \\n',\n",
       " 29: 'EQ 190416 – College Courtyard Apartments/Raider Housing – NWF State College Foundation   \\nPg. 29 \\n \\nLife: \\n \\n \\nAreas & Ratios: \\n \\n \\n \\nFOUNDATION, FRAME  & EXTERIOR \\nFoundation: \\nConcrete Slab \\n \\nBasement/Lower \\nLevel: \\n \\nNone  \\n \\n \\nFrame: \\nBuildings #1-4 – Concrete Frame \\n \\nBuildings #5-9 - Wood Frame \\n \\nExterior: \\nVinyl Siding \\n \\nRoof/Cover: \\nAsphalt Shingle over Wood Frame  \\n \\nColumn Spacing: \\nNo Significant Interior Column Restrictions  \\n \\nElevators: \\nNone.  Each second floor unit is accessible by front elevation \\nexterior stairs. \\n \\nService / Access/ \\nOverhead Doors: \\nOne service door at south side of office/maintenance/laundry \\nbuilding \\n \\n \\n \\n',\n",
       " 30: 'EQ 190416 – College Courtyard Apartments/Raider Housing – NWF State College Foundation   \\nPg. 30 \\n \\nINTERIOR \\nInterior Finish: \\n \\nAverage Residential Apartment Finishes including carpet and \\nlaminate flooring.  Average Kitchen Finishes and Appliances \\nincluding refrigerator, stove/range and dishwasher. \\n \\nCollege Courtyard units include garbage disposals and \\nrefrigerators with icemakers. Stackable washers and dryers \\nare included in some two bedroom units and standard \\nwashers and dryers included in the three bedroom units. \\n \\nMECHANICAL SYSTEMS \\nHeating: \\nElectric Heat  \\n \\nCooling: \\nCentral A/C individual system per residential unit, and for \\nthe office / laundry / maintenance building.  \\n \\nHot Water: \\nElectric - Adequate for Subject Improvements  \\n \\nElectrical: \\nAdequate for Subject Improvements  \\n \\nPlumbing: \\nAdequate for Subject Improvements.  \\n \\nSITE IMPROVEMENTS \\nParking Type and \\nCondition of Spaces: \\n \\nAdequate for Subject Improvements. Condition: Average \\nType: 101 asphalt paved and striped parking spaces, \\nincluding 5 ADA compliant handicap designated spaces  \\n \\nAdditional Amenities: \\n \\nCoin laundry in Office Building \\n \\nPROPERTY ANALYSIS \\nFunctional Utility: \\nAverage  \\n \\nDesign & Appeal: \\nAverage. Design, functional utility and appeal rated as \\naverage as compared to most competing properties in the \\nmarket.  \\n \\nOccupancy: \\n \\nPer the current rent roll provided by the Client, all 30 of the \\nCollege Courtyard Apartment units are currently occupied.  \\nThe 32 Raider Housing are occupied by student athletes on a \\nseasonal school year basis. \\n \\n'}"
      ]
     },
     "execution_count": 83,
     "metadata": {},
     "output_type": "execute_result"
    }
   ],
   "source": [
    "out"
   ]
  },
  {
   "cell_type": "code",
   "execution_count": 84,
   "id": "22fd3c86-e8e7-407d-ad43-516322afb99f",
   "metadata": {
    "tags": []
   },
   "outputs": [],
   "source": [
    "out_dir= os.path.abspath(os.path.join(os.getcwd(),\"../..\",\"content\"))\n",
    "with open(os.path.join(out_dir,\"langchain-extract-pages.json\"),\"w+\") as f:\n",
    "    json.dump(out,f)"
   ]
  }
 ],
 "metadata": {
  "availableInstances": [
   {
    "_defaultOrder": 0,
    "_isFastLaunch": true,
    "category": "General purpose",
    "gpuNum": 0,
    "hideHardwareSpecs": false,
    "memoryGiB": 4,
    "name": "ml.t3.medium",
    "vcpuNum": 2
   },
   {
    "_defaultOrder": 1,
    "_isFastLaunch": false,
    "category": "General purpose",
    "gpuNum": 0,
    "hideHardwareSpecs": false,
    "memoryGiB": 8,
    "name": "ml.t3.large",
    "vcpuNum": 2
   },
   {
    "_defaultOrder": 2,
    "_isFastLaunch": false,
    "category": "General purpose",
    "gpuNum": 0,
    "hideHardwareSpecs": false,
    "memoryGiB": 16,
    "name": "ml.t3.xlarge",
    "vcpuNum": 4
   },
   {
    "_defaultOrder": 3,
    "_isFastLaunch": false,
    "category": "General purpose",
    "gpuNum": 0,
    "hideHardwareSpecs": false,
    "memoryGiB": 32,
    "name": "ml.t3.2xlarge",
    "vcpuNum": 8
   },
   {
    "_defaultOrder": 4,
    "_isFastLaunch": true,
    "category": "General purpose",
    "gpuNum": 0,
    "hideHardwareSpecs": false,
    "memoryGiB": 8,
    "name": "ml.m5.large",
    "vcpuNum": 2
   },
   {
    "_defaultOrder": 5,
    "_isFastLaunch": false,
    "category": "General purpose",
    "gpuNum": 0,
    "hideHardwareSpecs": false,
    "memoryGiB": 16,
    "name": "ml.m5.xlarge",
    "vcpuNum": 4
   },
   {
    "_defaultOrder": 6,
    "_isFastLaunch": false,
    "category": "General purpose",
    "gpuNum": 0,
    "hideHardwareSpecs": false,
    "memoryGiB": 32,
    "name": "ml.m5.2xlarge",
    "vcpuNum": 8
   },
   {
    "_defaultOrder": 7,
    "_isFastLaunch": false,
    "category": "General purpose",
    "gpuNum": 0,
    "hideHardwareSpecs": false,
    "memoryGiB": 64,
    "name": "ml.m5.4xlarge",
    "vcpuNum": 16
   },
   {
    "_defaultOrder": 8,
    "_isFastLaunch": false,
    "category": "General purpose",
    "gpuNum": 0,
    "hideHardwareSpecs": false,
    "memoryGiB": 128,
    "name": "ml.m5.8xlarge",
    "vcpuNum": 32
   },
   {
    "_defaultOrder": 9,
    "_isFastLaunch": false,
    "category": "General purpose",
    "gpuNum": 0,
    "hideHardwareSpecs": false,
    "memoryGiB": 192,
    "name": "ml.m5.12xlarge",
    "vcpuNum": 48
   },
   {
    "_defaultOrder": 10,
    "_isFastLaunch": false,
    "category": "General purpose",
    "gpuNum": 0,
    "hideHardwareSpecs": false,
    "memoryGiB": 256,
    "name": "ml.m5.16xlarge",
    "vcpuNum": 64
   },
   {
    "_defaultOrder": 11,
    "_isFastLaunch": false,
    "category": "General purpose",
    "gpuNum": 0,
    "hideHardwareSpecs": false,
    "memoryGiB": 384,
    "name": "ml.m5.24xlarge",
    "vcpuNum": 96
   },
   {
    "_defaultOrder": 12,
    "_isFastLaunch": false,
    "category": "General purpose",
    "gpuNum": 0,
    "hideHardwareSpecs": false,
    "memoryGiB": 8,
    "name": "ml.m5d.large",
    "vcpuNum": 2
   },
   {
    "_defaultOrder": 13,
    "_isFastLaunch": false,
    "category": "General purpose",
    "gpuNum": 0,
    "hideHardwareSpecs": false,
    "memoryGiB": 16,
    "name": "ml.m5d.xlarge",
    "vcpuNum": 4
   },
   {
    "_defaultOrder": 14,
    "_isFastLaunch": false,
    "category": "General purpose",
    "gpuNum": 0,
    "hideHardwareSpecs": false,
    "memoryGiB": 32,
    "name": "ml.m5d.2xlarge",
    "vcpuNum": 8
   },
   {
    "_defaultOrder": 15,
    "_isFastLaunch": false,
    "category": "General purpose",
    "gpuNum": 0,
    "hideHardwareSpecs": false,
    "memoryGiB": 64,
    "name": "ml.m5d.4xlarge",
    "vcpuNum": 16
   },
   {
    "_defaultOrder": 16,
    "_isFastLaunch": false,
    "category": "General purpose",
    "gpuNum": 0,
    "hideHardwareSpecs": false,
    "memoryGiB": 128,
    "name": "ml.m5d.8xlarge",
    "vcpuNum": 32
   },
   {
    "_defaultOrder": 17,
    "_isFastLaunch": false,
    "category": "General purpose",
    "gpuNum": 0,
    "hideHardwareSpecs": false,
    "memoryGiB": 192,
    "name": "ml.m5d.12xlarge",
    "vcpuNum": 48
   },
   {
    "_defaultOrder": 18,
    "_isFastLaunch": false,
    "category": "General purpose",
    "gpuNum": 0,
    "hideHardwareSpecs": false,
    "memoryGiB": 256,
    "name": "ml.m5d.16xlarge",
    "vcpuNum": 64
   },
   {
    "_defaultOrder": 19,
    "_isFastLaunch": false,
    "category": "General purpose",
    "gpuNum": 0,
    "hideHardwareSpecs": false,
    "memoryGiB": 384,
    "name": "ml.m5d.24xlarge",
    "vcpuNum": 96
   },
   {
    "_defaultOrder": 20,
    "_isFastLaunch": false,
    "category": "General purpose",
    "gpuNum": 0,
    "hideHardwareSpecs": true,
    "memoryGiB": 0,
    "name": "ml.geospatial.interactive",
    "supportedImageNames": [
     "sagemaker-geospatial-v1-0"
    ],
    "vcpuNum": 0
   },
   {
    "_defaultOrder": 21,
    "_isFastLaunch": true,
    "category": "Compute optimized",
    "gpuNum": 0,
    "hideHardwareSpecs": false,
    "memoryGiB": 4,
    "name": "ml.c5.large",
    "vcpuNum": 2
   },
   {
    "_defaultOrder": 22,
    "_isFastLaunch": false,
    "category": "Compute optimized",
    "gpuNum": 0,
    "hideHardwareSpecs": false,
    "memoryGiB": 8,
    "name": "ml.c5.xlarge",
    "vcpuNum": 4
   },
   {
    "_defaultOrder": 23,
    "_isFastLaunch": false,
    "category": "Compute optimized",
    "gpuNum": 0,
    "hideHardwareSpecs": false,
    "memoryGiB": 16,
    "name": "ml.c5.2xlarge",
    "vcpuNum": 8
   },
   {
    "_defaultOrder": 24,
    "_isFastLaunch": false,
    "category": "Compute optimized",
    "gpuNum": 0,
    "hideHardwareSpecs": false,
    "memoryGiB": 32,
    "name": "ml.c5.4xlarge",
    "vcpuNum": 16
   },
   {
    "_defaultOrder": 25,
    "_isFastLaunch": false,
    "category": "Compute optimized",
    "gpuNum": 0,
    "hideHardwareSpecs": false,
    "memoryGiB": 72,
    "name": "ml.c5.9xlarge",
    "vcpuNum": 36
   },
   {
    "_defaultOrder": 26,
    "_isFastLaunch": false,
    "category": "Compute optimized",
    "gpuNum": 0,
    "hideHardwareSpecs": false,
    "memoryGiB": 96,
    "name": "ml.c5.12xlarge",
    "vcpuNum": 48
   },
   {
    "_defaultOrder": 27,
    "_isFastLaunch": false,
    "category": "Compute optimized",
    "gpuNum": 0,
    "hideHardwareSpecs": false,
    "memoryGiB": 144,
    "name": "ml.c5.18xlarge",
    "vcpuNum": 72
   },
   {
    "_defaultOrder": 28,
    "_isFastLaunch": false,
    "category": "Compute optimized",
    "gpuNum": 0,
    "hideHardwareSpecs": false,
    "memoryGiB": 192,
    "name": "ml.c5.24xlarge",
    "vcpuNum": 96
   },
   {
    "_defaultOrder": 29,
    "_isFastLaunch": true,
    "category": "Accelerated computing",
    "gpuNum": 1,
    "hideHardwareSpecs": false,
    "memoryGiB": 16,
    "name": "ml.g4dn.xlarge",
    "vcpuNum": 4
   },
   {
    "_defaultOrder": 30,
    "_isFastLaunch": false,
    "category": "Accelerated computing",
    "gpuNum": 1,
    "hideHardwareSpecs": false,
    "memoryGiB": 32,
    "name": "ml.g4dn.2xlarge",
    "vcpuNum": 8
   },
   {
    "_defaultOrder": 31,
    "_isFastLaunch": false,
    "category": "Accelerated computing",
    "gpuNum": 1,
    "hideHardwareSpecs": false,
    "memoryGiB": 64,
    "name": "ml.g4dn.4xlarge",
    "vcpuNum": 16
   },
   {
    "_defaultOrder": 32,
    "_isFastLaunch": false,
    "category": "Accelerated computing",
    "gpuNum": 1,
    "hideHardwareSpecs": false,
    "memoryGiB": 128,
    "name": "ml.g4dn.8xlarge",
    "vcpuNum": 32
   },
   {
    "_defaultOrder": 33,
    "_isFastLaunch": false,
    "category": "Accelerated computing",
    "gpuNum": 4,
    "hideHardwareSpecs": false,
    "memoryGiB": 192,
    "name": "ml.g4dn.12xlarge",
    "vcpuNum": 48
   },
   {
    "_defaultOrder": 34,
    "_isFastLaunch": false,
    "category": "Accelerated computing",
    "gpuNum": 1,
    "hideHardwareSpecs": false,
    "memoryGiB": 256,
    "name": "ml.g4dn.16xlarge",
    "vcpuNum": 64
   },
   {
    "_defaultOrder": 35,
    "_isFastLaunch": false,
    "category": "Accelerated computing",
    "gpuNum": 1,
    "hideHardwareSpecs": false,
    "memoryGiB": 61,
    "name": "ml.p3.2xlarge",
    "vcpuNum": 8
   },
   {
    "_defaultOrder": 36,
    "_isFastLaunch": false,
    "category": "Accelerated computing",
    "gpuNum": 4,
    "hideHardwareSpecs": false,
    "memoryGiB": 244,
    "name": "ml.p3.8xlarge",
    "vcpuNum": 32
   },
   {
    "_defaultOrder": 37,
    "_isFastLaunch": false,
    "category": "Accelerated computing",
    "gpuNum": 8,
    "hideHardwareSpecs": false,
    "memoryGiB": 488,
    "name": "ml.p3.16xlarge",
    "vcpuNum": 64
   },
   {
    "_defaultOrder": 38,
    "_isFastLaunch": false,
    "category": "Accelerated computing",
    "gpuNum": 8,
    "hideHardwareSpecs": false,
    "memoryGiB": 768,
    "name": "ml.p3dn.24xlarge",
    "vcpuNum": 96
   },
   {
    "_defaultOrder": 39,
    "_isFastLaunch": false,
    "category": "Memory Optimized",
    "gpuNum": 0,
    "hideHardwareSpecs": false,
    "memoryGiB": 16,
    "name": "ml.r5.large",
    "vcpuNum": 2
   },
   {
    "_defaultOrder": 40,
    "_isFastLaunch": false,
    "category": "Memory Optimized",
    "gpuNum": 0,
    "hideHardwareSpecs": false,
    "memoryGiB": 32,
    "name": "ml.r5.xlarge",
    "vcpuNum": 4
   },
   {
    "_defaultOrder": 41,
    "_isFastLaunch": false,
    "category": "Memory Optimized",
    "gpuNum": 0,
    "hideHardwareSpecs": false,
    "memoryGiB": 64,
    "name": "ml.r5.2xlarge",
    "vcpuNum": 8
   },
   {
    "_defaultOrder": 42,
    "_isFastLaunch": false,
    "category": "Memory Optimized",
    "gpuNum": 0,
    "hideHardwareSpecs": false,
    "memoryGiB": 128,
    "name": "ml.r5.4xlarge",
    "vcpuNum": 16
   },
   {
    "_defaultOrder": 43,
    "_isFastLaunch": false,
    "category": "Memory Optimized",
    "gpuNum": 0,
    "hideHardwareSpecs": false,
    "memoryGiB": 256,
    "name": "ml.r5.8xlarge",
    "vcpuNum": 32
   },
   {
    "_defaultOrder": 44,
    "_isFastLaunch": false,
    "category": "Memory Optimized",
    "gpuNum": 0,
    "hideHardwareSpecs": false,
    "memoryGiB": 384,
    "name": "ml.r5.12xlarge",
    "vcpuNum": 48
   },
   {
    "_defaultOrder": 45,
    "_isFastLaunch": false,
    "category": "Memory Optimized",
    "gpuNum": 0,
    "hideHardwareSpecs": false,
    "memoryGiB": 512,
    "name": "ml.r5.16xlarge",
    "vcpuNum": 64
   },
   {
    "_defaultOrder": 46,
    "_isFastLaunch": false,
    "category": "Memory Optimized",
    "gpuNum": 0,
    "hideHardwareSpecs": false,
    "memoryGiB": 768,
    "name": "ml.r5.24xlarge",
    "vcpuNum": 96
   },
   {
    "_defaultOrder": 47,
    "_isFastLaunch": false,
    "category": "Accelerated computing",
    "gpuNum": 1,
    "hideHardwareSpecs": false,
    "memoryGiB": 16,
    "name": "ml.g5.xlarge",
    "vcpuNum": 4
   },
   {
    "_defaultOrder": 48,
    "_isFastLaunch": false,
    "category": "Accelerated computing",
    "gpuNum": 1,
    "hideHardwareSpecs": false,
    "memoryGiB": 32,
    "name": "ml.g5.2xlarge",
    "vcpuNum": 8
   },
   {
    "_defaultOrder": 49,
    "_isFastLaunch": false,
    "category": "Accelerated computing",
    "gpuNum": 1,
    "hideHardwareSpecs": false,
    "memoryGiB": 64,
    "name": "ml.g5.4xlarge",
    "vcpuNum": 16
   },
   {
    "_defaultOrder": 50,
    "_isFastLaunch": false,
    "category": "Accelerated computing",
    "gpuNum": 1,
    "hideHardwareSpecs": false,
    "memoryGiB": 128,
    "name": "ml.g5.8xlarge",
    "vcpuNum": 32
   },
   {
    "_defaultOrder": 51,
    "_isFastLaunch": false,
    "category": "Accelerated computing",
    "gpuNum": 1,
    "hideHardwareSpecs": false,
    "memoryGiB": 256,
    "name": "ml.g5.16xlarge",
    "vcpuNum": 64
   },
   {
    "_defaultOrder": 52,
    "_isFastLaunch": false,
    "category": "Accelerated computing",
    "gpuNum": 4,
    "hideHardwareSpecs": false,
    "memoryGiB": 192,
    "name": "ml.g5.12xlarge",
    "vcpuNum": 48
   },
   {
    "_defaultOrder": 53,
    "_isFastLaunch": false,
    "category": "Accelerated computing",
    "gpuNum": 4,
    "hideHardwareSpecs": false,
    "memoryGiB": 384,
    "name": "ml.g5.24xlarge",
    "vcpuNum": 96
   },
   {
    "_defaultOrder": 54,
    "_isFastLaunch": false,
    "category": "Accelerated computing",
    "gpuNum": 8,
    "hideHardwareSpecs": false,
    "memoryGiB": 768,
    "name": "ml.g5.48xlarge",
    "vcpuNum": 192
   },
   {
    "_defaultOrder": 55,
    "_isFastLaunch": false,
    "category": "Accelerated computing",
    "gpuNum": 8,
    "hideHardwareSpecs": false,
    "memoryGiB": 1152,
    "name": "ml.p4d.24xlarge",
    "vcpuNum": 96
   },
   {
    "_defaultOrder": 56,
    "_isFastLaunch": false,
    "category": "Accelerated computing",
    "gpuNum": 8,
    "hideHardwareSpecs": false,
    "memoryGiB": 1152,
    "name": "ml.p4de.24xlarge",
    "vcpuNum": 96
   },
   {
    "_defaultOrder": 57,
    "_isFastLaunch": false,
    "category": "Accelerated computing",
    "gpuNum": 0,
    "hideHardwareSpecs": false,
    "memoryGiB": 32,
    "name": "ml.trn1.2xlarge",
    "vcpuNum": 8
   },
   {
    "_defaultOrder": 58,
    "_isFastLaunch": false,
    "category": "Accelerated computing",
    "gpuNum": 0,
    "hideHardwareSpecs": false,
    "memoryGiB": 512,
    "name": "ml.trn1.32xlarge",
    "vcpuNum": 128
   },
   {
    "_defaultOrder": 59,
    "_isFastLaunch": false,
    "category": "Accelerated computing",
    "gpuNum": 0,
    "hideHardwareSpecs": false,
    "memoryGiB": 512,
    "name": "ml.trn1n.32xlarge",
    "vcpuNum": 128
   }
  ],
  "kernelspec": {
   "display_name": "Python 3 (Data Science 3.0)",
   "language": "python",
   "name": "python3__SAGEMAKER_INTERNAL__arn:aws:sagemaker:us-east-1:081325390199:image/sagemaker-data-science-310-v1"
  },
  "language_info": {
   "codemirror_mode": {
    "name": "ipython",
    "version": 3
   },
   "file_extension": ".py",
   "mimetype": "text/x-python",
   "name": "python",
   "nbconvert_exporter": "python",
   "pygments_lexer": "ipython3",
   "version": "3.10.6"
  }
 },
 "nbformat": 4,
 "nbformat_minor": 5
}
