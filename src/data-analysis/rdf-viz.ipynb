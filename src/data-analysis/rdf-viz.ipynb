{
 "cells": [
  {
   "cell_type": "code",
   "execution_count": 247,
   "id": "efd4faff-5d93-4754-bafc-1b75d542070e",
   "metadata": {},
   "outputs": [],
   "source": [
    "import rdflib\n",
    "from rdflib.extras.external_graph_libs import rdflib_to_networkx_multidigraph\n",
    "import networkx as nx\n",
    "import matplotlib.pyplot as plt\n",
    "import json\n",
    "import os"
   ]
  },
  {
   "cell_type": "code",
   "execution_count": 248,
   "id": "f705d6db-6399-4f50-818b-c1dfc3fcaedf",
   "metadata": {
    "tags": []
   },
   "outputs": [],
   "source": [
    "output_dir = os.path.abspath(os.path.join(os.getcwd(),\"../..\",\"model-results/cleaned-appraisal-report-rdf/\"))\n",
    "file_name = \"PAGE-2.json\"\n",
    "with open(os.path.join(output_dir,file_name),\"r\") as f:\n",
    "    data = json.load(f)"
   ]
  },
  {
   "cell_type": "code",
   "execution_count": 249,
   "id": "c6e2a0f5-bfb3-4326-bf9b-81a9a67f2fae",
   "metadata": {
    "tags": []
   },
   "outputs": [],
   "source": [
    "with open(os.path.join(output_dir,file_name.split(\".json\")[0]+\".ttl\"),\"w+\") as f:\n",
    "    text = data[\"content\"][0][\"text\"].split(\"<ontology>\\n\")[1].split(\"</ontology>\")[0]\n",
    "    f.write(text)"
   ]
  },
  {
   "cell_type": "code",
   "execution_count": 250,
   "id": "5063f817-1740-4970-9959-e3c4162af512",
   "metadata": {
    "tags": []
   },
   "outputs": [],
   "source": [
    "g = rdflib.Graph()\n",
    "result = g.parse(os.path.join(output_dir,file_name.split(\".json\")[0]+\".ttl\"))"
   ]
  },
  {
   "cell_type": "code",
   "execution_count": 251,
   "id": "981ab7de-3a40-4570-9ee7-c7304f5ce4c7",
   "metadata": {
    "tags": []
   },
   "outputs": [
    {
     "name": "stdout",
     "output_type": "stream",
     "text": [
      "n45e87f50d2e24484b38351dc189473edb2 http://www.w3.org/2000/01/rdf-schema#label Josette D. Jackson, CCIM State Certified General Real Estate Appraiser RZ3275\n",
      "mf:PropertyAppraisalDate_1 http://www.w3.org/1999/02/22-rdf-syntax-ns#type mf:PropertyAppraisalDate\n",
      "mf:PropertyAddress_1 mf:hasZip 32578\n",
      "mf:PropertyAddress_1 http://www.w3.org/1999/02/22-rdf-syntax-ns#type mf:PropertyAddress\n",
      "mf:PropertyAppraisal_1 mf:hasTitle APPRAISAL REPORT\n",
      "mf:PropertyAppraisal_1 http://www.w3.org/1999/02/22-rdf-syntax-ns#type mf:PropertyAppraisal\n",
      "n45e87f50d2e24484b38351dc189473edb2 http://www.w3.org/1999/02/22-rdf-syntax-ns#type mf:PropertyAppraiser\n",
      "mf:PropertyAppraisal_1 mf:hasAppraiser n45e87f50d2e24484b38351dc189473edb1\n",
      "mf:Property_1 http://www.w3.org/1999/02/22-rdf-syntax-ns#type mf:Property\n",
      "mf:Property_1 mf:hasAppraisal mf:PropertyAppraisal_1\n",
      "mf:PropertyAppraisalDate_1 mf:hasDay 13\n",
      "mf:PropertyAppraisalDate_1 http://www.w3.org/2000/01/rdf-schema#label Effective Date\n",
      "mf:Property_1 mf:hasOwner mf:PropertyOwner_1\n",
      "n45e87f50d2e24484b38351dc189473edb3 http://www.w3.org/1999/02/22-rdf-syntax-ns#type mf:PropertyAppraisedValue\n",
      "n45e87f50d2e24484b38351dc189473edb1 http://www.w3.org/1999/02/22-rdf-syntax-ns#type mf:PropertyAppraiser\n",
      "mf:Property_1 mf:hasName College Courtyard Apartments & Raider Housing\n",
      "n45e87f50d2e24484b38351dc189473edb3 http://www.w3.org/2000/01/rdf-schema#label Market Value\n",
      "mf:PropertyAppraisal_1 mf:hasAppraiser n45e87f50d2e24484b38351dc189473edb2\n",
      "mf:PropertyAddress_1 mf:hasStreetNumber 28\n",
      "mf:PropertyAppraisal_1 mf:hasAppraisedValue n45e87f50d2e24484b38351dc189473edb3\n",
      "mf:PropertyAddress_1 mf:hasState FL\n",
      "mf:PropertyAddress_1 mf:hasStreetName Garden Lane\n",
      "mf:PropertyAddress_1 mf:hasCity Niceville\n",
      "mf:PropertyOwner_1 http://www.w3.org/2000/01/rdf-schema#label Owner\n",
      "mf:PropertyOwner_1 http://www.w3.org/1999/02/22-rdf-syntax-ns#type mf:PropertyOwner\n",
      "n45e87f50d2e24484b38351dc189473edb1 http://www.w3.org/2000/01/rdf-schema#label Jason P. Shirey, MAI, CCIM State Certified General Real Estate Appraiser RZ3186\n",
      "mf:PropertyAppraisalDate_1 mf:hasYear 2019\n",
      "mf:PropertyAddress_1 mf:hasStreetNumber 30\n",
      "mf:PropertyAppraisal_1 mf:hasDate mf:PropertyAppraisalDate_1\n",
      "mf:PropertyOwner_1 http://www.w3.org/2000/01/rdf-schema#value Okaloosa-Walton Community College Foundation, Inc.\n",
      "mf:PropertyAppraisalDate_1 mf:hasMonth December\n",
      "mf:Property_1 mf:hasUnits 62\n",
      "mf:Property_1 mf:hasAddress mf:PropertyAddress_1\n"
     ]
    }
   ],
   "source": [
    "nodes = []\n",
    "found_nodes=dict()\n",
    "for s,p,o in result:\n",
    "    for n in ([s,o] if \"#type\" not in p else [s]):\n",
    "        if n not in found_nodes:\n",
    "            found_nodes[n]=len(nodes)\n",
    "            nodes.append({})\n",
    "            nodes[-1][\"id\"]=str(n.replace(\"mf:\",\"\"))\n",
    "            nodes[-1][\"attributes\"]=\"\"\n",
    "            nodes[-1][\"type\"]=\"\"\n",
    "            nodes[-1][\"group\"]=1\n",
    "    print(s,p,o)\n",
    "    if \"#type\" in p:\n",
    "        nodes[found_nodes[s]][\"type\"]=str(o)"
   ]
  },
  {
   "cell_type": "code",
   "execution_count": 252,
   "id": "0255c56f-8bdd-4952-91f0-bbcf2d42f211",
   "metadata": {
    "tags": []
   },
   "outputs": [],
   "source": [
    "links = []\n",
    "for s,p,o in result:\n",
    "    if \"#type\" in p:\n",
    "        continue\n",
    "    s = s.replace(\"mf:\",\"\")\n",
    "    o= o.replace(\"mf:\",\"\")\n",
    "    p = p.replace(\"mf:\",\"\")\n",
    "    if \"#\" in p:\n",
    "        p=p.split(\"#\")[1]\n",
    "    if \"/\" in p:\n",
    "        p=p.split(\"/\")[-1]\n",
    "    links.append({\n",
    "        \"source\":s,\n",
    "        \"target\":o,\n",
    "        \"label\":p,\n",
    "        \"strength\":1.0,\n",
    "        \"rationale\":\"\"\n",
    "    })"
   ]
  },
  {
   "cell_type": "code",
   "execution_count": 253,
   "id": "52a535fc-3974-442e-9342-e829f9b41066",
   "metadata": {
    "tags": []
   },
   "outputs": [],
   "source": [
    "parent = {n[\"id\"]:n[\"id\"] for n in nodes}\n",
    "rank = {n[\"id\"]:1 for n in nodes} \n",
    "def find(n):\n",
    "    while n!=parent[n]:\n",
    "        parent[n]=parent[parent[n]]\n",
    "        n=parent[n]\n",
    "    return n\n",
    "def union(n1,n2):\n",
    "    p1,p2 = find(n1),find(n2)\n",
    "    if rank[p1]>rank[p2]:\n",
    "        rank[p1]+=1\n",
    "        parent[p2]=p1\n",
    "    else:\n",
    "        rank[p2]+=1\n",
    "        parent[p1]=p2"
   ]
  },
  {
   "cell_type": "code",
   "execution_count": 254,
   "id": "a506b8bd-66ae-4726-b6e3-3e59348a9f24",
   "metadata": {
    "tags": []
   },
   "outputs": [],
   "source": [
    "for e in links:\n",
    "    s,t = e[\"source\"],e[\"target\"]\n",
    "    union(s,t)"
   ]
  },
  {
   "cell_type": "code",
   "execution_count": 255,
   "id": "03b12e18-63f5-4a2f-b2c6-49710f415f0a",
   "metadata": {
    "tags": []
   },
   "outputs": [],
   "source": [
    "top_level_parents = set()\n",
    "for n,p in parent.items():\n",
    "    top_level_parents.add(find(n))"
   ]
  },
  {
   "cell_type": "code",
   "execution_count": 256,
   "id": "47a4b9a4-400d-4687-98ab-d02d2de6b7a9",
   "metadata": {
    "tags": []
   },
   "outputs": [
    {
     "data": {
      "text/plain": [
       "{'APPRAISAL REPORT'}"
      ]
     },
     "execution_count": 256,
     "metadata": {},
     "output_type": "execute_result"
    }
   ],
   "source": [
    "top_level_parents"
   ]
  },
  {
   "cell_type": "code",
   "execution_count": 257,
   "id": "8abf7262-4e6a-4168-a826-be22e45cf3c6",
   "metadata": {
    "tags": []
   },
   "outputs": [],
   "source": [
    "for i,v in enumerate(top_level_parents):\n",
    "    if i ==0:\n",
    "        nodes.append({})\n",
    "        nodes[-1][\"id\"]=\"Knowledge\"\n",
    "        nodes[-1][\"attributes\"]=\"\"\n",
    "        nodes[-1][\"type\"]=\"\"\n",
    "        nodes[-1][\"group\"]=1\n",
    "    links.append({\n",
    "        \"source\":v,\n",
    "        \"target\":\"Knowledge\",\n",
    "        \"label\":\"ManuallyAdded\",\n",
    "        \"strength\":1.0,\n",
    "        \"rationale\":\"\"\n",
    "    })"
   ]
  },
  {
   "cell_type": "code",
   "execution_count": 258,
   "id": "dfcad0f1-9b28-4267-ad1b-a36d28511393",
   "metadata": {},
   "outputs": [],
   "source": [
    "out = {\"links\":links,\"nodes\":nodes,\"groups\":[{\"group_id\":1,\"rationale\":\"default group\"}]}"
   ]
  },
  {
   "cell_type": "code",
   "execution_count": 259,
   "id": "ff0d072d-31f6-4501-a740-5ff2d9817ebc",
   "metadata": {
    "tags": []
   },
   "outputs": [
    {
     "name": "stdout",
     "output_type": "stream",
     "text": [
      "{\"links\": [{\"source\": \"n45e87f50d2e24484b38351dc189473edb2\", \"target\": \"Josette D. Jackson, CCIM State Certified General Real Estate Appraiser RZ3275\", \"label\": \"label\", \"strength\": 1.0, \"rationale\": \"\"}, {\"source\": \"PropertyAddress_1\", \"target\": \"32578\", \"label\": \"hasZip\", \"strength\": 1.0, \"rationale\": \"\"}, {\"source\": \"PropertyAppraisal_1\", \"target\": \"APPRAISAL REPORT\", \"label\": \"hasTitle\", \"strength\": 1.0, \"rationale\": \"\"}, {\"source\": \"PropertyAppraisal_1\", \"target\": \"n45e87f50d2e24484b38351dc189473edb1\", \"label\": \"hasAppraiser\", \"strength\": 1.0, \"rationale\": \"\"}, {\"source\": \"Property_1\", \"target\": \"PropertyAppraisal_1\", \"label\": \"hasAppraisal\", \"strength\": 1.0, \"rationale\": \"\"}, {\"source\": \"PropertyAppraisalDate_1\", \"target\": \"13\", \"label\": \"hasDay\", \"strength\": 1.0, \"rationale\": \"\"}, {\"source\": \"PropertyAppraisalDate_1\", \"target\": \"Effective Date\", \"label\": \"label\", \"strength\": 1.0, \"rationale\": \"\"}, {\"source\": \"Property_1\", \"target\": \"PropertyOwner_1\", \"label\": \"hasOwner\", \"strength\": 1.0, \"rationale\": \"\"}, {\"source\": \"Property_1\", \"target\": \"College Courtyard Apartments & Raider Housing\", \"label\": \"hasName\", \"strength\": 1.0, \"rationale\": \"\"}, {\"source\": \"n45e87f50d2e24484b38351dc189473edb3\", \"target\": \"Market Value\", \"label\": \"label\", \"strength\": 1.0, \"rationale\": \"\"}, {\"source\": \"PropertyAppraisal_1\", \"target\": \"n45e87f50d2e24484b38351dc189473edb2\", \"label\": \"hasAppraiser\", \"strength\": 1.0, \"rationale\": \"\"}, {\"source\": \"PropertyAddress_1\", \"target\": \"28\", \"label\": \"hasStreetNumber\", \"strength\": 1.0, \"rationale\": \"\"}, {\"source\": \"PropertyAppraisal_1\", \"target\": \"n45e87f50d2e24484b38351dc189473edb3\", \"label\": \"hasAppraisedValue\", \"strength\": 1.0, \"rationale\": \"\"}, {\"source\": \"PropertyAddress_1\", \"target\": \"FL\", \"label\": \"hasState\", \"strength\": 1.0, \"rationale\": \"\"}, {\"source\": \"PropertyAddress_1\", \"target\": \"Garden Lane\", \"label\": \"hasStreetName\", \"strength\": 1.0, \"rationale\": \"\"}, {\"source\": \"PropertyAddress_1\", \"target\": \"Niceville\", \"label\": \"hasCity\", \"strength\": 1.0, \"rationale\": \"\"}, {\"source\": \"PropertyOwner_1\", \"target\": \"Owner\", \"label\": \"label\", \"strength\": 1.0, \"rationale\": \"\"}, {\"source\": \"n45e87f50d2e24484b38351dc189473edb1\", \"target\": \"Jason P. Shirey, MAI, CCIM State Certified General Real Estate Appraiser RZ3186\", \"label\": \"label\", \"strength\": 1.0, \"rationale\": \"\"}, {\"source\": \"PropertyAppraisalDate_1\", \"target\": \"2019\", \"label\": \"hasYear\", \"strength\": 1.0, \"rationale\": \"\"}, {\"source\": \"PropertyAddress_1\", \"target\": \"30\", \"label\": \"hasStreetNumber\", \"strength\": 1.0, \"rationale\": \"\"}, {\"source\": \"PropertyAppraisal_1\", \"target\": \"PropertyAppraisalDate_1\", \"label\": \"hasDate\", \"strength\": 1.0, \"rationale\": \"\"}, {\"source\": \"PropertyOwner_1\", \"target\": \"Okaloosa-Walton Community College Foundation, Inc.\", \"label\": \"value\", \"strength\": 1.0, \"rationale\": \"\"}, {\"source\": \"PropertyAppraisalDate_1\", \"target\": \"December\", \"label\": \"hasMonth\", \"strength\": 1.0, \"rationale\": \"\"}, {\"source\": \"Property_1\", \"target\": \"62\", \"label\": \"hasUnits\", \"strength\": 1.0, \"rationale\": \"\"}, {\"source\": \"Property_1\", \"target\": \"PropertyAddress_1\", \"label\": \"hasAddress\", \"strength\": 1.0, \"rationale\": \"\"}, {\"source\": \"APPRAISAL REPORT\", \"target\": \"Knowledge\", \"label\": \"ManuallyAdded\", \"strength\": 1.0, \"rationale\": \"\"}], \"nodes\": [{\"id\": \"n45e87f50d2e24484b38351dc189473edb2\", \"attributes\": \"\", \"type\": \"mf:PropertyAppraiser\", \"group\": 1}, {\"id\": \"Josette D. Jackson, CCIM State Certified General Real Estate Appraiser RZ3275\", \"attributes\": \"\", \"type\": \"\", \"group\": 1}, {\"id\": \"PropertyAppraisalDate_1\", \"attributes\": \"\", \"type\": \"mf:PropertyAppraisalDate\", \"group\": 1}, {\"id\": \"PropertyAddress_1\", \"attributes\": \"\", \"type\": \"mf:PropertyAddress\", \"group\": 1}, {\"id\": \"32578\", \"attributes\": \"\", \"type\": \"\", \"group\": 1}, {\"id\": \"PropertyAppraisal_1\", \"attributes\": \"\", \"type\": \"mf:PropertyAppraisal\", \"group\": 1}, {\"id\": \"APPRAISAL REPORT\", \"attributes\": \"\", \"type\": \"\", \"group\": 1}, {\"id\": \"n45e87f50d2e24484b38351dc189473edb1\", \"attributes\": \"\", \"type\": \"mf:PropertyAppraiser\", \"group\": 1}, {\"id\": \"Property_1\", \"attributes\": \"\", \"type\": \"mf:Property\", \"group\": 1}, {\"id\": \"13\", \"attributes\": \"\", \"type\": \"\", \"group\": 1}, {\"id\": \"Effective Date\", \"attributes\": \"\", \"type\": \"\", \"group\": 1}, {\"id\": \"PropertyOwner_1\", \"attributes\": \"\", \"type\": \"mf:PropertyOwner\", \"group\": 1}, {\"id\": \"n45e87f50d2e24484b38351dc189473edb3\", \"attributes\": \"\", \"type\": \"mf:PropertyAppraisedValue\", \"group\": 1}, {\"id\": \"College Courtyard Apartments & Raider Housing\", \"attributes\": \"\", \"type\": \"\", \"group\": 1}, {\"id\": \"Market Value\", \"attributes\": \"\", \"type\": \"\", \"group\": 1}, {\"id\": \"28\", \"attributes\": \"\", \"type\": \"\", \"group\": 1}, {\"id\": \"FL\", \"attributes\": \"\", \"type\": \"\", \"group\": 1}, {\"id\": \"Garden Lane\", \"attributes\": \"\", \"type\": \"\", \"group\": 1}, {\"id\": \"Niceville\", \"attributes\": \"\", \"type\": \"\", \"group\": 1}, {\"id\": \"Owner\", \"attributes\": \"\", \"type\": \"\", \"group\": 1}, {\"id\": \"Jason P. Shirey, MAI, CCIM State Certified General Real Estate Appraiser RZ3186\", \"attributes\": \"\", \"type\": \"\", \"group\": 1}, {\"id\": \"2019\", \"attributes\": \"\", \"type\": \"\", \"group\": 1}, {\"id\": \"30\", \"attributes\": \"\", \"type\": \"\", \"group\": 1}, {\"id\": \"Okaloosa-Walton Community College Foundation, Inc.\", \"attributes\": \"\", \"type\": \"\", \"group\": 1}, {\"id\": \"December\", \"attributes\": \"\", \"type\": \"\", \"group\": 1}, {\"id\": \"62\", \"attributes\": \"\", \"type\": \"\", \"group\": 1}, {\"id\": \"Knowledge\", \"attributes\": \"\", \"type\": \"\", \"group\": 1}], \"groups\": [{\"group_id\": 1, \"rationale\": \"default group\"}]}\n"
     ]
    }
   ],
   "source": [
    "print(str(out).replace('\\'','\"'))"
   ]
  },
  {
   "cell_type": "code",
   "execution_count": 260,
   "id": "a9ed383c-b7ef-4c76-975b-a7bef9dd88e4",
   "metadata": {
    "tags": []
   },
   "outputs": [
    {
     "data": {
      "text/plain": [
       "{'links': [{'source': 'n45e87f50d2e24484b38351dc189473edb2',\n",
       "   'target': 'Josette D. Jackson, CCIM State Certified General Real Estate Appraiser RZ3275',\n",
       "   'label': 'label',\n",
       "   'strength': 1.0,\n",
       "   'rationale': ''},\n",
       "  {'source': 'PropertyAddress_1',\n",
       "   'target': '32578',\n",
       "   'label': 'hasZip',\n",
       "   'strength': 1.0,\n",
       "   'rationale': ''},\n",
       "  {'source': 'PropertyAppraisal_1',\n",
       "   'target': 'APPRAISAL REPORT',\n",
       "   'label': 'hasTitle',\n",
       "   'strength': 1.0,\n",
       "   'rationale': ''},\n",
       "  {'source': 'PropertyAppraisal_1',\n",
       "   'target': 'n45e87f50d2e24484b38351dc189473edb1',\n",
       "   'label': 'hasAppraiser',\n",
       "   'strength': 1.0,\n",
       "   'rationale': ''},\n",
       "  {'source': 'Property_1',\n",
       "   'target': 'PropertyAppraisal_1',\n",
       "   'label': 'hasAppraisal',\n",
       "   'strength': 1.0,\n",
       "   'rationale': ''},\n",
       "  {'source': 'PropertyAppraisalDate_1',\n",
       "   'target': '13',\n",
       "   'label': 'hasDay',\n",
       "   'strength': 1.0,\n",
       "   'rationale': ''},\n",
       "  {'source': 'PropertyAppraisalDate_1',\n",
       "   'target': 'Effective Date',\n",
       "   'label': 'label',\n",
       "   'strength': 1.0,\n",
       "   'rationale': ''},\n",
       "  {'source': 'Property_1',\n",
       "   'target': 'PropertyOwner_1',\n",
       "   'label': 'hasOwner',\n",
       "   'strength': 1.0,\n",
       "   'rationale': ''},\n",
       "  {'source': 'Property_1',\n",
       "   'target': 'College Courtyard Apartments & Raider Housing',\n",
       "   'label': 'hasName',\n",
       "   'strength': 1.0,\n",
       "   'rationale': ''},\n",
       "  {'source': 'n45e87f50d2e24484b38351dc189473edb3',\n",
       "   'target': 'Market Value',\n",
       "   'label': 'label',\n",
       "   'strength': 1.0,\n",
       "   'rationale': ''},\n",
       "  {'source': 'PropertyAppraisal_1',\n",
       "   'target': 'n45e87f50d2e24484b38351dc189473edb2',\n",
       "   'label': 'hasAppraiser',\n",
       "   'strength': 1.0,\n",
       "   'rationale': ''},\n",
       "  {'source': 'PropertyAddress_1',\n",
       "   'target': '28',\n",
       "   'label': 'hasStreetNumber',\n",
       "   'strength': 1.0,\n",
       "   'rationale': ''},\n",
       "  {'source': 'PropertyAppraisal_1',\n",
       "   'target': 'n45e87f50d2e24484b38351dc189473edb3',\n",
       "   'label': 'hasAppraisedValue',\n",
       "   'strength': 1.0,\n",
       "   'rationale': ''},\n",
       "  {'source': 'PropertyAddress_1',\n",
       "   'target': 'FL',\n",
       "   'label': 'hasState',\n",
       "   'strength': 1.0,\n",
       "   'rationale': ''},\n",
       "  {'source': 'PropertyAddress_1',\n",
       "   'target': 'Garden Lane',\n",
       "   'label': 'hasStreetName',\n",
       "   'strength': 1.0,\n",
       "   'rationale': ''},\n",
       "  {'source': 'PropertyAddress_1',\n",
       "   'target': 'Niceville',\n",
       "   'label': 'hasCity',\n",
       "   'strength': 1.0,\n",
       "   'rationale': ''},\n",
       "  {'source': 'PropertyOwner_1',\n",
       "   'target': 'Owner',\n",
       "   'label': 'label',\n",
       "   'strength': 1.0,\n",
       "   'rationale': ''},\n",
       "  {'source': 'n45e87f50d2e24484b38351dc189473edb1',\n",
       "   'target': 'Jason P. Shirey, MAI, CCIM State Certified General Real Estate Appraiser RZ3186',\n",
       "   'label': 'label',\n",
       "   'strength': 1.0,\n",
       "   'rationale': ''},\n",
       "  {'source': 'PropertyAppraisalDate_1',\n",
       "   'target': '2019',\n",
       "   'label': 'hasYear',\n",
       "   'strength': 1.0,\n",
       "   'rationale': ''},\n",
       "  {'source': 'PropertyAddress_1',\n",
       "   'target': '30',\n",
       "   'label': 'hasStreetNumber',\n",
       "   'strength': 1.0,\n",
       "   'rationale': ''},\n",
       "  {'source': 'PropertyAppraisal_1',\n",
       "   'target': 'PropertyAppraisalDate_1',\n",
       "   'label': 'hasDate',\n",
       "   'strength': 1.0,\n",
       "   'rationale': ''},\n",
       "  {'source': 'PropertyOwner_1',\n",
       "   'target': 'Okaloosa-Walton Community College Foundation, Inc.',\n",
       "   'label': 'value',\n",
       "   'strength': 1.0,\n",
       "   'rationale': ''},\n",
       "  {'source': 'PropertyAppraisalDate_1',\n",
       "   'target': 'December',\n",
       "   'label': 'hasMonth',\n",
       "   'strength': 1.0,\n",
       "   'rationale': ''},\n",
       "  {'source': 'Property_1',\n",
       "   'target': '62',\n",
       "   'label': 'hasUnits',\n",
       "   'strength': 1.0,\n",
       "   'rationale': ''},\n",
       "  {'source': 'Property_1',\n",
       "   'target': 'PropertyAddress_1',\n",
       "   'label': 'hasAddress',\n",
       "   'strength': 1.0,\n",
       "   'rationale': ''},\n",
       "  {'source': 'APPRAISAL REPORT',\n",
       "   'target': 'Knowledge',\n",
       "   'label': 'ManuallyAdded',\n",
       "   'strength': 1.0,\n",
       "   'rationale': ''}],\n",
       " 'nodes': [{'id': 'n45e87f50d2e24484b38351dc189473edb2',\n",
       "   'attributes': '',\n",
       "   'type': 'mf:PropertyAppraiser',\n",
       "   'group': 1},\n",
       "  {'id': 'Josette D. Jackson, CCIM State Certified General Real Estate Appraiser RZ3275',\n",
       "   'attributes': '',\n",
       "   'type': '',\n",
       "   'group': 1},\n",
       "  {'id': 'PropertyAppraisalDate_1',\n",
       "   'attributes': '',\n",
       "   'type': 'mf:PropertyAppraisalDate',\n",
       "   'group': 1},\n",
       "  {'id': 'PropertyAddress_1',\n",
       "   'attributes': '',\n",
       "   'type': 'mf:PropertyAddress',\n",
       "   'group': 1},\n",
       "  {'id': '32578', 'attributes': '', 'type': '', 'group': 1},\n",
       "  {'id': 'PropertyAppraisal_1',\n",
       "   'attributes': '',\n",
       "   'type': 'mf:PropertyAppraisal',\n",
       "   'group': 1},\n",
       "  {'id': 'APPRAISAL REPORT', 'attributes': '', 'type': '', 'group': 1},\n",
       "  {'id': 'n45e87f50d2e24484b38351dc189473edb1',\n",
       "   'attributes': '',\n",
       "   'type': 'mf:PropertyAppraiser',\n",
       "   'group': 1},\n",
       "  {'id': 'Property_1', 'attributes': '', 'type': 'mf:Property', 'group': 1},\n",
       "  {'id': '13', 'attributes': '', 'type': '', 'group': 1},\n",
       "  {'id': 'Effective Date', 'attributes': '', 'type': '', 'group': 1},\n",
       "  {'id': 'PropertyOwner_1',\n",
       "   'attributes': '',\n",
       "   'type': 'mf:PropertyOwner',\n",
       "   'group': 1},\n",
       "  {'id': 'n45e87f50d2e24484b38351dc189473edb3',\n",
       "   'attributes': '',\n",
       "   'type': 'mf:PropertyAppraisedValue',\n",
       "   'group': 1},\n",
       "  {'id': 'College Courtyard Apartments & Raider Housing',\n",
       "   'attributes': '',\n",
       "   'type': '',\n",
       "   'group': 1},\n",
       "  {'id': 'Market Value', 'attributes': '', 'type': '', 'group': 1},\n",
       "  {'id': '28', 'attributes': '', 'type': '', 'group': 1},\n",
       "  {'id': 'FL', 'attributes': '', 'type': '', 'group': 1},\n",
       "  {'id': 'Garden Lane', 'attributes': '', 'type': '', 'group': 1},\n",
       "  {'id': 'Niceville', 'attributes': '', 'type': '', 'group': 1},\n",
       "  {'id': 'Owner', 'attributes': '', 'type': '', 'group': 1},\n",
       "  {'id': 'Jason P. Shirey, MAI, CCIM State Certified General Real Estate Appraiser RZ3186',\n",
       "   'attributes': '',\n",
       "   'type': '',\n",
       "   'group': 1},\n",
       "  {'id': '2019', 'attributes': '', 'type': '', 'group': 1},\n",
       "  {'id': '30', 'attributes': '', 'type': '', 'group': 1},\n",
       "  {'id': 'Okaloosa-Walton Community College Foundation, Inc.',\n",
       "   'attributes': '',\n",
       "   'type': '',\n",
       "   'group': 1},\n",
       "  {'id': 'December', 'attributes': '', 'type': '', 'group': 1},\n",
       "  {'id': '62', 'attributes': '', 'type': '', 'group': 1},\n",
       "  {'id': 'Knowledge', 'attributes': '', 'type': '', 'group': 1}],\n",
       " 'groups': [{'group_id': 1, 'rationale': 'default group'}]}"
      ]
     },
     "execution_count": 260,
     "metadata": {},
     "output_type": "execute_result"
    }
   ],
   "source": [
    "out"
   ]
  },
  {
   "cell_type": "code",
   "execution_count": 261,
   "id": "4b4384cc-9eab-4ec4-8c2f-55fdce225055",
   "metadata": {
    "tags": []
   },
   "outputs": [],
   "source": [
    "with open(os.path.join(output_dir,file_name.split(\".json\")[0]+\"-graph.json\"),\"w+\") as f:\n",
    "    json.dump(out,f)"
   ]
  }
 ],
 "metadata": {
  "availableInstances": [
   {
    "_defaultOrder": 0,
    "_isFastLaunch": true,
    "category": "General purpose",
    "gpuNum": 0,
    "hideHardwareSpecs": false,
    "memoryGiB": 4,
    "name": "ml.t3.medium",
    "vcpuNum": 2
   },
   {
    "_defaultOrder": 1,
    "_isFastLaunch": false,
    "category": "General purpose",
    "gpuNum": 0,
    "hideHardwareSpecs": false,
    "memoryGiB": 8,
    "name": "ml.t3.large",
    "vcpuNum": 2
   },
   {
    "_defaultOrder": 2,
    "_isFastLaunch": false,
    "category": "General purpose",
    "gpuNum": 0,
    "hideHardwareSpecs": false,
    "memoryGiB": 16,
    "name": "ml.t3.xlarge",
    "vcpuNum": 4
   },
   {
    "_defaultOrder": 3,
    "_isFastLaunch": false,
    "category": "General purpose",
    "gpuNum": 0,
    "hideHardwareSpecs": false,
    "memoryGiB": 32,
    "name": "ml.t3.2xlarge",
    "vcpuNum": 8
   },
   {
    "_defaultOrder": 4,
    "_isFastLaunch": true,
    "category": "General purpose",
    "gpuNum": 0,
    "hideHardwareSpecs": false,
    "memoryGiB": 8,
    "name": "ml.m5.large",
    "vcpuNum": 2
   },
   {
    "_defaultOrder": 5,
    "_isFastLaunch": false,
    "category": "General purpose",
    "gpuNum": 0,
    "hideHardwareSpecs": false,
    "memoryGiB": 16,
    "name": "ml.m5.xlarge",
    "vcpuNum": 4
   },
   {
    "_defaultOrder": 6,
    "_isFastLaunch": false,
    "category": "General purpose",
    "gpuNum": 0,
    "hideHardwareSpecs": false,
    "memoryGiB": 32,
    "name": "ml.m5.2xlarge",
    "vcpuNum": 8
   },
   {
    "_defaultOrder": 7,
    "_isFastLaunch": false,
    "category": "General purpose",
    "gpuNum": 0,
    "hideHardwareSpecs": false,
    "memoryGiB": 64,
    "name": "ml.m5.4xlarge",
    "vcpuNum": 16
   },
   {
    "_defaultOrder": 8,
    "_isFastLaunch": false,
    "category": "General purpose",
    "gpuNum": 0,
    "hideHardwareSpecs": false,
    "memoryGiB": 128,
    "name": "ml.m5.8xlarge",
    "vcpuNum": 32
   },
   {
    "_defaultOrder": 9,
    "_isFastLaunch": false,
    "category": "General purpose",
    "gpuNum": 0,
    "hideHardwareSpecs": false,
    "memoryGiB": 192,
    "name": "ml.m5.12xlarge",
    "vcpuNum": 48
   },
   {
    "_defaultOrder": 10,
    "_isFastLaunch": false,
    "category": "General purpose",
    "gpuNum": 0,
    "hideHardwareSpecs": false,
    "memoryGiB": 256,
    "name": "ml.m5.16xlarge",
    "vcpuNum": 64
   },
   {
    "_defaultOrder": 11,
    "_isFastLaunch": false,
    "category": "General purpose",
    "gpuNum": 0,
    "hideHardwareSpecs": false,
    "memoryGiB": 384,
    "name": "ml.m5.24xlarge",
    "vcpuNum": 96
   },
   {
    "_defaultOrder": 12,
    "_isFastLaunch": false,
    "category": "General purpose",
    "gpuNum": 0,
    "hideHardwareSpecs": false,
    "memoryGiB": 8,
    "name": "ml.m5d.large",
    "vcpuNum": 2
   },
   {
    "_defaultOrder": 13,
    "_isFastLaunch": false,
    "category": "General purpose",
    "gpuNum": 0,
    "hideHardwareSpecs": false,
    "memoryGiB": 16,
    "name": "ml.m5d.xlarge",
    "vcpuNum": 4
   },
   {
    "_defaultOrder": 14,
    "_isFastLaunch": false,
    "category": "General purpose",
    "gpuNum": 0,
    "hideHardwareSpecs": false,
    "memoryGiB": 32,
    "name": "ml.m5d.2xlarge",
    "vcpuNum": 8
   },
   {
    "_defaultOrder": 15,
    "_isFastLaunch": false,
    "category": "General purpose",
    "gpuNum": 0,
    "hideHardwareSpecs": false,
    "memoryGiB": 64,
    "name": "ml.m5d.4xlarge",
    "vcpuNum": 16
   },
   {
    "_defaultOrder": 16,
    "_isFastLaunch": false,
    "category": "General purpose",
    "gpuNum": 0,
    "hideHardwareSpecs": false,
    "memoryGiB": 128,
    "name": "ml.m5d.8xlarge",
    "vcpuNum": 32
   },
   {
    "_defaultOrder": 17,
    "_isFastLaunch": false,
    "category": "General purpose",
    "gpuNum": 0,
    "hideHardwareSpecs": false,
    "memoryGiB": 192,
    "name": "ml.m5d.12xlarge",
    "vcpuNum": 48
   },
   {
    "_defaultOrder": 18,
    "_isFastLaunch": false,
    "category": "General purpose",
    "gpuNum": 0,
    "hideHardwareSpecs": false,
    "memoryGiB": 256,
    "name": "ml.m5d.16xlarge",
    "vcpuNum": 64
   },
   {
    "_defaultOrder": 19,
    "_isFastLaunch": false,
    "category": "General purpose",
    "gpuNum": 0,
    "hideHardwareSpecs": false,
    "memoryGiB": 384,
    "name": "ml.m5d.24xlarge",
    "vcpuNum": 96
   },
   {
    "_defaultOrder": 20,
    "_isFastLaunch": false,
    "category": "General purpose",
    "gpuNum": 0,
    "hideHardwareSpecs": true,
    "memoryGiB": 0,
    "name": "ml.geospatial.interactive",
    "supportedImageNames": [
     "sagemaker-geospatial-v1-0"
    ],
    "vcpuNum": 0
   },
   {
    "_defaultOrder": 21,
    "_isFastLaunch": true,
    "category": "Compute optimized",
    "gpuNum": 0,
    "hideHardwareSpecs": false,
    "memoryGiB": 4,
    "name": "ml.c5.large",
    "vcpuNum": 2
   },
   {
    "_defaultOrder": 22,
    "_isFastLaunch": false,
    "category": "Compute optimized",
    "gpuNum": 0,
    "hideHardwareSpecs": false,
    "memoryGiB": 8,
    "name": "ml.c5.xlarge",
    "vcpuNum": 4
   },
   {
    "_defaultOrder": 23,
    "_isFastLaunch": false,
    "category": "Compute optimized",
    "gpuNum": 0,
    "hideHardwareSpecs": false,
    "memoryGiB": 16,
    "name": "ml.c5.2xlarge",
    "vcpuNum": 8
   },
   {
    "_defaultOrder": 24,
    "_isFastLaunch": false,
    "category": "Compute optimized",
    "gpuNum": 0,
    "hideHardwareSpecs": false,
    "memoryGiB": 32,
    "name": "ml.c5.4xlarge",
    "vcpuNum": 16
   },
   {
    "_defaultOrder": 25,
    "_isFastLaunch": false,
    "category": "Compute optimized",
    "gpuNum": 0,
    "hideHardwareSpecs": false,
    "memoryGiB": 72,
    "name": "ml.c5.9xlarge",
    "vcpuNum": 36
   },
   {
    "_defaultOrder": 26,
    "_isFastLaunch": false,
    "category": "Compute optimized",
    "gpuNum": 0,
    "hideHardwareSpecs": false,
    "memoryGiB": 96,
    "name": "ml.c5.12xlarge",
    "vcpuNum": 48
   },
   {
    "_defaultOrder": 27,
    "_isFastLaunch": false,
    "category": "Compute optimized",
    "gpuNum": 0,
    "hideHardwareSpecs": false,
    "memoryGiB": 144,
    "name": "ml.c5.18xlarge",
    "vcpuNum": 72
   },
   {
    "_defaultOrder": 28,
    "_isFastLaunch": false,
    "category": "Compute optimized",
    "gpuNum": 0,
    "hideHardwareSpecs": false,
    "memoryGiB": 192,
    "name": "ml.c5.24xlarge",
    "vcpuNum": 96
   },
   {
    "_defaultOrder": 29,
    "_isFastLaunch": true,
    "category": "Accelerated computing",
    "gpuNum": 1,
    "hideHardwareSpecs": false,
    "memoryGiB": 16,
    "name": "ml.g4dn.xlarge",
    "vcpuNum": 4
   },
   {
    "_defaultOrder": 30,
    "_isFastLaunch": false,
    "category": "Accelerated computing",
    "gpuNum": 1,
    "hideHardwareSpecs": false,
    "memoryGiB": 32,
    "name": "ml.g4dn.2xlarge",
    "vcpuNum": 8
   },
   {
    "_defaultOrder": 31,
    "_isFastLaunch": false,
    "category": "Accelerated computing",
    "gpuNum": 1,
    "hideHardwareSpecs": false,
    "memoryGiB": 64,
    "name": "ml.g4dn.4xlarge",
    "vcpuNum": 16
   },
   {
    "_defaultOrder": 32,
    "_isFastLaunch": false,
    "category": "Accelerated computing",
    "gpuNum": 1,
    "hideHardwareSpecs": false,
    "memoryGiB": 128,
    "name": "ml.g4dn.8xlarge",
    "vcpuNum": 32
   },
   {
    "_defaultOrder": 33,
    "_isFastLaunch": false,
    "category": "Accelerated computing",
    "gpuNum": 4,
    "hideHardwareSpecs": false,
    "memoryGiB": 192,
    "name": "ml.g4dn.12xlarge",
    "vcpuNum": 48
   },
   {
    "_defaultOrder": 34,
    "_isFastLaunch": false,
    "category": "Accelerated computing",
    "gpuNum": 1,
    "hideHardwareSpecs": false,
    "memoryGiB": 256,
    "name": "ml.g4dn.16xlarge",
    "vcpuNum": 64
   },
   {
    "_defaultOrder": 35,
    "_isFastLaunch": false,
    "category": "Accelerated computing",
    "gpuNum": 1,
    "hideHardwareSpecs": false,
    "memoryGiB": 61,
    "name": "ml.p3.2xlarge",
    "vcpuNum": 8
   },
   {
    "_defaultOrder": 36,
    "_isFastLaunch": false,
    "category": "Accelerated computing",
    "gpuNum": 4,
    "hideHardwareSpecs": false,
    "memoryGiB": 244,
    "name": "ml.p3.8xlarge",
    "vcpuNum": 32
   },
   {
    "_defaultOrder": 37,
    "_isFastLaunch": false,
    "category": "Accelerated computing",
    "gpuNum": 8,
    "hideHardwareSpecs": false,
    "memoryGiB": 488,
    "name": "ml.p3.16xlarge",
    "vcpuNum": 64
   },
   {
    "_defaultOrder": 38,
    "_isFastLaunch": false,
    "category": "Accelerated computing",
    "gpuNum": 8,
    "hideHardwareSpecs": false,
    "memoryGiB": 768,
    "name": "ml.p3dn.24xlarge",
    "vcpuNum": 96
   },
   {
    "_defaultOrder": 39,
    "_isFastLaunch": false,
    "category": "Memory Optimized",
    "gpuNum": 0,
    "hideHardwareSpecs": false,
    "memoryGiB": 16,
    "name": "ml.r5.large",
    "vcpuNum": 2
   },
   {
    "_defaultOrder": 40,
    "_isFastLaunch": false,
    "category": "Memory Optimized",
    "gpuNum": 0,
    "hideHardwareSpecs": false,
    "memoryGiB": 32,
    "name": "ml.r5.xlarge",
    "vcpuNum": 4
   },
   {
    "_defaultOrder": 41,
    "_isFastLaunch": false,
    "category": "Memory Optimized",
    "gpuNum": 0,
    "hideHardwareSpecs": false,
    "memoryGiB": 64,
    "name": "ml.r5.2xlarge",
    "vcpuNum": 8
   },
   {
    "_defaultOrder": 42,
    "_isFastLaunch": false,
    "category": "Memory Optimized",
    "gpuNum": 0,
    "hideHardwareSpecs": false,
    "memoryGiB": 128,
    "name": "ml.r5.4xlarge",
    "vcpuNum": 16
   },
   {
    "_defaultOrder": 43,
    "_isFastLaunch": false,
    "category": "Memory Optimized",
    "gpuNum": 0,
    "hideHardwareSpecs": false,
    "memoryGiB": 256,
    "name": "ml.r5.8xlarge",
    "vcpuNum": 32
   },
   {
    "_defaultOrder": 44,
    "_isFastLaunch": false,
    "category": "Memory Optimized",
    "gpuNum": 0,
    "hideHardwareSpecs": false,
    "memoryGiB": 384,
    "name": "ml.r5.12xlarge",
    "vcpuNum": 48
   },
   {
    "_defaultOrder": 45,
    "_isFastLaunch": false,
    "category": "Memory Optimized",
    "gpuNum": 0,
    "hideHardwareSpecs": false,
    "memoryGiB": 512,
    "name": "ml.r5.16xlarge",
    "vcpuNum": 64
   },
   {
    "_defaultOrder": 46,
    "_isFastLaunch": false,
    "category": "Memory Optimized",
    "gpuNum": 0,
    "hideHardwareSpecs": false,
    "memoryGiB": 768,
    "name": "ml.r5.24xlarge",
    "vcpuNum": 96
   },
   {
    "_defaultOrder": 47,
    "_isFastLaunch": false,
    "category": "Accelerated computing",
    "gpuNum": 1,
    "hideHardwareSpecs": false,
    "memoryGiB": 16,
    "name": "ml.g5.xlarge",
    "vcpuNum": 4
   },
   {
    "_defaultOrder": 48,
    "_isFastLaunch": false,
    "category": "Accelerated computing",
    "gpuNum": 1,
    "hideHardwareSpecs": false,
    "memoryGiB": 32,
    "name": "ml.g5.2xlarge",
    "vcpuNum": 8
   },
   {
    "_defaultOrder": 49,
    "_isFastLaunch": false,
    "category": "Accelerated computing",
    "gpuNum": 1,
    "hideHardwareSpecs": false,
    "memoryGiB": 64,
    "name": "ml.g5.4xlarge",
    "vcpuNum": 16
   },
   {
    "_defaultOrder": 50,
    "_isFastLaunch": false,
    "category": "Accelerated computing",
    "gpuNum": 1,
    "hideHardwareSpecs": false,
    "memoryGiB": 128,
    "name": "ml.g5.8xlarge",
    "vcpuNum": 32
   },
   {
    "_defaultOrder": 51,
    "_isFastLaunch": false,
    "category": "Accelerated computing",
    "gpuNum": 1,
    "hideHardwareSpecs": false,
    "memoryGiB": 256,
    "name": "ml.g5.16xlarge",
    "vcpuNum": 64
   },
   {
    "_defaultOrder": 52,
    "_isFastLaunch": false,
    "category": "Accelerated computing",
    "gpuNum": 4,
    "hideHardwareSpecs": false,
    "memoryGiB": 192,
    "name": "ml.g5.12xlarge",
    "vcpuNum": 48
   },
   {
    "_defaultOrder": 53,
    "_isFastLaunch": false,
    "category": "Accelerated computing",
    "gpuNum": 4,
    "hideHardwareSpecs": false,
    "memoryGiB": 384,
    "name": "ml.g5.24xlarge",
    "vcpuNum": 96
   },
   {
    "_defaultOrder": 54,
    "_isFastLaunch": false,
    "category": "Accelerated computing",
    "gpuNum": 8,
    "hideHardwareSpecs": false,
    "memoryGiB": 768,
    "name": "ml.g5.48xlarge",
    "vcpuNum": 192
   },
   {
    "_defaultOrder": 55,
    "_isFastLaunch": false,
    "category": "Accelerated computing",
    "gpuNum": 8,
    "hideHardwareSpecs": false,
    "memoryGiB": 1152,
    "name": "ml.p4d.24xlarge",
    "vcpuNum": 96
   },
   {
    "_defaultOrder": 56,
    "_isFastLaunch": false,
    "category": "Accelerated computing",
    "gpuNum": 8,
    "hideHardwareSpecs": false,
    "memoryGiB": 1152,
    "name": "ml.p4de.24xlarge",
    "vcpuNum": 96
   },
   {
    "_defaultOrder": 57,
    "_isFastLaunch": false,
    "category": "Accelerated computing",
    "gpuNum": 0,
    "hideHardwareSpecs": false,
    "memoryGiB": 32,
    "name": "ml.trn1.2xlarge",
    "vcpuNum": 8
   },
   {
    "_defaultOrder": 58,
    "_isFastLaunch": false,
    "category": "Accelerated computing",
    "gpuNum": 0,
    "hideHardwareSpecs": false,
    "memoryGiB": 512,
    "name": "ml.trn1.32xlarge",
    "vcpuNum": 128
   },
   {
    "_defaultOrder": 59,
    "_isFastLaunch": false,
    "category": "Accelerated computing",
    "gpuNum": 0,
    "hideHardwareSpecs": false,
    "memoryGiB": 512,
    "name": "ml.trn1n.32xlarge",
    "vcpuNum": 128
   }
  ],
  "instance_type": "ml.t3.medium",
  "kernelspec": {
   "display_name": "Python 3 (Data Science 3.0)",
   "language": "python",
   "name": "python3__SAGEMAKER_INTERNAL__arn:aws:sagemaker:us-east-1:081325390199:image/sagemaker-data-science-310-v1"
  },
  "language_info": {
   "codemirror_mode": {
    "name": "ipython",
    "version": 3
   },
   "file_extension": ".py",
   "mimetype": "text/x-python",
   "name": "python",
   "nbconvert_exporter": "python",
   "pygments_lexer": "ipython3",
   "version": "3.10.6"
  }
 },
 "nbformat": 4,
 "nbformat_minor": 5
}
