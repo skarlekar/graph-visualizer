{
 "cells": [
  {
   "cell_type": "code",
   "execution_count": 48,
   "id": "1cec0e0e-2caa-4a23-82f4-e8e80cd49313",
   "metadata": {},
   "outputs": [],
   "source": [
    "import json\n",
    "import os"
   ]
  },
  {
   "cell_type": "code",
   "execution_count": 49,
   "id": "dc207825-e10e-4c76-9918-23ed90be7508",
   "metadata": {
    "tags": []
   },
   "outputs": [],
   "source": [
    "output_dir = os.path.abspath(os.path.join(os.getcwd(),\"../..\",\"model-results\"))"
   ]
  },
  {
   "cell_type": "code",
   "execution_count": 50,
   "id": "156f1063-3f5d-40d8-b66e-398e5cbfaaf9",
   "metadata": {
    "tags": []
   },
   "outputs": [],
   "source": [
    "with open(os.path.join(output_dir,\"anthropic.claude-3-sonnet-20240229-v1-0-test-appraisal-Appraisal-Report-address-appraiser-example-graph.json\"),\"r\") as f:\n",
    "    data =json.load(f)"
   ]
  },
  {
   "cell_type": "code",
   "execution_count": 66,
   "id": "c6ba18c8-a524-40ba-9704-e81c8d988aec",
   "metadata": {},
   "outputs": [],
   "source": [
    "new_nodes = data[\"nodes\"]"
   ]
  },
  {
   "cell_type": "code",
   "execution_count": 67,
   "id": "b68c2a0a-e66c-48ae-a0e7-9d231361fbf5",
   "metadata": {
    "tags": []
   },
   "outputs": [],
   "source": [
    "old_id_new_id={}"
   ]
  },
  {
   "cell_type": "code",
   "execution_count": 70,
   "id": "32974ff8-28c5-4072-af52-c0d1a7f0df5b",
   "metadata": {
    "tags": []
   },
   "outputs": [],
   "source": [
    "for i in range(len(new_nodes)):\n",
    "    n = new_nodes[i]\n",
    "    old_id_new_id[n[\"id\"]]=n[\"id\"]+n[\"attributes\"]\n",
    "    new_nodes[i][\"id\"]=old_id_new_id[n[\"id\"]]"
   ]
  },
  {
   "cell_type": "code",
   "execution_count": 71,
   "id": "19387a91-8890-4447-b84e-bf6d04db454f",
   "metadata": {
    "tags": []
   },
   "outputs": [],
   "source": [
    "new_links = data[\"links\"]\n",
    "for i in range(len(new_links)):\n",
    "    l = new_links[i]\n",
    "    new_links[i][\"source\"]=old_id_new_id[l[\"source\"]]\n",
    "    new_links[i][\"target\"]=old_id_new_id[l[\"target\"]]"
   ]
  },
  {
   "cell_type": "code",
   "execution_count": 72,
   "id": "0bd263bd-8866-4aa7-b179-f3547bbeac87",
   "metadata": {
    "tags": []
   },
   "outputs": [
    {
     "data": {
      "text/plain": [
       "[{'source': 'PropertyNameCollegeCourtYardApartments,RaiderHousing',\n",
       "  'target': 'PropertyUnits62',\n",
       "  'label': 'hasUnits',\n",
       "  'strength': 1.0,\n",
       "  'rationale': 'The property name is associated with the number of units.'},\n",
       " {'source': 'PropertyNameCollegeCourtYardApartments,RaiderHousing',\n",
       "  'target': 'PropertyAddress',\n",
       "  'label': 'hasAddress',\n",
       "  'strength': 1.0,\n",
       "  'rationale': 'The property name is associated with the address.'},\n",
       " {'source': 'PropertyAddress',\n",
       "  'target': 'PropertyStreetNumber28,30',\n",
       "  'label': 'hasStreetNumber',\n",
       "  'strength': 1.0,\n",
       "  'rationale': 'The address includes the street number.'},\n",
       " {'source': 'PropertyAddress',\n",
       "  'target': 'PropertyStreetNameGardenLane',\n",
       "  'label': 'hasStreetName',\n",
       "  'strength': 1.0,\n",
       "  'rationale': 'The address includes the street name.'},\n",
       " {'source': 'PropertyAddress',\n",
       "  'target': 'PropertyCityNiceville',\n",
       "  'label': 'hasCity',\n",
       "  'strength': 1.0,\n",
       "  'rationale': 'The address includes the city.'},\n",
       " {'source': 'PropertyAddress',\n",
       "  'target': 'PropertyStateFL',\n",
       "  'label': 'hasState',\n",
       "  'strength': 1.0,\n",
       "  'rationale': 'The address includes the state.'},\n",
       " {'source': 'PropertyAddress',\n",
       "  'target': 'PropertyZip32578',\n",
       "  'label': 'hasZip',\n",
       "  'strength': 1.0,\n",
       "  'rationale': 'The address includes the zip code.'},\n",
       " {'source': 'PropertyNameCollegeCourtYardApartments,RaiderHousing',\n",
       "  'target': 'PropertyOwnerNorthwestFloridaStateCollegeFoundation',\n",
       "  'label': 'hasOwner',\n",
       "  'strength': 1.0,\n",
       "  'rationale': 'The property name is associated with the owner.'},\n",
       " {'source': 'PropertyNameCollegeCourtYardApartments,RaiderHousing',\n",
       "  'target': 'PropertyAppraisal',\n",
       "  'label': 'hasAppraisal',\n",
       "  'strength': 1.0,\n",
       "  'rationale': 'The property name is associated with the appraisal report.'},\n",
       " {'source': 'PropertyAppraisal',\n",
       "  'target': 'PropertyAppraiserJasonP.Shirey,JosetteD.Jackson',\n",
       "  'label': 'hasAppraiser',\n",
       "  'strength': 1.0,\n",
       "  'rationale': 'The appraisal report is associated with the appraisers.'},\n",
       " {'source': 'PropertyAppraisal',\n",
       "  'target': 'PropertyAppraisalDate',\n",
       "  'label': 'hasDate',\n",
       "  'strength': 1.0,\n",
       "  'rationale': 'The appraisal report is associated with the date.'},\n",
       " {'source': 'PropertyAppraisalDate',\n",
       "  'target': 'PropertyAppraisalMonth',\n",
       "  'label': 'hasMonth',\n",
       "  'strength': 1.0,\n",
       "  'rationale': 'The appraisal date includes the month.'},\n",
       " {'source': 'PropertyAppraisalDate',\n",
       "  'target': 'PropertyAppraisalDay',\n",
       "  'label': 'hasDay',\n",
       "  'strength': 1.0,\n",
       "  'rationale': 'The appraisal date includes the day.'},\n",
       " {'source': 'PropertyAppraisalDate',\n",
       "  'target': 'PropertyAppraisalYear',\n",
       "  'label': 'hasYear',\n",
       "  'strength': 1.0,\n",
       "  'rationale': 'The appraisal date includes the year.'},\n",
       " {'source': 'PropertyNameCollegeCourtYardApartments,RaiderHousing',\n",
       "  'target': 'Knowledge',\n",
       "  'label': 'isSubjectOf',\n",
       "  'strength': 0.1,\n",
       "  'rationale': 'Connects PropertyName to the overarching concept.'},\n",
       " {'source': 'PropertyOwnerNorthwestFloridaStateCollegeFoundation',\n",
       "  'target': 'Knowledge',\n",
       "  'label': 'isSubjectOf',\n",
       "  'strength': 0.1,\n",
       "  'rationale': 'Connects PropertyOwner to the overarching concept.'},\n",
       " {'source': 'PropertyAppraisal',\n",
       "  'target': 'Knowledge',\n",
       "  'label': 'isSubjectOf',\n",
       "  'strength': 0.1,\n",
       "  'rationale': 'Connects PropertyAppraisal to the overarching concept.'}]"
      ]
     },
     "execution_count": 72,
     "metadata": {},
     "output_type": "execute_result"
    }
   ],
   "source": [
    "new_links"
   ]
  },
  {
   "cell_type": "code",
   "execution_count": 73,
   "id": "ed152cdc-5414-44c6-9196-04d90ebf3a59",
   "metadata": {
    "tags": []
   },
   "outputs": [],
   "source": [
    "output = {\"nodes\":new_nodes,\"links\":new_links,\"groups\":data[\"groups\"]}"
   ]
  },
  {
   "cell_type": "code",
   "execution_count": 74,
   "id": "54ce8733-be93-4749-9b8a-9ebac2f08016",
   "metadata": {
    "tags": []
   },
   "outputs": [
    {
     "data": {
      "text/plain": [
       "'{\"nodes\": [{\"id\": \"Knowledge\", \"attributes\": \"\", \"type\": \"concept\", \"group\": 1}, {\"id\": \"PropertyNameCollegeCourtYardApartments,RaiderHousing\", \"attributes\": \"CollegeCourtYardApartments,RaiderHousing\", \"type\": \"NamedEntity\", \"group\": 2}, {\"id\": \"PropertyUnits62\", \"attributes\": \"62\", \"type\": \"NamedEntity\", \"group\": 2}, {\"id\": \"PropertyAddress\", \"attributes\": \"\", \"type\": \"NamedEntity\", \"group\": 3}, {\"id\": \"PropertyStreetNumber28,30\", \"attributes\": \"28,30\", \"type\": \"NamedEntity\", \"group\": 3}, {\"id\": \"PropertyStreetNameGardenLane\", \"attributes\": \"GardenLane\", \"type\": \"NamedEntity\", \"group\": 3}, {\"id\": \"PropertyCityNiceville\", \"attributes\": \"Niceville\", \"type\": \"NamedEntity\", \"group\": 3}, {\"id\": \"PropertyStateFL\", \"attributes\": \"FL\", \"type\": \"NamedEntity\", \"group\": 3}, {\"id\": \"PropertyZip32578\", \"attributes\": \"32578\", \"type\": \"NamedEntity\", \"group\": 3}, {\"id\": \"PropertyOwnerNorthwestFloridaStateCollegeFoundation\", \"attributes\": \"NorthwestFloridaStateCollegeFoundation\", \"type\": \"NamedEntity\", \"group\": 4}, {\"id\": \"PropertyAppraisal\", \"attributes\": \"\", \"type\": \"NamedEntity\", \"group\": 5}, {\"id\": \"PropertyAppraiserJasonP.Shirey,JosetteD.Jackson\", \"attributes\": \"JasonP.Shirey,JosetteD.Jackson\", \"type\": \"NamedEntity\", \"group\": 6}, {\"id\": \"PropertyAppraisalDate\", \"attributes\": \"\", \"type\": \"NamedEntity\", \"group\": 7}, {\"id\": \"PropertyAppraisalMonth\", \"attributes\": \"\", \"type\": \"NamedEntity\", \"group\": 7}, {\"id\": \"PropertyAppraisalDay\", \"attributes\": \"\", \"type\": \"NamedEntity\", \"group\": 7}, {\"id\": \"PropertyAppraisalYear\", \"attributes\": \"\", \"type\": \"NamedEntity\", \"group\": 7}], \"links\": [{\"source\": \"PropertyNameCollegeCourtYardApartments,RaiderHousing\", \"target\": \"PropertyUnits62\", \"label\": \"hasUnits\", \"strength\": 1.0, \"rationale\": \"The property name is associated with the number of units.\"}, {\"source\": \"PropertyNameCollegeCourtYardApartments,RaiderHousing\", \"target\": \"PropertyAddress\", \"label\": \"hasAddress\", \"strength\": 1.0, \"rationale\": \"The property name is associated with the address.\"}, {\"source\": \"PropertyAddress\", \"target\": \"PropertyStreetNumber28,30\", \"label\": \"hasStreetNumber\", \"strength\": 1.0, \"rationale\": \"The address includes the street number.\"}, {\"source\": \"PropertyAddress\", \"target\": \"PropertyStreetNameGardenLane\", \"label\": \"hasStreetName\", \"strength\": 1.0, \"rationale\": \"The address includes the street name.\"}, {\"source\": \"PropertyAddress\", \"target\": \"PropertyCityNiceville\", \"label\": \"hasCity\", \"strength\": 1.0, \"rationale\": \"The address includes the city.\"}, {\"source\": \"PropertyAddress\", \"target\": \"PropertyStateFL\", \"label\": \"hasState\", \"strength\": 1.0, \"rationale\": \"The address includes the state.\"}, {\"source\": \"PropertyAddress\", \"target\": \"PropertyZip32578\", \"label\": \"hasZip\", \"strength\": 1.0, \"rationale\": \"The address includes the zip code.\"}, {\"source\": \"PropertyNameCollegeCourtYardApartments,RaiderHousing\", \"target\": \"PropertyOwnerNorthwestFloridaStateCollegeFoundation\", \"label\": \"hasOwner\", \"strength\": 1.0, \"rationale\": \"The property name is associated with the owner.\"}, {\"source\": \"PropertyNameCollegeCourtYardApartments,RaiderHousing\", \"target\": \"PropertyAppraisal\", \"label\": \"hasAppraisal\", \"strength\": 1.0, \"rationale\": \"The property name is associated with the appraisal report.\"}, {\"source\": \"PropertyAppraisal\", \"target\": \"PropertyAppraiserJasonP.Shirey,JosetteD.Jackson\", \"label\": \"hasAppraiser\", \"strength\": 1.0, \"rationale\": \"The appraisal report is associated with the appraisers.\"}, {\"source\": \"PropertyAppraisal\", \"target\": \"PropertyAppraisalDate\", \"label\": \"hasDate\", \"strength\": 1.0, \"rationale\": \"The appraisal report is associated with the date.\"}, {\"source\": \"PropertyAppraisalDate\", \"target\": \"PropertyAppraisalMonth\", \"label\": \"hasMonth\", \"strength\": 1.0, \"rationale\": \"The appraisal date includes the month.\"}, {\"source\": \"PropertyAppraisalDate\", \"target\": \"PropertyAppraisalDay\", \"label\": \"hasDay\", \"strength\": 1.0, \"rationale\": \"The appraisal date includes the day.\"}, {\"source\": \"PropertyAppraisalDate\", \"target\": \"PropertyAppraisalYear\", \"label\": \"hasYear\", \"strength\": 1.0, \"rationale\": \"The appraisal date includes the year.\"}, {\"source\": \"PropertyNameCollegeCourtYardApartments,RaiderHousing\", \"target\": \"Knowledge\", \"label\": \"isSubjectOf\", \"strength\": 0.1, \"rationale\": \"Connects PropertyName to the overarching concept.\"}, {\"source\": \"PropertyOwnerNorthwestFloridaStateCollegeFoundation\", \"target\": \"Knowledge\", \"label\": \"isSubjectOf\", \"strength\": 0.1, \"rationale\": \"Connects PropertyOwner to the overarching concept.\"}, {\"source\": \"PropertyAppraisal\", \"target\": \"Knowledge\", \"label\": \"isSubjectOf\", \"strength\": 0.1, \"rationale\": \"Connects PropertyAppraisal to the overarching concept.\"}], \"groups\": [{\"group_id\": 1, \"rationale\": \"Overarching concept connecting all elements of the given context\"}, {\"group_id\": 2, \"rationale\": \"Property details including name and number of units\"}, {\"group_id\": 3, \"rationale\": \"Address components of the property\"}, {\"group_id\": 4, \"rationale\": \"Owner of the property\"}, {\"group_id\": 5, \"rationale\": \"Appraisal report details\"}, {\"group_id\": 6, \"rationale\": \"Appraisers conducting the appraisal\"}, {\"group_id\": 7, \"rationale\": \"Date components of the appraisal report\"}]}'"
      ]
     },
     "execution_count": 74,
     "metadata": {},
     "output_type": "execute_result"
    }
   ],
   "source": [
    "str(output).replace('\\'','\"')"
   ]
  }
 ],
 "metadata": {
  "availableInstances": [
   {
    "_defaultOrder": 0,
    "_isFastLaunch": true,
    "category": "General purpose",
    "gpuNum": 0,
    "hideHardwareSpecs": false,
    "memoryGiB": 4,
    "name": "ml.t3.medium",
    "vcpuNum": 2
   },
   {
    "_defaultOrder": 1,
    "_isFastLaunch": false,
    "category": "General purpose",
    "gpuNum": 0,
    "hideHardwareSpecs": false,
    "memoryGiB": 8,
    "name": "ml.t3.large",
    "vcpuNum": 2
   },
   {
    "_defaultOrder": 2,
    "_isFastLaunch": false,
    "category": "General purpose",
    "gpuNum": 0,
    "hideHardwareSpecs": false,
    "memoryGiB": 16,
    "name": "ml.t3.xlarge",
    "vcpuNum": 4
   },
   {
    "_defaultOrder": 3,
    "_isFastLaunch": false,
    "category": "General purpose",
    "gpuNum": 0,
    "hideHardwareSpecs": false,
    "memoryGiB": 32,
    "name": "ml.t3.2xlarge",
    "vcpuNum": 8
   },
   {
    "_defaultOrder": 4,
    "_isFastLaunch": true,
    "category": "General purpose",
    "gpuNum": 0,
    "hideHardwareSpecs": false,
    "memoryGiB": 8,
    "name": "ml.m5.large",
    "vcpuNum": 2
   },
   {
    "_defaultOrder": 5,
    "_isFastLaunch": false,
    "category": "General purpose",
    "gpuNum": 0,
    "hideHardwareSpecs": false,
    "memoryGiB": 16,
    "name": "ml.m5.xlarge",
    "vcpuNum": 4
   },
   {
    "_defaultOrder": 6,
    "_isFastLaunch": false,
    "category": "General purpose",
    "gpuNum": 0,
    "hideHardwareSpecs": false,
    "memoryGiB": 32,
    "name": "ml.m5.2xlarge",
    "vcpuNum": 8
   },
   {
    "_defaultOrder": 7,
    "_isFastLaunch": false,
    "category": "General purpose",
    "gpuNum": 0,
    "hideHardwareSpecs": false,
    "memoryGiB": 64,
    "name": "ml.m5.4xlarge",
    "vcpuNum": 16
   },
   {
    "_defaultOrder": 8,
    "_isFastLaunch": false,
    "category": "General purpose",
    "gpuNum": 0,
    "hideHardwareSpecs": false,
    "memoryGiB": 128,
    "name": "ml.m5.8xlarge",
    "vcpuNum": 32
   },
   {
    "_defaultOrder": 9,
    "_isFastLaunch": false,
    "category": "General purpose",
    "gpuNum": 0,
    "hideHardwareSpecs": false,
    "memoryGiB": 192,
    "name": "ml.m5.12xlarge",
    "vcpuNum": 48
   },
   {
    "_defaultOrder": 10,
    "_isFastLaunch": false,
    "category": "General purpose",
    "gpuNum": 0,
    "hideHardwareSpecs": false,
    "memoryGiB": 256,
    "name": "ml.m5.16xlarge",
    "vcpuNum": 64
   },
   {
    "_defaultOrder": 11,
    "_isFastLaunch": false,
    "category": "General purpose",
    "gpuNum": 0,
    "hideHardwareSpecs": false,
    "memoryGiB": 384,
    "name": "ml.m5.24xlarge",
    "vcpuNum": 96
   },
   {
    "_defaultOrder": 12,
    "_isFastLaunch": false,
    "category": "General purpose",
    "gpuNum": 0,
    "hideHardwareSpecs": false,
    "memoryGiB": 8,
    "name": "ml.m5d.large",
    "vcpuNum": 2
   },
   {
    "_defaultOrder": 13,
    "_isFastLaunch": false,
    "category": "General purpose",
    "gpuNum": 0,
    "hideHardwareSpecs": false,
    "memoryGiB": 16,
    "name": "ml.m5d.xlarge",
    "vcpuNum": 4
   },
   {
    "_defaultOrder": 14,
    "_isFastLaunch": false,
    "category": "General purpose",
    "gpuNum": 0,
    "hideHardwareSpecs": false,
    "memoryGiB": 32,
    "name": "ml.m5d.2xlarge",
    "vcpuNum": 8
   },
   {
    "_defaultOrder": 15,
    "_isFastLaunch": false,
    "category": "General purpose",
    "gpuNum": 0,
    "hideHardwareSpecs": false,
    "memoryGiB": 64,
    "name": "ml.m5d.4xlarge",
    "vcpuNum": 16
   },
   {
    "_defaultOrder": 16,
    "_isFastLaunch": false,
    "category": "General purpose",
    "gpuNum": 0,
    "hideHardwareSpecs": false,
    "memoryGiB": 128,
    "name": "ml.m5d.8xlarge",
    "vcpuNum": 32
   },
   {
    "_defaultOrder": 17,
    "_isFastLaunch": false,
    "category": "General purpose",
    "gpuNum": 0,
    "hideHardwareSpecs": false,
    "memoryGiB": 192,
    "name": "ml.m5d.12xlarge",
    "vcpuNum": 48
   },
   {
    "_defaultOrder": 18,
    "_isFastLaunch": false,
    "category": "General purpose",
    "gpuNum": 0,
    "hideHardwareSpecs": false,
    "memoryGiB": 256,
    "name": "ml.m5d.16xlarge",
    "vcpuNum": 64
   },
   {
    "_defaultOrder": 19,
    "_isFastLaunch": false,
    "category": "General purpose",
    "gpuNum": 0,
    "hideHardwareSpecs": false,
    "memoryGiB": 384,
    "name": "ml.m5d.24xlarge",
    "vcpuNum": 96
   },
   {
    "_defaultOrder": 20,
    "_isFastLaunch": false,
    "category": "General purpose",
    "gpuNum": 0,
    "hideHardwareSpecs": true,
    "memoryGiB": 0,
    "name": "ml.geospatial.interactive",
    "supportedImageNames": [
     "sagemaker-geospatial-v1-0"
    ],
    "vcpuNum": 0
   },
   {
    "_defaultOrder": 21,
    "_isFastLaunch": true,
    "category": "Compute optimized",
    "gpuNum": 0,
    "hideHardwareSpecs": false,
    "memoryGiB": 4,
    "name": "ml.c5.large",
    "vcpuNum": 2
   },
   {
    "_defaultOrder": 22,
    "_isFastLaunch": false,
    "category": "Compute optimized",
    "gpuNum": 0,
    "hideHardwareSpecs": false,
    "memoryGiB": 8,
    "name": "ml.c5.xlarge",
    "vcpuNum": 4
   },
   {
    "_defaultOrder": 23,
    "_isFastLaunch": false,
    "category": "Compute optimized",
    "gpuNum": 0,
    "hideHardwareSpecs": false,
    "memoryGiB": 16,
    "name": "ml.c5.2xlarge",
    "vcpuNum": 8
   },
   {
    "_defaultOrder": 24,
    "_isFastLaunch": false,
    "category": "Compute optimized",
    "gpuNum": 0,
    "hideHardwareSpecs": false,
    "memoryGiB": 32,
    "name": "ml.c5.4xlarge",
    "vcpuNum": 16
   },
   {
    "_defaultOrder": 25,
    "_isFastLaunch": false,
    "category": "Compute optimized",
    "gpuNum": 0,
    "hideHardwareSpecs": false,
    "memoryGiB": 72,
    "name": "ml.c5.9xlarge",
    "vcpuNum": 36
   },
   {
    "_defaultOrder": 26,
    "_isFastLaunch": false,
    "category": "Compute optimized",
    "gpuNum": 0,
    "hideHardwareSpecs": false,
    "memoryGiB": 96,
    "name": "ml.c5.12xlarge",
    "vcpuNum": 48
   },
   {
    "_defaultOrder": 27,
    "_isFastLaunch": false,
    "category": "Compute optimized",
    "gpuNum": 0,
    "hideHardwareSpecs": false,
    "memoryGiB": 144,
    "name": "ml.c5.18xlarge",
    "vcpuNum": 72
   },
   {
    "_defaultOrder": 28,
    "_isFastLaunch": false,
    "category": "Compute optimized",
    "gpuNum": 0,
    "hideHardwareSpecs": false,
    "memoryGiB": 192,
    "name": "ml.c5.24xlarge",
    "vcpuNum": 96
   },
   {
    "_defaultOrder": 29,
    "_isFastLaunch": true,
    "category": "Accelerated computing",
    "gpuNum": 1,
    "hideHardwareSpecs": false,
    "memoryGiB": 16,
    "name": "ml.g4dn.xlarge",
    "vcpuNum": 4
   },
   {
    "_defaultOrder": 30,
    "_isFastLaunch": false,
    "category": "Accelerated computing",
    "gpuNum": 1,
    "hideHardwareSpecs": false,
    "memoryGiB": 32,
    "name": "ml.g4dn.2xlarge",
    "vcpuNum": 8
   },
   {
    "_defaultOrder": 31,
    "_isFastLaunch": false,
    "category": "Accelerated computing",
    "gpuNum": 1,
    "hideHardwareSpecs": false,
    "memoryGiB": 64,
    "name": "ml.g4dn.4xlarge",
    "vcpuNum": 16
   },
   {
    "_defaultOrder": 32,
    "_isFastLaunch": false,
    "category": "Accelerated computing",
    "gpuNum": 1,
    "hideHardwareSpecs": false,
    "memoryGiB": 128,
    "name": "ml.g4dn.8xlarge",
    "vcpuNum": 32
   },
   {
    "_defaultOrder": 33,
    "_isFastLaunch": false,
    "category": "Accelerated computing",
    "gpuNum": 4,
    "hideHardwareSpecs": false,
    "memoryGiB": 192,
    "name": "ml.g4dn.12xlarge",
    "vcpuNum": 48
   },
   {
    "_defaultOrder": 34,
    "_isFastLaunch": false,
    "category": "Accelerated computing",
    "gpuNum": 1,
    "hideHardwareSpecs": false,
    "memoryGiB": 256,
    "name": "ml.g4dn.16xlarge",
    "vcpuNum": 64
   },
   {
    "_defaultOrder": 35,
    "_isFastLaunch": false,
    "category": "Accelerated computing",
    "gpuNum": 1,
    "hideHardwareSpecs": false,
    "memoryGiB": 61,
    "name": "ml.p3.2xlarge",
    "vcpuNum": 8
   },
   {
    "_defaultOrder": 36,
    "_isFastLaunch": false,
    "category": "Accelerated computing",
    "gpuNum": 4,
    "hideHardwareSpecs": false,
    "memoryGiB": 244,
    "name": "ml.p3.8xlarge",
    "vcpuNum": 32
   },
   {
    "_defaultOrder": 37,
    "_isFastLaunch": false,
    "category": "Accelerated computing",
    "gpuNum": 8,
    "hideHardwareSpecs": false,
    "memoryGiB": 488,
    "name": "ml.p3.16xlarge",
    "vcpuNum": 64
   },
   {
    "_defaultOrder": 38,
    "_isFastLaunch": false,
    "category": "Accelerated computing",
    "gpuNum": 8,
    "hideHardwareSpecs": false,
    "memoryGiB": 768,
    "name": "ml.p3dn.24xlarge",
    "vcpuNum": 96
   },
   {
    "_defaultOrder": 39,
    "_isFastLaunch": false,
    "category": "Memory Optimized",
    "gpuNum": 0,
    "hideHardwareSpecs": false,
    "memoryGiB": 16,
    "name": "ml.r5.large",
    "vcpuNum": 2
   },
   {
    "_defaultOrder": 40,
    "_isFastLaunch": false,
    "category": "Memory Optimized",
    "gpuNum": 0,
    "hideHardwareSpecs": false,
    "memoryGiB": 32,
    "name": "ml.r5.xlarge",
    "vcpuNum": 4
   },
   {
    "_defaultOrder": 41,
    "_isFastLaunch": false,
    "category": "Memory Optimized",
    "gpuNum": 0,
    "hideHardwareSpecs": false,
    "memoryGiB": 64,
    "name": "ml.r5.2xlarge",
    "vcpuNum": 8
   },
   {
    "_defaultOrder": 42,
    "_isFastLaunch": false,
    "category": "Memory Optimized",
    "gpuNum": 0,
    "hideHardwareSpecs": false,
    "memoryGiB": 128,
    "name": "ml.r5.4xlarge",
    "vcpuNum": 16
   },
   {
    "_defaultOrder": 43,
    "_isFastLaunch": false,
    "category": "Memory Optimized",
    "gpuNum": 0,
    "hideHardwareSpecs": false,
    "memoryGiB": 256,
    "name": "ml.r5.8xlarge",
    "vcpuNum": 32
   },
   {
    "_defaultOrder": 44,
    "_isFastLaunch": false,
    "category": "Memory Optimized",
    "gpuNum": 0,
    "hideHardwareSpecs": false,
    "memoryGiB": 384,
    "name": "ml.r5.12xlarge",
    "vcpuNum": 48
   },
   {
    "_defaultOrder": 45,
    "_isFastLaunch": false,
    "category": "Memory Optimized",
    "gpuNum": 0,
    "hideHardwareSpecs": false,
    "memoryGiB": 512,
    "name": "ml.r5.16xlarge",
    "vcpuNum": 64
   },
   {
    "_defaultOrder": 46,
    "_isFastLaunch": false,
    "category": "Memory Optimized",
    "gpuNum": 0,
    "hideHardwareSpecs": false,
    "memoryGiB": 768,
    "name": "ml.r5.24xlarge",
    "vcpuNum": 96
   },
   {
    "_defaultOrder": 47,
    "_isFastLaunch": false,
    "category": "Accelerated computing",
    "gpuNum": 1,
    "hideHardwareSpecs": false,
    "memoryGiB": 16,
    "name": "ml.g5.xlarge",
    "vcpuNum": 4
   },
   {
    "_defaultOrder": 48,
    "_isFastLaunch": false,
    "category": "Accelerated computing",
    "gpuNum": 1,
    "hideHardwareSpecs": false,
    "memoryGiB": 32,
    "name": "ml.g5.2xlarge",
    "vcpuNum": 8
   },
   {
    "_defaultOrder": 49,
    "_isFastLaunch": false,
    "category": "Accelerated computing",
    "gpuNum": 1,
    "hideHardwareSpecs": false,
    "memoryGiB": 64,
    "name": "ml.g5.4xlarge",
    "vcpuNum": 16
   },
   {
    "_defaultOrder": 50,
    "_isFastLaunch": false,
    "category": "Accelerated computing",
    "gpuNum": 1,
    "hideHardwareSpecs": false,
    "memoryGiB": 128,
    "name": "ml.g5.8xlarge",
    "vcpuNum": 32
   },
   {
    "_defaultOrder": 51,
    "_isFastLaunch": false,
    "category": "Accelerated computing",
    "gpuNum": 1,
    "hideHardwareSpecs": false,
    "memoryGiB": 256,
    "name": "ml.g5.16xlarge",
    "vcpuNum": 64
   },
   {
    "_defaultOrder": 52,
    "_isFastLaunch": false,
    "category": "Accelerated computing",
    "gpuNum": 4,
    "hideHardwareSpecs": false,
    "memoryGiB": 192,
    "name": "ml.g5.12xlarge",
    "vcpuNum": 48
   },
   {
    "_defaultOrder": 53,
    "_isFastLaunch": false,
    "category": "Accelerated computing",
    "gpuNum": 4,
    "hideHardwareSpecs": false,
    "memoryGiB": 384,
    "name": "ml.g5.24xlarge",
    "vcpuNum": 96
   },
   {
    "_defaultOrder": 54,
    "_isFastLaunch": false,
    "category": "Accelerated computing",
    "gpuNum": 8,
    "hideHardwareSpecs": false,
    "memoryGiB": 768,
    "name": "ml.g5.48xlarge",
    "vcpuNum": 192
   },
   {
    "_defaultOrder": 55,
    "_isFastLaunch": false,
    "category": "Accelerated computing",
    "gpuNum": 8,
    "hideHardwareSpecs": false,
    "memoryGiB": 1152,
    "name": "ml.p4d.24xlarge",
    "vcpuNum": 96
   },
   {
    "_defaultOrder": 56,
    "_isFastLaunch": false,
    "category": "Accelerated computing",
    "gpuNum": 8,
    "hideHardwareSpecs": false,
    "memoryGiB": 1152,
    "name": "ml.p4de.24xlarge",
    "vcpuNum": 96
   },
   {
    "_defaultOrder": 57,
    "_isFastLaunch": false,
    "category": "Accelerated computing",
    "gpuNum": 0,
    "hideHardwareSpecs": false,
    "memoryGiB": 32,
    "name": "ml.trn1.2xlarge",
    "vcpuNum": 8
   },
   {
    "_defaultOrder": 58,
    "_isFastLaunch": false,
    "category": "Accelerated computing",
    "gpuNum": 0,
    "hideHardwareSpecs": false,
    "memoryGiB": 512,
    "name": "ml.trn1.32xlarge",
    "vcpuNum": 128
   },
   {
    "_defaultOrder": 59,
    "_isFastLaunch": false,
    "category": "Accelerated computing",
    "gpuNum": 0,
    "hideHardwareSpecs": false,
    "memoryGiB": 512,
    "name": "ml.trn1n.32xlarge",
    "vcpuNum": 128
   }
  ],
  "instance_type": "ml.t3.medium",
  "kernelspec": {
   "display_name": "Python 3 (Data Science 3.0)",
   "language": "python",
   "name": "python3__SAGEMAKER_INTERNAL__arn:aws:sagemaker:us-east-1:081325390199:image/sagemaker-data-science-310-v1"
  },
  "language_info": {
   "codemirror_mode": {
    "name": "ipython",
    "version": 3
   },
   "file_extension": ".py",
   "mimetype": "text/x-python",
   "name": "python",
   "nbconvert_exporter": "python",
   "pygments_lexer": "ipython3",
   "version": "3.10.6"
  }
 },
 "nbformat": 4,
 "nbformat_minor": 5
}
